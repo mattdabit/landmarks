{
 "cells": [
  {
   "cell_type": "code",
   "id": "initial_id",
   "metadata": {
    "collapsed": true
   },
   "source": [
    "import os\n",
    "import torch\n",
    "\n",
    "import numpy as np\n",
    "import pandas as pd\n",
    "import plotly.express as px\n",
    "from plotly.subplots import make_subplots\n"
   ],
   "outputs": [],
   "execution_count": null
  },
  {
   "metadata": {},
   "cell_type": "code",
   "source": [
    "torch.backends.cuda.matmul.allow_tf32 = True\n",
    "torch.backends.cudnn.allow_tf32 = True"
   ],
   "id": "45a8f988882a82a7",
   "outputs": [],
   "execution_count": null
  },
  {
   "metadata": {},
   "cell_type": "code",
   "source": "train_df = pd.read_parquet(\"data/joined_features_all.parquet\")",
   "id": "b89d162ae82cdffb",
   "outputs": [],
   "execution_count": null
  },
  {
   "metadata": {},
   "cell_type": "code",
   "source": "train_df.sample(5)",
   "id": "2099512d436a9df2",
   "outputs": [],
   "execution_count": null
  },
  {
   "metadata": {},
   "cell_type": "code",
   "source": [
    "landmark_counts = train_df['landmark_id'].value_counts()\n",
    "landmark_counts.head()"
   ],
   "id": "903f66ce6d39d382",
   "outputs": [],
   "execution_count": null
  },
  {
   "metadata": {},
   "cell_type": "code",
   "source": [
    "unique_landmarks = train_df['landmark_id'].unique()\n",
    "len(unique_landmarks)"
   ],
   "id": "1fccf7f8a6997b40",
   "outputs": [],
   "execution_count": null
  },
  {
   "metadata": {},
   "cell_type": "markdown",
   "source": "There are 81313 unique landmarks in the dataset.",
   "id": "c86f7339a103b4e0"
  },
  {
   "metadata": {},
   "cell_type": "code",
   "source": [
    "top25 = landmark_counts.head(25)\n",
    "fig = px.bar(\n",
    "    x=top25.index.astype(str),\n",
    "    y=top25.values,\n",
    "    labels={'x': 'Landmark ID', 'y': 'Count'},\n",
    "    title='Top 25 Landmark IDs by Count: 138982 has 3 times as much as next highest landmark'\n",
    ")\n",
    "fig.update_layout(xaxis_tickangle=-45)\n",
    "fig.show()\n",
    "fig.write_image('images/landmark_count.png')"
   ],
   "id": "c520a29f8f3600b8",
   "outputs": [],
   "execution_count": null
  },
  {
   "metadata": {},
   "cell_type": "markdown",
   "source": "The fact that landmark 138982 has 3 times as many images as the next highest landmark is concerning. We should keep an eye on that and may need to reduce the number of samples from that landmark id.",
   "id": "e9d4a7f0258e1f7a"
  },
  {
   "metadata": {},
   "cell_type": "code",
   "source": [
    "fig = px.histogram(\n",
    "    train_df,\n",
    "    x='aspect_ratio',\n",
    "    nbins=20,\n",
    "    labels={'aspect_ratio': 'Aspect Ratio', 'count': 'Count'},\n",
    "    title='Aspect ratio (proportions) is similar for most images'\n",
    ")\n",
    "fig.update_layout(height=1000, width=1600)\n",
    "fig.show()\n",
    "fig.write_image('images/aspect_ratio_histogram.png')"
   ],
   "id": "89ecb6870b2c615",
   "outputs": [],
   "execution_count": null
  },
  {
   "metadata": {},
   "cell_type": "code",
   "source": [
    "\n",
    "fig = make_subplots(\n",
    "    rows=1,\n",
    "    cols=3,\n",
    "    subplot_titles=(\"Mean R vs Mean G\", \"Mean G vs Mean B\", \"Mean R vs Mean B\")\n",
    ")\n",
    "\n",
    "trace_rg = px.scatter(train_df, x='mean_r', y='mean_g').data[0]\n",
    "trace_gb = px.scatter(train_df, x='mean_g', y='mean_b').data[0]\n",
    "trace_rb = px.scatter(train_df, x='mean_r', y='mean_b').data[0]\n",
    "\n",
    "fig.add_trace(trace_rg, row=1, col=1)\n",
    "fig.add_trace(trace_gb, row=1, col=2)\n",
    "fig.add_trace(trace_rb, row=1, col=3)\n",
    "\n",
    "fig.update_xaxes(title_text=\"Mean R\", row=1, col=1)\n",
    "fig.update_yaxes(title_text=\"Mean G\", row=1, col=1)\n",
    "fig.update_xaxes(title_text=\"Mean G\", row=1, col=2)\n",
    "fig.update_yaxes(title_text=\"Mean B\", row=1, col=2)\n",
    "fig.update_xaxes(title_text=\"Mean R\", row=1, col=3)\n",
    "fig.update_yaxes(title_text=\"Mean B\", row=1, col=3)\n",
    "\n",
    "fig.update_layout(\n",
    "    title_text=\"Pairwise relationships among Mean R, Mean G, and Mean B across all images. Looks noisy at first\",\n",
    ")\n",
    "\n",
    "fig.show()\n",
    "fig.write_image('images/color_channel_pairwise_all_landmarks.png', height=500, width=1200)\n"
   ],
   "id": "42b5d2d03f332e45",
   "outputs": [],
   "execution_count": null
  },
  {
   "metadata": {},
   "cell_type": "code",
   "source": [
    "selected_ids = unique_landmarks[:5]\n",
    "five_landmarks_df = train_df[train_df['landmark_id'].isin(selected_ids)].copy()\n"
   ],
   "id": "5c5fdb22fe26ff9a",
   "outputs": [],
   "execution_count": null
  },
  {
   "metadata": {},
   "cell_type": "code",
   "source": [
    "fig = make_subplots(\n",
    "    rows=1,\n",
    "    cols=3,\n",
    "    subplot_titles=(\"Mean R vs Mean G\", \"Mean G vs Mean B\", \"Mean R vs Mean B\")\n",
    ")\n",
    "\n",
    "trace_rg = px.scatter(five_landmarks_df, x='mean_r', y='mean_g', color='landmark_id').data[0]\n",
    "trace_gb = px.scatter(five_landmarks_df, x='mean_g', y='mean_b', color='landmark_id').data[0]\n",
    "trace_rb = px.scatter(five_landmarks_df, x='mean_r', y='mean_b', color='landmark_id').data[0]\n",
    "\n",
    "fig.add_trace(trace_rg, row=1, col=1)\n",
    "fig.add_trace(trace_gb, row=1, col=2)\n",
    "fig.add_trace(trace_rb, row=1, col=3)\n",
    "\n",
    "fig.update_xaxes(title_text=\"Mean R\", row=1, col=1)\n",
    "fig.update_yaxes(title_text=\"Mean G\", row=1, col=1)\n",
    "fig.update_xaxes(title_text=\"Mean G\", row=1, col=2)\n",
    "fig.update_yaxes(title_text=\"Mean B\", row=1, col=2)\n",
    "fig.update_xaxes(title_text=\"Mean R\", row=1, col=3)\n",
    "fig.update_yaxes(title_text=\"Mean B\", row=1, col=3)\n",
    "\n",
    "fig.update_layout(\n",
    "    title_text=\"Color channels across 5 landmarks. Indicates color channels could be leverage for landmark identification\",\n",
    ")\n",
    "\n",
    "fig.show()\n",
    "fig.write_image('images/color_channel_pairwise_5_landmarks.png', height=500, width=1200)"
   ],
   "id": "7d285e3aad216030",
   "outputs": [],
   "execution_count": null
  },
  {
   "metadata": {},
   "cell_type": "code",
   "source": [
    "\n",
    "fig = px.scatter_3d(\n",
    "    five_landmarks_df,\n",
    "    x='mean_r',\n",
    "    y='mean_g',\n",
    "    z='mean_b',\n",
    "    color='landmark_id',\n",
    "    title='3D Scatter of mean RGB for 5 Landmark IDs'\n",
    ")\n",
    "fig.update_layout(width=1200, height=900)\n",
    "fig.show()\n"
   ],
   "id": "e1059789f16ebcfe",
   "outputs": [],
   "execution_count": null
  },
  {
   "metadata": {},
   "cell_type": "code",
   "source": "",
   "id": "3c994fee2c2f15ea",
   "outputs": [],
   "execution_count": null
  }
 ],
 "metadata": {
  "kernelspec": {
   "display_name": "Python 3",
   "language": "python",
   "name": "python3"
  },
  "language_info": {
   "codemirror_mode": {
    "name": "ipython",
    "version": 2
   },
   "file_extension": ".py",
   "mimetype": "text/x-python",
   "name": "python",
   "nbconvert_exporter": "python",
   "pygments_lexer": "ipython2",
   "version": "2.7.6"
  }
 },
 "nbformat": 4,
 "nbformat_minor": 5
}
