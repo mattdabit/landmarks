{
 "cells": [
  {
   "cell_type": "code",
   "id": "initial_id",
   "metadata": {
    "collapsed": true,
    "ExecuteTime": {
     "end_time": "2025-09-01T21:25:06.511376Z",
     "start_time": "2025-09-01T21:25:04.282070Z"
    }
   },
   "source": [
    "import os\n",
    "import torch\n",
    "\n",
    "import numpy as np\n",
    "import pandas as pd\n",
    "import plotly.express as px\n",
    "from plotly.subplots import make_subplots\n"
   ],
   "outputs": [],
   "execution_count": 1
  },
  {
   "metadata": {
    "ExecuteTime": {
     "end_time": "2025-09-01T21:25:06.532224Z",
     "start_time": "2025-09-01T21:25:06.529957Z"
    }
   },
   "cell_type": "code",
   "source": [
    "torch.backends.cuda.matmul.allow_tf32 = True\n",
    "torch.backends.cudnn.allow_tf32 = True"
   ],
   "id": "45a8f988882a82a7",
   "outputs": [],
   "execution_count": 2
  },
  {
   "metadata": {
    "ExecuteTime": {
     "end_time": "2025-09-01T21:25:14.641238Z",
     "start_time": "2025-09-01T21:25:06.580731Z"
    }
   },
   "cell_type": "code",
   "source": "train_df = pd.read_parquet(\"data/joined_features_all.parquet\")",
   "id": "b89d162ae82cdffb",
   "outputs": [],
   "execution_count": 3
  },
  {
   "metadata": {
    "ExecuteTime": {
     "end_time": "2025-09-01T21:25:14.736185Z",
     "start_time": "2025-09-01T21:25:14.692669Z"
    }
   },
   "cell_type": "code",
   "source": "train_df.sample(5)",
   "id": "2099512d436a9df2",
   "outputs": [
    {
     "data": {
      "text/plain": [
       "                       id  landmark_id            image_path  width  height  \\\n",
       "18655    e0157088fb7e6989         2415  e0157088fb7e6989.jpg    800     301   \n",
       "129511   d7baf360d7a81268        16925  d7baf360d7a81268.jpg    800     535   \n",
       "1428711  8de40209c7bc0743       183574  8de40209c7bc0743.jpg    800     531   \n",
       "153289   292cbcdb551fb090        20064  292cbcdb551fb090.jpg    533     800   \n",
       "287909   4fc840158e2d87f6        36748  4fc840158e2d87f6.jpg    800     600   \n",
       "\n",
       "         aspect_ratio                                  mean_rgb      mean_r  \\\n",
       "18655        2.657807  [161.64229651 163.84006645 155.58647841]  161.642297   \n",
       "129511       1.495327  [109.23122897 128.75526636 151.6790771 ]  109.231229   \n",
       "1428711      1.506591  [155.39600753 161.0506662  150.21396657]  155.396008   \n",
       "153289       0.666250  [119.50498827 127.30897983 118.21045028]  119.504988   \n",
       "287909       1.333333  [121.15250833 122.26193333 116.68889375]  121.152508   \n",
       "\n",
       "             mean_g      mean_b          x          y  \\\n",
       "18655    163.840066  155.586478  20.792238  68.182381   \n",
       "129511   128.755266  151.679077 -46.011292 -54.657196   \n",
       "1428711  161.050666  150.213967 -26.586796  72.499077   \n",
       "153289   127.308980  118.210450 -62.145607  27.255575   \n",
       "287909   122.261933  116.688894  53.060154  47.026871   \n",
       "\n",
       "                                      local_binary_pattern  \n",
       "18655    [0.04472176079734219,0.02489202657807309,0.018...  \n",
       "129511   [0.036299065420560744,0.025196261682242992,0.0...  \n",
       "1428711  [0.03875941619585688,0.025143596986817326,0.01...  \n",
       "153289   [0.060046904315197,0.031772983114446526,0.0237...  \n",
       "287909   [0.04049375,0.02191041666666667,0.019291666666...  "
      ],
      "text/html": [
       "<div>\n",
       "<style scoped>\n",
       "    .dataframe tbody tr th:only-of-type {\n",
       "        vertical-align: middle;\n",
       "    }\n",
       "\n",
       "    .dataframe tbody tr th {\n",
       "        vertical-align: top;\n",
       "    }\n",
       "\n",
       "    .dataframe thead th {\n",
       "        text-align: right;\n",
       "    }\n",
       "</style>\n",
       "<table border=\"1\" class=\"dataframe\">\n",
       "  <thead>\n",
       "    <tr style=\"text-align: right;\">\n",
       "      <th></th>\n",
       "      <th>id</th>\n",
       "      <th>landmark_id</th>\n",
       "      <th>image_path</th>\n",
       "      <th>width</th>\n",
       "      <th>height</th>\n",
       "      <th>aspect_ratio</th>\n",
       "      <th>mean_rgb</th>\n",
       "      <th>mean_r</th>\n",
       "      <th>mean_g</th>\n",
       "      <th>mean_b</th>\n",
       "      <th>x</th>\n",
       "      <th>y</th>\n",
       "      <th>local_binary_pattern</th>\n",
       "    </tr>\n",
       "  </thead>\n",
       "  <tbody>\n",
       "    <tr>\n",
       "      <th>18655</th>\n",
       "      <td>e0157088fb7e6989</td>\n",
       "      <td>2415</td>\n",
       "      <td>e0157088fb7e6989.jpg</td>\n",
       "      <td>800</td>\n",
       "      <td>301</td>\n",
       "      <td>2.657807</td>\n",
       "      <td>[161.64229651 163.84006645 155.58647841]</td>\n",
       "      <td>161.642297</td>\n",
       "      <td>163.840066</td>\n",
       "      <td>155.586478</td>\n",
       "      <td>20.792238</td>\n",
       "      <td>68.182381</td>\n",
       "      <td>[0.04472176079734219,0.02489202657807309,0.018...</td>\n",
       "    </tr>\n",
       "    <tr>\n",
       "      <th>129511</th>\n",
       "      <td>d7baf360d7a81268</td>\n",
       "      <td>16925</td>\n",
       "      <td>d7baf360d7a81268.jpg</td>\n",
       "      <td>800</td>\n",
       "      <td>535</td>\n",
       "      <td>1.495327</td>\n",
       "      <td>[109.23122897 128.75526636 151.6790771 ]</td>\n",
       "      <td>109.231229</td>\n",
       "      <td>128.755266</td>\n",
       "      <td>151.679077</td>\n",
       "      <td>-46.011292</td>\n",
       "      <td>-54.657196</td>\n",
       "      <td>[0.036299065420560744,0.025196261682242992,0.0...</td>\n",
       "    </tr>\n",
       "    <tr>\n",
       "      <th>1428711</th>\n",
       "      <td>8de40209c7bc0743</td>\n",
       "      <td>183574</td>\n",
       "      <td>8de40209c7bc0743.jpg</td>\n",
       "      <td>800</td>\n",
       "      <td>531</td>\n",
       "      <td>1.506591</td>\n",
       "      <td>[155.39600753 161.0506662  150.21396657]</td>\n",
       "      <td>155.396008</td>\n",
       "      <td>161.050666</td>\n",
       "      <td>150.213967</td>\n",
       "      <td>-26.586796</td>\n",
       "      <td>72.499077</td>\n",
       "      <td>[0.03875941619585688,0.025143596986817326,0.01...</td>\n",
       "    </tr>\n",
       "    <tr>\n",
       "      <th>153289</th>\n",
       "      <td>292cbcdb551fb090</td>\n",
       "      <td>20064</td>\n",
       "      <td>292cbcdb551fb090.jpg</td>\n",
       "      <td>533</td>\n",
       "      <td>800</td>\n",
       "      <td>0.666250</td>\n",
       "      <td>[119.50498827 127.30897983 118.21045028]</td>\n",
       "      <td>119.504988</td>\n",
       "      <td>127.308980</td>\n",
       "      <td>118.210450</td>\n",
       "      <td>-62.145607</td>\n",
       "      <td>27.255575</td>\n",
       "      <td>[0.060046904315197,0.031772983114446526,0.0237...</td>\n",
       "    </tr>\n",
       "    <tr>\n",
       "      <th>287909</th>\n",
       "      <td>4fc840158e2d87f6</td>\n",
       "      <td>36748</td>\n",
       "      <td>4fc840158e2d87f6.jpg</td>\n",
       "      <td>800</td>\n",
       "      <td>600</td>\n",
       "      <td>1.333333</td>\n",
       "      <td>[121.15250833 122.26193333 116.68889375]</td>\n",
       "      <td>121.152508</td>\n",
       "      <td>122.261933</td>\n",
       "      <td>116.688894</td>\n",
       "      <td>53.060154</td>\n",
       "      <td>47.026871</td>\n",
       "      <td>[0.04049375,0.02191041666666667,0.019291666666...</td>\n",
       "    </tr>\n",
       "  </tbody>\n",
       "</table>\n",
       "</div>"
      ]
     },
     "execution_count": 4,
     "metadata": {},
     "output_type": "execute_result"
    }
   ],
   "execution_count": 4
  },
  {
   "metadata": {
    "ExecuteTime": {
     "end_time": "2025-09-01T21:46:55.343052Z",
     "start_time": "2025-09-01T21:46:55.340349Z"
    }
   },
   "cell_type": "code",
   "source": [
    "# Make local_binary_pattern entries numpy ndarrays\n",
    "def to_ndarray(v):\n",
    "    s = v.strip().strip('[]')\n",
    "    parts = s.replace(',', ' ').split()\n",
    "    return [float(x) for x in parts]"
   ],
   "id": "89e9957efa3dd219",
   "outputs": [],
   "execution_count": 13
  },
  {
   "metadata": {
    "ExecuteTime": {
     "end_time": "2025-09-01T21:47:08.457831Z",
     "start_time": "2025-09-01T21:46:55.984840Z"
    }
   },
   "cell_type": "code",
   "source": "train_df['local_binary_pattern'] = train_df['local_binary_pattern'].apply(to_ndarray)",
   "id": "463829abc4c4ed51",
   "outputs": [],
   "execution_count": 14
  },
  {
   "metadata": {
    "ExecuteTime": {
     "end_time": "2025-09-01T21:25:26.594318Z",
     "start_time": "2025-09-01T21:25:26.572699Z"
    }
   },
   "cell_type": "code",
   "source": [
    "landmark_counts = train_df['landmark_id'].value_counts()\n",
    "landmark_counts.head()"
   ],
   "id": "903f66ce6d39d382",
   "outputs": [
    {
     "data": {
      "text/plain": [
       "landmark_id\n",
       "138982    6272\n",
       "126637    2231\n",
       "20409     1758\n",
       "83144     1741\n",
       "113209    1135\n",
       "Name: count, dtype: int64"
      ]
     },
     "execution_count": 6,
     "metadata": {},
     "output_type": "execute_result"
    }
   ],
   "execution_count": 6
  },
  {
   "metadata": {
    "ExecuteTime": {
     "end_time": "2025-09-01T21:25:26.785985Z",
     "start_time": "2025-09-01T21:25:26.776387Z"
    }
   },
   "cell_type": "code",
   "source": [
    "unique_landmarks = train_df['landmark_id'].unique()\n",
    "len(unique_landmarks)"
   ],
   "id": "1fccf7f8a6997b40",
   "outputs": [
    {
     "data": {
      "text/plain": [
       "81313"
      ]
     },
     "execution_count": 7,
     "metadata": {},
     "output_type": "execute_result"
    }
   ],
   "execution_count": 7
  },
  {
   "metadata": {},
   "cell_type": "markdown",
   "source": "There are 81313 unique landmarks in the dataset.",
   "id": "c86f7339a103b4e0"
  },
  {
   "metadata": {},
   "cell_type": "code",
   "source": [
    "top25 = landmark_counts.head(25)\n",
    "fig = px.bar(\n",
    "    x=top25.index.astype(str),\n",
    "    y=top25.values,\n",
    "    labels={'x': 'Landmark ID', 'y': 'Count'},\n",
    "    title='Top 25 Landmark IDs by Count: 138982 has 3 times as much as next highest landmark'\n",
    ")\n",
    "fig.update_layout(xaxis_tickangle=-45)\n",
    "fig.show()\n",
    "fig.write_image('images/landmark_count.png')"
   ],
   "id": "c520a29f8f3600b8",
   "outputs": [],
   "execution_count": null
  },
  {
   "metadata": {},
   "cell_type": "markdown",
   "source": "The fact that landmark 138982 has 3 times as many images as the next highest landmark is concerning. We should keep an eye on that and may need to reduce the number of samples from that landmark id.",
   "id": "e9d4a7f0258e1f7a"
  },
  {
   "metadata": {},
   "cell_type": "code",
   "source": [
    "fig = px.histogram(\n",
    "    train_df,\n",
    "    x='aspect_ratio',\n",
    "    nbins=20,\n",
    "    labels={'aspect_ratio': 'Aspect Ratio', 'count': 'Count'},\n",
    "    title='Aspect ratio (proportions) is similar for most images'\n",
    ")\n",
    "fig.update_layout(height=1000, width=1600)\n",
    "fig.show()\n",
    "fig.write_image('images/aspect_ratio_histogram.png')"
   ],
   "id": "89ecb6870b2c615",
   "outputs": [],
   "execution_count": null
  },
  {
   "metadata": {},
   "cell_type": "code",
   "source": [
    "\n",
    "fig = make_subplots(\n",
    "    rows=1,\n",
    "    cols=3,\n",
    "    subplot_titles=(\"Mean R vs Mean G\", \"Mean G vs Mean B\", \"Mean R vs Mean B\")\n",
    ")\n",
    "\n",
    "trace_rg = px.scatter(train_df, x='mean_r', y='mean_g').data[0]\n",
    "trace_gb = px.scatter(train_df, x='mean_g', y='mean_b').data[0]\n",
    "trace_rb = px.scatter(train_df, x='mean_r', y='mean_b').data[0]\n",
    "\n",
    "fig.add_trace(trace_rg, row=1, col=1)\n",
    "fig.add_trace(trace_gb, row=1, col=2)\n",
    "fig.add_trace(trace_rb, row=1, col=3)\n",
    "\n",
    "fig.update_xaxes(title_text=\"Mean R\", row=1, col=1)\n",
    "fig.update_yaxes(title_text=\"Mean G\", row=1, col=1)\n",
    "fig.update_xaxes(title_text=\"Mean G\", row=1, col=2)\n",
    "fig.update_yaxes(title_text=\"Mean B\", row=1, col=2)\n",
    "fig.update_xaxes(title_text=\"Mean R\", row=1, col=3)\n",
    "fig.update_yaxes(title_text=\"Mean B\", row=1, col=3)\n",
    "\n",
    "fig.update_layout(\n",
    "    title_text=\"Pairwise relationships among Mean R, Mean G, and Mean B across all images. Looks noisy at first\",\n",
    ")\n",
    "\n",
    "fig.show()\n",
    "fig.write_image('images/color_channel_pairwise_all_landmarks.png', height=500, width=1200)\n"
   ],
   "id": "42b5d2d03f332e45",
   "outputs": [],
   "execution_count": null
  },
  {
   "metadata": {
    "ExecuteTime": {
     "end_time": "2025-09-01T21:47:12.655066Z",
     "start_time": "2025-09-01T21:47:12.646780Z"
    }
   },
   "cell_type": "code",
   "source": [
    "selected_ids = unique_landmarks[:5]\n",
    "five_landmarks_df = train_df[train_df['landmark_id'].isin(selected_ids)].copy()\n"
   ],
   "id": "5c5fdb22fe26ff9a",
   "outputs": [],
   "execution_count": 15
  },
  {
   "metadata": {},
   "cell_type": "code",
   "source": [
    "fig = make_subplots(\n",
    "    rows=1,\n",
    "    cols=3,\n",
    "    subplot_titles=(\"Mean R vs Mean G\", \"Mean G vs Mean B\", \"Mean R vs Mean B\")\n",
    ")\n",
    "\n",
    "trace_rg = px.scatter(five_landmarks_df, x='mean_r', y='mean_g', color='landmark_id').data[0]\n",
    "trace_gb = px.scatter(five_landmarks_df, x='mean_g', y='mean_b', color='landmark_id').data[0]\n",
    "trace_rb = px.scatter(five_landmarks_df, x='mean_r', y='mean_b', color='landmark_id').data[0]\n",
    "\n",
    "fig.add_trace(trace_rg, row=1, col=1)\n",
    "fig.add_trace(trace_gb, row=1, col=2)\n",
    "fig.add_trace(trace_rb, row=1, col=3)\n",
    "\n",
    "fig.update_xaxes(title_text=\"Mean R\", row=1, col=1)\n",
    "fig.update_yaxes(title_text=\"Mean G\", row=1, col=1)\n",
    "fig.update_xaxes(title_text=\"Mean G\", row=1, col=2)\n",
    "fig.update_yaxes(title_text=\"Mean B\", row=1, col=2)\n",
    "fig.update_xaxes(title_text=\"Mean R\", row=1, col=3)\n",
    "fig.update_yaxes(title_text=\"Mean B\", row=1, col=3)\n",
    "\n",
    "fig.update_layout(\n",
    "    title_text=\"Color channels across 5 landmarks. Indicates color channels could be leverage for landmark identification\",\n",
    ")\n",
    "\n",
    "fig.show()\n",
    "fig.write_image('images/color_channel_pairwise_5_landmarks.png', height=500, width=1200)"
   ],
   "id": "7d285e3aad216030",
   "outputs": [],
   "execution_count": null
  },
  {
   "metadata": {},
   "cell_type": "code",
   "source": [
    "\n",
    "fig = px.scatter_3d(\n",
    "    five_landmarks_df,\n",
    "    x='mean_r',\n",
    "    y='mean_g',\n",
    "    z='mean_b',\n",
    "    color='landmark_id',\n",
    "    title='3D Scatter of mean RGB for 5 Landmark IDs'\n",
    ")\n",
    "fig.update_layout(width=1200, height=900)\n",
    "fig.show()\n"
   ],
   "id": "e1059789f16ebcfe",
   "outputs": [],
   "execution_count": null
  },
  {
   "metadata": {
    "ExecuteTime": {
     "end_time": "2025-09-01T21:49:35.699918Z",
     "start_time": "2025-09-01T21:49:35.697620Z"
    }
   },
   "cell_type": "code",
   "source": [
    "def mean_histogram(arrs):\n",
    "    stacked = np.vstack(arrs)\n",
    "    return stacked.mean(axis=0)"
   ],
   "id": "28d8dcd219ef54ca",
   "outputs": [],
   "execution_count": 16
  },
  {
   "metadata": {
    "ExecuteTime": {
     "end_time": "2025-09-01T21:54:45.720597Z",
     "start_time": "2025-09-01T21:54:44.412613Z"
    }
   },
   "cell_type": "code",
   "source": [
    "# Plot the Mean Local Binary Pattern histogram\n",
    "lbp_df = five_landmarks_df.dropna(subset=['local_binary_pattern']).copy()\n",
    "\n",
    "first_hist = lbp_df.iloc[0]['local_binary_pattern']\n",
    "n_bins = len(first_hist)\n",
    "# Get histogram mean grouped by landmark\n",
    "mean_hists = lbp_df.groupby('landmark_id', observed=True)['local_binary_pattern'].apply(mean_histogram)\n",
    "\n",
    "records = []\n",
    "for landmark_id, hist in mean_hists.items():\n",
    "    for i, v in enumerate(hist):\n",
    "        records.append({'landmark_id': landmark_id, 'bin': i, 'value': float(v)})\n",
    "plot_df = pd.DataFrame(records)\n",
    "\n",
    "fig = px.line(\n",
    "    plot_df,\n",
    "    x='bin',\n",
    "    y='value',\n",
    "    color='landmark_id',\n",
    "    markers=True,\n",
    "    labels={'bin': 'Local Binary Pattern Bin', 'value': 'Mean Frequency', 'landmark_id': 'Landmark ID'},\n",
    "    title='Mean Local Binary Pattern Histogram per Landmark. Bin 12 & 13 shows differences texture'\n",
    ")\n",
    "fig.update_layout(width=1200, height=700)\n",
    "fig.show()\n",
    "fig.write_image('images/lbp_mean_histogram_5_landmarks.png')\n"
   ],
   "id": "3c994fee2c2f15ea",
   "outputs": [
    {
     "data": {
      "application/vnd.plotly.v1+json": {
       "data": [
        {
         "hovertemplate": "Landmark ID=1<br>Local Binary Pattern Bin=%{x}<br>Mean Frequency=%{y}<extra></extra>",
         "legendgroup": "1",
         "line": {
          "color": "#636efa",
          "dash": "solid"
         },
         "marker": {
          "symbol": "circle"
         },
         "mode": "lines+markers",
         "name": "1",
         "orientation": "v",
         "showlegend": true,
         "x": {
          "dtype": "i1",
          "bdata": "AAECAwQFBgcICQoLDA0ODxAREhMUFRYXGBk="
         },
         "xaxis": "x",
         "y": {
          "dtype": "f8",
          "bdata": "9JkQxLOerD9cQMGk/fObP315/VWVvpY/TVrnr4nWkD/d62GZLXuIPzrXme7nH4M/tWKH4TqegD8tOj5fJ7CBP3neQ0SJAIM/fqF3t5u8hT/EX5InXXeHP+MCsGXo6o4/8J1CIzxYkj9XilyDOS6bP6LFyweNWYU/GU+wkDtelD9eyIlWOK2DP/RYeDsRb5I/UCM+vidWhT9FOTojxx2HPxOb8cCe6Ik/5exXmdQTkj/7W1gGfe2XPxDnCtA8Fp4/IHk1orEMwj+qqPwyKIPcPw=="
         },
         "yaxis": "y",
         "type": "scatter"
        },
        {
         "hovertemplate": "Landmark ID=7<br>Local Binary Pattern Bin=%{x}<br>Mean Frequency=%{y}<extra></extra>",
         "legendgroup": "7",
         "line": {
          "color": "#EF553B",
          "dash": "solid"
         },
         "marker": {
          "symbol": "circle"
         },
         "mode": "lines+markers",
         "name": "7",
         "orientation": "v",
         "showlegend": true,
         "x": {
          "dtype": "i1",
          "bdata": "AAECAwQFBgcICQoLDA0ODxAREhMUFRYXGBk="
         },
         "xaxis": "x",
         "y": {
          "dtype": "f8",
          "bdata": "L2cZvFq4oD/kGpNI5puXP5hbTv00KZA/wFQJ4v7+hz8q0BzcdUSDP1ndbJba8YA/zd56gZDDfz9dsJgZybuFP+ar8Q9xsoo/0XiieHwzkT9YrRznYYGVP24KBplYtqA/T4gYj7MGqD+BbShu8jasPxjoeRKf55U/kUNKwa42oj8a6WON86GQP4xtRShhs5w/GZBEmZ6Bjz+bxjw3s76OP0hxvbIcao0/akS8IibnkT+uM2su3RKVP8NZQTNQqJo/3i/Md7RJwD8u+3CwsufWPw=="
         },
         "yaxis": "y",
         "type": "scatter"
        },
        {
         "hovertemplate": "Landmark ID=9<br>Local Binary Pattern Bin=%{x}<br>Mean Frequency=%{y}<extra></extra>",
         "legendgroup": "9",
         "line": {
          "color": "#00cc96",
          "dash": "solid"
         },
         "marker": {
          "symbol": "circle"
         },
         "mode": "lines+markers",
         "name": "9",
         "orientation": "v",
         "showlegend": true,
         "x": {
          "dtype": "i1",
          "bdata": "AAECAwQFBgcICQoLDA0ODxAREhMUFRYXGBk="
         },
         "xaxis": "x",
         "y": {
          "dtype": "f8",
          "bdata": "zluidpGnpD/NA/PazwWXP/C/jbbgb5I/qGQ8yUaDij8eaLGHLUWFP2yiUhs1toI/uG9qdKiKgT+NechGq+OFPxadi4wOiYo/Cb16+mw/kD8qZWKQ+2SUPz3iq17k8p4/zlYkXu4qpT8sFyBtzpCmP1qlIKksjJQ/iEzcTTDjnD+vLahBiXKPP4Cq6yfEG5g/mNCjs20Ljj8FFAh7kVeOP1CIW4t6v44/PoXTujjUkj8Wl2mchAyWPwvcFx56v5g/rtDURZILwT8g1GY+7/HXPw=="
         },
         "yaxis": "y",
         "type": "scatter"
        },
        {
         "hovertemplate": "Landmark ID=11<br>Local Binary Pattern Bin=%{x}<br>Mean Frequency=%{y}<extra></extra>",
         "legendgroup": "11",
         "line": {
          "color": "#ab63fa",
          "dash": "solid"
         },
         "marker": {
          "symbol": "circle"
         },
         "mode": "lines+markers",
         "name": "11",
         "orientation": "v",
         "showlegend": true,
         "x": {
          "dtype": "i1",
          "bdata": "AAECAwQFBgcICQoLDA0ODxAREhMUFRYXGBk="
         },
         "xaxis": "x",
         "y": {
          "dtype": "f8",
          "bdata": "BIaoJSuUpz80d4Z604SdP4nooQIropM//6OQTVbSij+AhMLa+pGEP6udsHRfbYE/Fl1099+jfz93ks6krNWCP78r5fnoJ4U/6YXeLsj+iD9dqJK3FhuNP1fU0iuSApY/IJMu+pNloD9p7WphAVqjP5ohuvHl8o0/mqkvrhjMmD/Xz1JKsSuIP8OQTwZMhZM/dDRyse0Jhz8zKopL6jqIPyAKPNBQ7Yg/iWNXF41LkD/UY3R8pr6VPxSqZAzyd54/mjmP1o2Uvj/vACAhNAjcPw=="
         },
         "yaxis": "y",
         "type": "scatter"
        },
        {
         "hovertemplate": "Landmark ID=12<br>Local Binary Pattern Bin=%{x}<br>Mean Frequency=%{y}<extra></extra>",
         "legendgroup": "12",
         "line": {
          "color": "#FFA15A",
          "dash": "solid"
         },
         "marker": {
          "symbol": "circle"
         },
         "mode": "lines+markers",
         "name": "12",
         "orientation": "v",
         "showlegend": true,
         "x": {
          "dtype": "i1",
          "bdata": "AAECAwQFBgcICQoLDA0ODxAREhMUFRYXGBk="
         },
         "xaxis": "x",
         "y": {
          "dtype": "f8",
          "bdata": "qkkPbRknqz984QdKQJ6bP9O15J6cVZY/i4Wa4A7YkD/f2pAaF4yJP1Gtbe+//4Q/YD9wUO6Jgj8rqtLXyzmEPzpYuy2uWIY/WPtbtGarij+k+xDRI/iPPzRrdNZaJJc/pIaOD/+HnT/RwZm2MbOfPx+yhSy1ZZA/VzD3m9yCkz97PzEfQXuIPyybfmwrDZA/DbH0ZvKrhz/IpZ32vFOJP0g1VMdKSYw/FNluytxWkj/hGsVcb8GXP3Oi/lnX35w/Ib9g+ow1uj9UvLToo4vcPw=="
         },
         "yaxis": "y",
         "type": "scatter"
        }
       ],
       "layout": {
        "template": {
         "data": {
          "histogram2dcontour": [
           {
            "type": "histogram2dcontour",
            "colorbar": {
             "outlinewidth": 0,
             "ticks": ""
            },
            "colorscale": [
             [
              0.0,
              "#0d0887"
             ],
             [
              0.1111111111111111,
              "#46039f"
             ],
             [
              0.2222222222222222,
              "#7201a8"
             ],
             [
              0.3333333333333333,
              "#9c179e"
             ],
             [
              0.4444444444444444,
              "#bd3786"
             ],
             [
              0.5555555555555556,
              "#d8576b"
             ],
             [
              0.6666666666666666,
              "#ed7953"
             ],
             [
              0.7777777777777778,
              "#fb9f3a"
             ],
             [
              0.8888888888888888,
              "#fdca26"
             ],
             [
              1.0,
              "#f0f921"
             ]
            ]
           }
          ],
          "choropleth": [
           {
            "type": "choropleth",
            "colorbar": {
             "outlinewidth": 0,
             "ticks": ""
            }
           }
          ],
          "histogram2d": [
           {
            "type": "histogram2d",
            "colorbar": {
             "outlinewidth": 0,
             "ticks": ""
            },
            "colorscale": [
             [
              0.0,
              "#0d0887"
             ],
             [
              0.1111111111111111,
              "#46039f"
             ],
             [
              0.2222222222222222,
              "#7201a8"
             ],
             [
              0.3333333333333333,
              "#9c179e"
             ],
             [
              0.4444444444444444,
              "#bd3786"
             ],
             [
              0.5555555555555556,
              "#d8576b"
             ],
             [
              0.6666666666666666,
              "#ed7953"
             ],
             [
              0.7777777777777778,
              "#fb9f3a"
             ],
             [
              0.8888888888888888,
              "#fdca26"
             ],
             [
              1.0,
              "#f0f921"
             ]
            ]
           }
          ],
          "heatmap": [
           {
            "type": "heatmap",
            "colorbar": {
             "outlinewidth": 0,
             "ticks": ""
            },
            "colorscale": [
             [
              0.0,
              "#0d0887"
             ],
             [
              0.1111111111111111,
              "#46039f"
             ],
             [
              0.2222222222222222,
              "#7201a8"
             ],
             [
              0.3333333333333333,
              "#9c179e"
             ],
             [
              0.4444444444444444,
              "#bd3786"
             ],
             [
              0.5555555555555556,
              "#d8576b"
             ],
             [
              0.6666666666666666,
              "#ed7953"
             ],
             [
              0.7777777777777778,
              "#fb9f3a"
             ],
             [
              0.8888888888888888,
              "#fdca26"
             ],
             [
              1.0,
              "#f0f921"
             ]
            ]
           }
          ],
          "contourcarpet": [
           {
            "type": "contourcarpet",
            "colorbar": {
             "outlinewidth": 0,
             "ticks": ""
            }
           }
          ],
          "contour": [
           {
            "type": "contour",
            "colorbar": {
             "outlinewidth": 0,
             "ticks": ""
            },
            "colorscale": [
             [
              0.0,
              "#0d0887"
             ],
             [
              0.1111111111111111,
              "#46039f"
             ],
             [
              0.2222222222222222,
              "#7201a8"
             ],
             [
              0.3333333333333333,
              "#9c179e"
             ],
             [
              0.4444444444444444,
              "#bd3786"
             ],
             [
              0.5555555555555556,
              "#d8576b"
             ],
             [
              0.6666666666666666,
              "#ed7953"
             ],
             [
              0.7777777777777778,
              "#fb9f3a"
             ],
             [
              0.8888888888888888,
              "#fdca26"
             ],
             [
              1.0,
              "#f0f921"
             ]
            ]
           }
          ],
          "surface": [
           {
            "type": "surface",
            "colorbar": {
             "outlinewidth": 0,
             "ticks": ""
            },
            "colorscale": [
             [
              0.0,
              "#0d0887"
             ],
             [
              0.1111111111111111,
              "#46039f"
             ],
             [
              0.2222222222222222,
              "#7201a8"
             ],
             [
              0.3333333333333333,
              "#9c179e"
             ],
             [
              0.4444444444444444,
              "#bd3786"
             ],
             [
              0.5555555555555556,
              "#d8576b"
             ],
             [
              0.6666666666666666,
              "#ed7953"
             ],
             [
              0.7777777777777778,
              "#fb9f3a"
             ],
             [
              0.8888888888888888,
              "#fdca26"
             ],
             [
              1.0,
              "#f0f921"
             ]
            ]
           }
          ],
          "mesh3d": [
           {
            "type": "mesh3d",
            "colorbar": {
             "outlinewidth": 0,
             "ticks": ""
            }
           }
          ],
          "scatter": [
           {
            "fillpattern": {
             "fillmode": "overlay",
             "size": 10,
             "solidity": 0.2
            },
            "type": "scatter"
           }
          ],
          "parcoords": [
           {
            "type": "parcoords",
            "line": {
             "colorbar": {
              "outlinewidth": 0,
              "ticks": ""
             }
            }
           }
          ],
          "scatterpolargl": [
           {
            "type": "scatterpolargl",
            "marker": {
             "colorbar": {
              "outlinewidth": 0,
              "ticks": ""
             }
            }
           }
          ],
          "bar": [
           {
            "error_x": {
             "color": "#2a3f5f"
            },
            "error_y": {
             "color": "#2a3f5f"
            },
            "marker": {
             "line": {
              "color": "#E5ECF6",
              "width": 0.5
             },
             "pattern": {
              "fillmode": "overlay",
              "size": 10,
              "solidity": 0.2
             }
            },
            "type": "bar"
           }
          ],
          "scattergeo": [
           {
            "type": "scattergeo",
            "marker": {
             "colorbar": {
              "outlinewidth": 0,
              "ticks": ""
             }
            }
           }
          ],
          "scatterpolar": [
           {
            "type": "scatterpolar",
            "marker": {
             "colorbar": {
              "outlinewidth": 0,
              "ticks": ""
             }
            }
           }
          ],
          "histogram": [
           {
            "marker": {
             "pattern": {
              "fillmode": "overlay",
              "size": 10,
              "solidity": 0.2
             }
            },
            "type": "histogram"
           }
          ],
          "scattergl": [
           {
            "type": "scattergl",
            "marker": {
             "colorbar": {
              "outlinewidth": 0,
              "ticks": ""
             }
            }
           }
          ],
          "scatter3d": [
           {
            "type": "scatter3d",
            "line": {
             "colorbar": {
              "outlinewidth": 0,
              "ticks": ""
             }
            },
            "marker": {
             "colorbar": {
              "outlinewidth": 0,
              "ticks": ""
             }
            }
           }
          ],
          "scattermap": [
           {
            "type": "scattermap",
            "marker": {
             "colorbar": {
              "outlinewidth": 0,
              "ticks": ""
             }
            }
           }
          ],
          "scattermapbox": [
           {
            "type": "scattermapbox",
            "marker": {
             "colorbar": {
              "outlinewidth": 0,
              "ticks": ""
             }
            }
           }
          ],
          "scatterternary": [
           {
            "type": "scatterternary",
            "marker": {
             "colorbar": {
              "outlinewidth": 0,
              "ticks": ""
             }
            }
           }
          ],
          "scattercarpet": [
           {
            "type": "scattercarpet",
            "marker": {
             "colorbar": {
              "outlinewidth": 0,
              "ticks": ""
             }
            }
           }
          ],
          "carpet": [
           {
            "aaxis": {
             "endlinecolor": "#2a3f5f",
             "gridcolor": "white",
             "linecolor": "white",
             "minorgridcolor": "white",
             "startlinecolor": "#2a3f5f"
            },
            "baxis": {
             "endlinecolor": "#2a3f5f",
             "gridcolor": "white",
             "linecolor": "white",
             "minorgridcolor": "white",
             "startlinecolor": "#2a3f5f"
            },
            "type": "carpet"
           }
          ],
          "table": [
           {
            "cells": {
             "fill": {
              "color": "#EBF0F8"
             },
             "line": {
              "color": "white"
             }
            },
            "header": {
             "fill": {
              "color": "#C8D4E3"
             },
             "line": {
              "color": "white"
             }
            },
            "type": "table"
           }
          ],
          "barpolar": [
           {
            "marker": {
             "line": {
              "color": "#E5ECF6",
              "width": 0.5
             },
             "pattern": {
              "fillmode": "overlay",
              "size": 10,
              "solidity": 0.2
             }
            },
            "type": "barpolar"
           }
          ],
          "pie": [
           {
            "automargin": true,
            "type": "pie"
           }
          ]
         },
         "layout": {
          "autotypenumbers": "strict",
          "colorway": [
           "#636efa",
           "#EF553B",
           "#00cc96",
           "#ab63fa",
           "#FFA15A",
           "#19d3f3",
           "#FF6692",
           "#B6E880",
           "#FF97FF",
           "#FECB52"
          ],
          "font": {
           "color": "#2a3f5f"
          },
          "hovermode": "closest",
          "hoverlabel": {
           "align": "left"
          },
          "paper_bgcolor": "white",
          "plot_bgcolor": "#E5ECF6",
          "polar": {
           "bgcolor": "#E5ECF6",
           "angularaxis": {
            "gridcolor": "white",
            "linecolor": "white",
            "ticks": ""
           },
           "radialaxis": {
            "gridcolor": "white",
            "linecolor": "white",
            "ticks": ""
           }
          },
          "ternary": {
           "bgcolor": "#E5ECF6",
           "aaxis": {
            "gridcolor": "white",
            "linecolor": "white",
            "ticks": ""
           },
           "baxis": {
            "gridcolor": "white",
            "linecolor": "white",
            "ticks": ""
           },
           "caxis": {
            "gridcolor": "white",
            "linecolor": "white",
            "ticks": ""
           }
          },
          "coloraxis": {
           "colorbar": {
            "outlinewidth": 0,
            "ticks": ""
           }
          },
          "colorscale": {
           "sequential": [
            [
             0.0,
             "#0d0887"
            ],
            [
             0.1111111111111111,
             "#46039f"
            ],
            [
             0.2222222222222222,
             "#7201a8"
            ],
            [
             0.3333333333333333,
             "#9c179e"
            ],
            [
             0.4444444444444444,
             "#bd3786"
            ],
            [
             0.5555555555555556,
             "#d8576b"
            ],
            [
             0.6666666666666666,
             "#ed7953"
            ],
            [
             0.7777777777777778,
             "#fb9f3a"
            ],
            [
             0.8888888888888888,
             "#fdca26"
            ],
            [
             1.0,
             "#f0f921"
            ]
           ],
           "sequentialminus": [
            [
             0.0,
             "#0d0887"
            ],
            [
             0.1111111111111111,
             "#46039f"
            ],
            [
             0.2222222222222222,
             "#7201a8"
            ],
            [
             0.3333333333333333,
             "#9c179e"
            ],
            [
             0.4444444444444444,
             "#bd3786"
            ],
            [
             0.5555555555555556,
             "#d8576b"
            ],
            [
             0.6666666666666666,
             "#ed7953"
            ],
            [
             0.7777777777777778,
             "#fb9f3a"
            ],
            [
             0.8888888888888888,
             "#fdca26"
            ],
            [
             1.0,
             "#f0f921"
            ]
           ],
           "diverging": [
            [
             0,
             "#8e0152"
            ],
            [
             0.1,
             "#c51b7d"
            ],
            [
             0.2,
             "#de77ae"
            ],
            [
             0.3,
             "#f1b6da"
            ],
            [
             0.4,
             "#fde0ef"
            ],
            [
             0.5,
             "#f7f7f7"
            ],
            [
             0.6,
             "#e6f5d0"
            ],
            [
             0.7,
             "#b8e186"
            ],
            [
             0.8,
             "#7fbc41"
            ],
            [
             0.9,
             "#4d9221"
            ],
            [
             1,
             "#276419"
            ]
           ]
          },
          "xaxis": {
           "gridcolor": "white",
           "linecolor": "white",
           "ticks": "",
           "title": {
            "standoff": 15
           },
           "zerolinecolor": "white",
           "automargin": true,
           "zerolinewidth": 2
          },
          "yaxis": {
           "gridcolor": "white",
           "linecolor": "white",
           "ticks": "",
           "title": {
            "standoff": 15
           },
           "zerolinecolor": "white",
           "automargin": true,
           "zerolinewidth": 2
          },
          "scene": {
           "xaxis": {
            "backgroundcolor": "#E5ECF6",
            "gridcolor": "white",
            "linecolor": "white",
            "showbackground": true,
            "ticks": "",
            "zerolinecolor": "white",
            "gridwidth": 2
           },
           "yaxis": {
            "backgroundcolor": "#E5ECF6",
            "gridcolor": "white",
            "linecolor": "white",
            "showbackground": true,
            "ticks": "",
            "zerolinecolor": "white",
            "gridwidth": 2
           },
           "zaxis": {
            "backgroundcolor": "#E5ECF6",
            "gridcolor": "white",
            "linecolor": "white",
            "showbackground": true,
            "ticks": "",
            "zerolinecolor": "white",
            "gridwidth": 2
           }
          },
          "shapedefaults": {
           "line": {
            "color": "#2a3f5f"
           }
          },
          "annotationdefaults": {
           "arrowcolor": "#2a3f5f",
           "arrowhead": 0,
           "arrowwidth": 1
          },
          "geo": {
           "bgcolor": "white",
           "landcolor": "#E5ECF6",
           "subunitcolor": "white",
           "showland": true,
           "showlakes": true,
           "lakecolor": "white"
          },
          "title": {
           "x": 0.05
          },
          "mapbox": {
           "style": "light"
          }
         }
        },
        "xaxis": {
         "anchor": "y",
         "domain": [
          0.0,
          1.0
         ],
         "title": {
          "text": "Local Binary Pattern Bin"
         }
        },
        "yaxis": {
         "anchor": "x",
         "domain": [
          0.0,
          1.0
         ],
         "title": {
          "text": "Mean Frequency"
         }
        },
        "legend": {
         "title": {
          "text": "Landmark ID"
         },
         "tracegroupgap": 0
        },
        "title": {
         "text": "Mean Local Binary Pattern Histogram per Landmark. Bin 12 & 13 shows differences texture"
        },
        "width": 1200,
        "height": 700
       },
       "config": {
        "plotlyServerURL": "https://plot.ly"
       }
      }
     },
     "metadata": {},
     "output_type": "display_data"
    }
   ],
   "execution_count": 21
  },
  {
   "metadata": {},
   "cell_type": "markdown",
   "source": "Local Binary Patterns is a texture descriptor. It does this by comparing a pixel to its neighboring pixels. It captures the intensity of each pixel and compares their intensities. It will assign 1 if the neighboring pixel's intensity is greater than the pixel currently being assessed. Otherwise, LBP will assign 0. The algorithm then combines the binary values of all the neighboring pixels to create a value for the pixel being assessed. It does this for all the pixels in the image to create a binary code representing the texture of the image.",
   "id": "510395be4a54a3d0"
  },
  {
   "metadata": {},
   "cell_type": "code",
   "outputs": [],
   "execution_count": null,
   "source": "",
   "id": "6273cd0c62d2e514"
  }
 ],
 "metadata": {
  "kernelspec": {
   "display_name": "Python 3",
   "language": "python",
   "name": "python3"
  },
  "language_info": {
   "codemirror_mode": {
    "name": "ipython",
    "version": 2
   },
   "file_extension": ".py",
   "mimetype": "text/x-python",
   "name": "python",
   "nbconvert_exporter": "python",
   "pygments_lexer": "ipython2",
   "version": "2.7.6"
  }
 },
 "nbformat": 4,
 "nbformat_minor": 5
}
