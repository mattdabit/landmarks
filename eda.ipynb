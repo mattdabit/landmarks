{
 "cells": [
  {
   "cell_type": "code",
   "id": "initial_id",
   "metadata": {
    "collapsed": true,
    "ExecuteTime": {
     "end_time": "2025-09-07T16:26:15.200662Z",
     "start_time": "2025-09-07T16:26:15.197249Z"
    }
   },
   "source": [
    "import os\n",
    "\n",
    "import torch\n",
    "import torch.nn as nn\n",
    "import torch.optim as optim\n",
    "from torch.utils.data import Dataset, DataLoader\n",
    "import torchvision.transforms as transforms\n",
    "import torch.nn.functional as F\n",
    "import mlflow\n",
    "import time\n",
    "import random\n",
    "import mlflow.sklearn\n",
    "import numpy as np\n",
    "import pandas as pd\n",
    "import plotly.express as px\n",
    "from plotly.subplots import make_subplots\n",
    "from sklearn.ensemble import RandomForestClassifier, GradientBoostingClassifier\n",
    "from sklearn.inspection import permutation_importance\n",
    "from sklearn.linear_model import LogisticRegression\n",
    "from sklearn.model_selection import train_test_split\n",
    "from sklearn.metrics import (\n",
    "    classification_report,\n",
    "    precision_recall_fscore_support,\n",
    "    average_precision_score,\n",
    ")\n",
    "from sklearn.preprocessing import LabelEncoder\n",
    "from sklearn.svm import SVC\n",
    "from torchmetrics import Accuracy\n",
    "from torchmetrics.classification import MulticlassAveragePrecision\n",
    "from warnings import filterwarnings\n",
    "from PIL import Image\n",
    "from torchvision.models import resnet18, resnet50, resnet152\n",
    "\n",
    "filterwarnings(\"ignore\")"
   ],
   "outputs": [],
   "execution_count": 63
  },
  {
   "metadata": {
    "ExecuteTime": {
     "end_time": "2025-09-07T15:33:43.550210Z",
     "start_time": "2025-09-07T15:33:43.547488Z"
    }
   },
   "cell_type": "code",
   "source": [
    "torch.backends.cuda.matmul.allow_tf32 = True\n",
    "torch.backends.cudnn.allow_tf32 = True"
   ],
   "id": "45a8f988882a82a7",
   "outputs": [],
   "execution_count": 2
  },
  {
   "metadata": {},
   "cell_type": "markdown",
   "source": "## Data Analysis",
   "id": "764627fe01d49892"
  },
  {
   "metadata": {
    "ExecuteTime": {
     "end_time": "2025-09-07T15:33:52.407489Z",
     "start_time": "2025-09-07T15:33:43.599813Z"
    }
   },
   "cell_type": "code",
   "source": "train_df = pd.read_parquet(\"data/joined_features_all.parquet\")",
   "id": "b89d162ae82cdffb",
   "outputs": [],
   "execution_count": 3
  },
  {
   "metadata": {
    "ExecuteTime": {
     "end_time": "2025-09-07T15:33:52.490162Z",
     "start_time": "2025-09-07T15:33:52.486093Z"
    }
   },
   "cell_type": "code",
   "source": "train_df.shape",
   "id": "3195717b99eeb9f3",
   "outputs": [
    {
     "data": {
      "text/plain": [
       "(1580470, 13)"
      ]
     },
     "execution_count": 4,
     "metadata": {},
     "output_type": "execute_result"
    }
   ],
   "execution_count": 4
  },
  {
   "metadata": {
    "ExecuteTime": {
     "end_time": "2025-09-02T01:08:14.215346Z",
     "start_time": "2025-09-02T01:08:14.189751Z"
    }
   },
   "cell_type": "code",
   "source": "train_df.sample(5)",
   "id": "2099512d436a9df2",
   "outputs": [
    {
     "data": {
      "text/plain": [
       "                       id  landmark_id            image_path  width  height  \\\n",
       "920607   3b8c42b99264d3b4       119094  3b8c42b99264d3b4.jpg    792     792   \n",
       "1037891  2064f83d3c592c6a       133893  2064f83d3c592c6a.jpg    800     533   \n",
       "351151   2ed2bc8bfd135415        44508  2ed2bc8bfd135415.jpg    800     529   \n",
       "805421   6ba23481fb2b1b6d       103956  6ba23481fb2b1b6d.jpg    800     600   \n",
       "1089456  4b94b041a1f1d809       139706  4b94b041a1f1d809.jpg    800     531   \n",
       "\n",
       "         aspect_ratio                                  mean_rgb      mean_r  \\\n",
       "920607       1.000000  [114.08810325 144.88730742 191.58947748]  114.088103   \n",
       "1037891      1.500938     [70.37304174 59.18637664 43.84110694]   70.373042   \n",
       "351151       1.512287  [117.92771267 131.52782845 130.10267722]  117.927713   \n",
       "805421       1.333333  [ 94.71058542 128.06776667 147.02257292]   94.710585   \n",
       "1089456      1.506591  [109.51996469 107.6682533   76.30091102]  109.519965   \n",
       "\n",
       "             mean_g      mean_b          x          y  \\\n",
       "920607   144.887307  191.589477 -30.021135 -23.728840   \n",
       "1037891   59.186377   43.841107  11.387449   8.295972   \n",
       "351151   131.527828  130.102677 -62.134388  32.012714   \n",
       "805421   128.067767  147.022573 -83.724937   4.614239   \n",
       "1089456  107.668253   76.300911 -37.666107  13.911551   \n",
       "\n",
       "                                      local_binary_pattern  \n",
       "920607   [0.022301614631160087,0.013426563615957555,0.0...  \n",
       "1037891  [0.011930112570356474,0.009090056285178236,0.0...  \n",
       "351151   [0.04900756143667297,0.021512287334593573,0.02...  \n",
       "805421   [0.03969375,0.024647916666666665,0.01839791666...  \n",
       "1089456  [0.05657485875706215,0.03700329566854991,0.022...  "
      ],
      "text/html": [
       "<div>\n",
       "<style scoped>\n",
       "    .dataframe tbody tr th:only-of-type {\n",
       "        vertical-align: middle;\n",
       "    }\n",
       "\n",
       "    .dataframe tbody tr th {\n",
       "        vertical-align: top;\n",
       "    }\n",
       "\n",
       "    .dataframe thead th {\n",
       "        text-align: right;\n",
       "    }\n",
       "</style>\n",
       "<table border=\"1\" class=\"dataframe\">\n",
       "  <thead>\n",
       "    <tr style=\"text-align: right;\">\n",
       "      <th></th>\n",
       "      <th>id</th>\n",
       "      <th>landmark_id</th>\n",
       "      <th>image_path</th>\n",
       "      <th>width</th>\n",
       "      <th>height</th>\n",
       "      <th>aspect_ratio</th>\n",
       "      <th>mean_rgb</th>\n",
       "      <th>mean_r</th>\n",
       "      <th>mean_g</th>\n",
       "      <th>mean_b</th>\n",
       "      <th>x</th>\n",
       "      <th>y</th>\n",
       "      <th>local_binary_pattern</th>\n",
       "    </tr>\n",
       "  </thead>\n",
       "  <tbody>\n",
       "    <tr>\n",
       "      <th>920607</th>\n",
       "      <td>3b8c42b99264d3b4</td>\n",
       "      <td>119094</td>\n",
       "      <td>3b8c42b99264d3b4.jpg</td>\n",
       "      <td>792</td>\n",
       "      <td>792</td>\n",
       "      <td>1.000000</td>\n",
       "      <td>[114.08810325 144.88730742 191.58947748]</td>\n",
       "      <td>114.088103</td>\n",
       "      <td>144.887307</td>\n",
       "      <td>191.589477</td>\n",
       "      <td>-30.021135</td>\n",
       "      <td>-23.728840</td>\n",
       "      <td>[0.022301614631160087,0.013426563615957555,0.0...</td>\n",
       "    </tr>\n",
       "    <tr>\n",
       "      <th>1037891</th>\n",
       "      <td>2064f83d3c592c6a</td>\n",
       "      <td>133893</td>\n",
       "      <td>2064f83d3c592c6a.jpg</td>\n",
       "      <td>800</td>\n",
       "      <td>533</td>\n",
       "      <td>1.500938</td>\n",
       "      <td>[70.37304174 59.18637664 43.84110694]</td>\n",
       "      <td>70.373042</td>\n",
       "      <td>59.186377</td>\n",
       "      <td>43.841107</td>\n",
       "      <td>11.387449</td>\n",
       "      <td>8.295972</td>\n",
       "      <td>[0.011930112570356474,0.009090056285178236,0.0...</td>\n",
       "    </tr>\n",
       "    <tr>\n",
       "      <th>351151</th>\n",
       "      <td>2ed2bc8bfd135415</td>\n",
       "      <td>44508</td>\n",
       "      <td>2ed2bc8bfd135415.jpg</td>\n",
       "      <td>800</td>\n",
       "      <td>529</td>\n",
       "      <td>1.512287</td>\n",
       "      <td>[117.92771267 131.52782845 130.10267722]</td>\n",
       "      <td>117.927713</td>\n",
       "      <td>131.527828</td>\n",
       "      <td>130.102677</td>\n",
       "      <td>-62.134388</td>\n",
       "      <td>32.012714</td>\n",
       "      <td>[0.04900756143667297,0.021512287334593573,0.02...</td>\n",
       "    </tr>\n",
       "    <tr>\n",
       "      <th>805421</th>\n",
       "      <td>6ba23481fb2b1b6d</td>\n",
       "      <td>103956</td>\n",
       "      <td>6ba23481fb2b1b6d.jpg</td>\n",
       "      <td>800</td>\n",
       "      <td>600</td>\n",
       "      <td>1.333333</td>\n",
       "      <td>[ 94.71058542 128.06776667 147.02257292]</td>\n",
       "      <td>94.710585</td>\n",
       "      <td>128.067767</td>\n",
       "      <td>147.022573</td>\n",
       "      <td>-83.724937</td>\n",
       "      <td>4.614239</td>\n",
       "      <td>[0.03969375,0.024647916666666665,0.01839791666...</td>\n",
       "    </tr>\n",
       "    <tr>\n",
       "      <th>1089456</th>\n",
       "      <td>4b94b041a1f1d809</td>\n",
       "      <td>139706</td>\n",
       "      <td>4b94b041a1f1d809.jpg</td>\n",
       "      <td>800</td>\n",
       "      <td>531</td>\n",
       "      <td>1.506591</td>\n",
       "      <td>[109.51996469 107.6682533   76.30091102]</td>\n",
       "      <td>109.519965</td>\n",
       "      <td>107.668253</td>\n",
       "      <td>76.300911</td>\n",
       "      <td>-37.666107</td>\n",
       "      <td>13.911551</td>\n",
       "      <td>[0.05657485875706215,0.03700329566854991,0.022...</td>\n",
       "    </tr>\n",
       "  </tbody>\n",
       "</table>\n",
       "</div>"
      ]
     },
     "execution_count": 4,
     "metadata": {},
     "output_type": "execute_result"
    }
   ],
   "execution_count": 4
  },
  {
   "metadata": {
    "ExecuteTime": {
     "end_time": "2025-09-07T15:33:52.564671Z",
     "start_time": "2025-09-07T15:33:52.561935Z"
    }
   },
   "cell_type": "code",
   "source": [
    "# Make local_binary_pattern entries numpy ndarrays\n",
    "def to_ndarray(v):\n",
    "    s = v.strip().strip(\"[]\")\n",
    "    parts = s.replace(\",\", \" \").split()\n",
    "    return [float(x) for x in parts]"
   ],
   "id": "89e9957efa3dd219",
   "outputs": [],
   "execution_count": 5
  },
  {
   "metadata": {
    "ExecuteTime": {
     "end_time": "2025-09-07T15:34:04.481343Z",
     "start_time": "2025-09-07T15:33:52.610777Z"
    }
   },
   "cell_type": "code",
   "source": [
    "train_df[\"local_binary_pattern\"] = train_df[\"local_binary_pattern\"].apply(to_ndarray)"
   ],
   "id": "463829abc4c4ed51",
   "outputs": [],
   "execution_count": 6
  },
  {
   "metadata": {
    "ExecuteTime": {
     "end_time": "2025-09-07T15:34:04.763033Z",
     "start_time": "2025-09-07T15:34:04.533534Z"
    }
   },
   "cell_type": "code",
   "source": [
    "train_df[\"landmark_id\"] = train_df[\"landmark_id\"].astype(str)"
   ],
   "id": "5e717976f3d7154a",
   "outputs": [],
   "execution_count": 7
  },
  {
   "metadata": {
    "ExecuteTime": {
     "end_time": "2025-09-07T15:34:04.770894Z",
     "start_time": "2025-09-07T15:34:04.768566Z"
    }
   },
   "cell_type": "code",
   "source": [
    "def to_image_path(dir, id):\n",
    "    return f\"data/{dir}/{id[0]}/{id[1]}/{id[2]}/{id}.jpg\"\n",
    "\n",
    "\n",
    "def train_image_path(id):\n",
    "    return to_image_path(\"train\", id)\n",
    "\n",
    "\n",
    "def test_image_path(id):\n",
    "    return to_image_path(\"test\", id)\n",
    "\n",
    "\n",
    "def index_image_path(id):\n",
    "    return to_image_path(\"index\", id)"
   ],
   "id": "36a535f31371c319",
   "outputs": [],
   "execution_count": 8
  },
  {
   "metadata": {
    "ExecuteTime": {
     "end_time": "2025-09-07T15:34:05.170560Z",
     "start_time": "2025-09-07T15:34:04.818856Z"
    }
   },
   "cell_type": "code",
   "source": [
    "train_df[\"image_path\"] = train_df[\"id\"].apply(train_image_path)\n",
    "train_df"
   ],
   "id": "50261e2d8bf481a5",
   "outputs": [
    {
     "data": {
      "text/plain": [
       "                       id landmark_id                             image_path  \\\n",
       "0        17660ef415d37059           1  data/train/1/7/6/17660ef415d37059.jpg   \n",
       "1        92b6290d571448f6           1  data/train/9/2/b/92b6290d571448f6.jpg   \n",
       "2        cd41bf948edc0340           1  data/train/c/d/4/cd41bf948edc0340.jpg   \n",
       "3        fb09f1e98c6d2f70           1  data/train/f/b/0/fb09f1e98c6d2f70.jpg   \n",
       "4        25c9dfc7ea69838d           7  data/train/2/5/c/25c9dfc7ea69838d.jpg   \n",
       "...                   ...         ...                                    ...   \n",
       "1580465  72c3b1c367e3d559      203092  data/train/7/2/c/72c3b1c367e3d559.jpg   \n",
       "1580466  7a6a2d9ea92684a6      203092  data/train/7/a/6/7a6a2d9ea92684a6.jpg   \n",
       "1580467  9401fad4c497e1f9      203092  data/train/9/4/0/9401fad4c497e1f9.jpg   \n",
       "1580468  aacc960c9a228b5f      203092  data/train/a/a/c/aacc960c9a228b5f.jpg   \n",
       "1580469  d9e338c530dca106      203092  data/train/d/9/e/d9e338c530dca106.jpg   \n",
       "\n",
       "         width  height  aspect_ratio  \\\n",
       "0          533     800      0.666250   \n",
       "1          534     800      0.667500   \n",
       "2          800     512      1.562500   \n",
       "3          532     800      0.665000   \n",
       "4          800     600      1.333333   \n",
       "...        ...     ...           ...   \n",
       "1580465    800     533      1.500938   \n",
       "1580466    800     532      1.503759   \n",
       "1580467    800     533      1.500938   \n",
       "1580468    800     533      1.500938   \n",
       "1580469    800     533      1.500938   \n",
       "\n",
       "                                         mean_rgb      mean_r      mean_g  \\\n",
       "0        [126.00759381 119.0244606  113.26428471]  126.007594  119.024461   \n",
       "1           [97.5096559  93.19100421 86.4288764 ]   97.509656   93.191004   \n",
       "2           [89.43367188 83.05516602 74.40758057]   89.433672   83.055166   \n",
       "3        [107.91263863 106.76824483 109.26745771]  107.912639  106.768245   \n",
       "4        [132.4216875  137.05765    144.99947083]  132.421687  137.057650   \n",
       "...                                           ...         ...         ...   \n",
       "1580465  [128.88117026 127.38813086 116.54751407]  128.881170  127.388131   \n",
       "1580466  [127.55681156 124.83408835 114.69496711]  127.556812  124.834088   \n",
       "1580467  [129.93018058 130.93818246 127.94207083]  129.930181  130.938182   \n",
       "1580468  [142.47123358 142.97529784 136.52950516]  142.471234  142.975298   \n",
       "1580469  [134.86594512 139.74956848 135.42046435]  134.865945  139.749568   \n",
       "\n",
       "             mean_b          x          y  \\\n",
       "0        113.264285   6.526572 -59.742741   \n",
       "1         86.428876  14.416226 -57.622620   \n",
       "2         74.407581   8.051970 -53.929276   \n",
       "3        109.267458   4.627127 -54.376423   \n",
       "4        144.999471  -8.277364 -25.763720   \n",
       "...             ...        ...        ...   \n",
       "1580465  116.547514   7.850999  29.970839   \n",
       "1580466  114.694967  -0.866286  31.105888   \n",
       "1580467  127.942071 -10.209307  -1.973596   \n",
       "1580468  136.529505  70.599495  50.996376   \n",
       "1580469  135.420464 -47.453114 -27.294441   \n",
       "\n",
       "                                      local_binary_pattern  \n",
       "0        [0.05229596622889306, 0.027049718574108816, 0....  \n",
       "1        [0.06176498127340824, 0.027186329588014983, 0....  \n",
       "2        [0.05924560546875, 0.03013427734375, 0.0246411...  \n",
       "3        [0.050286654135338345, 0.02482142857142857, 0....  \n",
       "4        [0.036810416666666665, 0.022747916666666666, 0...  \n",
       "...                                                    ...  \n",
       "1580465  [0.049305816135084425, 0.03048780487804878, 0....  \n",
       "1580466  [0.04551691729323308, 0.025406484962406016, 0....  \n",
       "1580467  [0.039880393996247654, 0.023184803001876173, 0...  \n",
       "1580468  [0.03226547842401501, 0.020316604127579737, 0....  \n",
       "1580469  [0.04604127579737336, 0.025668386491557223, 0....  \n",
       "\n",
       "[1580470 rows x 13 columns]"
      ],
      "text/html": [
       "<div>\n",
       "<style scoped>\n",
       "    .dataframe tbody tr th:only-of-type {\n",
       "        vertical-align: middle;\n",
       "    }\n",
       "\n",
       "    .dataframe tbody tr th {\n",
       "        vertical-align: top;\n",
       "    }\n",
       "\n",
       "    .dataframe thead th {\n",
       "        text-align: right;\n",
       "    }\n",
       "</style>\n",
       "<table border=\"1\" class=\"dataframe\">\n",
       "  <thead>\n",
       "    <tr style=\"text-align: right;\">\n",
       "      <th></th>\n",
       "      <th>id</th>\n",
       "      <th>landmark_id</th>\n",
       "      <th>image_path</th>\n",
       "      <th>width</th>\n",
       "      <th>height</th>\n",
       "      <th>aspect_ratio</th>\n",
       "      <th>mean_rgb</th>\n",
       "      <th>mean_r</th>\n",
       "      <th>mean_g</th>\n",
       "      <th>mean_b</th>\n",
       "      <th>x</th>\n",
       "      <th>y</th>\n",
       "      <th>local_binary_pattern</th>\n",
       "    </tr>\n",
       "  </thead>\n",
       "  <tbody>\n",
       "    <tr>\n",
       "      <th>0</th>\n",
       "      <td>17660ef415d37059</td>\n",
       "      <td>1</td>\n",
       "      <td>data/train/1/7/6/17660ef415d37059.jpg</td>\n",
       "      <td>533</td>\n",
       "      <td>800</td>\n",
       "      <td>0.666250</td>\n",
       "      <td>[126.00759381 119.0244606  113.26428471]</td>\n",
       "      <td>126.007594</td>\n",
       "      <td>119.024461</td>\n",
       "      <td>113.264285</td>\n",
       "      <td>6.526572</td>\n",
       "      <td>-59.742741</td>\n",
       "      <td>[0.05229596622889306, 0.027049718574108816, 0....</td>\n",
       "    </tr>\n",
       "    <tr>\n",
       "      <th>1</th>\n",
       "      <td>92b6290d571448f6</td>\n",
       "      <td>1</td>\n",
       "      <td>data/train/9/2/b/92b6290d571448f6.jpg</td>\n",
       "      <td>534</td>\n",
       "      <td>800</td>\n",
       "      <td>0.667500</td>\n",
       "      <td>[97.5096559  93.19100421 86.4288764 ]</td>\n",
       "      <td>97.509656</td>\n",
       "      <td>93.191004</td>\n",
       "      <td>86.428876</td>\n",
       "      <td>14.416226</td>\n",
       "      <td>-57.622620</td>\n",
       "      <td>[0.06176498127340824, 0.027186329588014983, 0....</td>\n",
       "    </tr>\n",
       "    <tr>\n",
       "      <th>2</th>\n",
       "      <td>cd41bf948edc0340</td>\n",
       "      <td>1</td>\n",
       "      <td>data/train/c/d/4/cd41bf948edc0340.jpg</td>\n",
       "      <td>800</td>\n",
       "      <td>512</td>\n",
       "      <td>1.562500</td>\n",
       "      <td>[89.43367188 83.05516602 74.40758057]</td>\n",
       "      <td>89.433672</td>\n",
       "      <td>83.055166</td>\n",
       "      <td>74.407581</td>\n",
       "      <td>8.051970</td>\n",
       "      <td>-53.929276</td>\n",
       "      <td>[0.05924560546875, 0.03013427734375, 0.0246411...</td>\n",
       "    </tr>\n",
       "    <tr>\n",
       "      <th>3</th>\n",
       "      <td>fb09f1e98c6d2f70</td>\n",
       "      <td>1</td>\n",
       "      <td>data/train/f/b/0/fb09f1e98c6d2f70.jpg</td>\n",
       "      <td>532</td>\n",
       "      <td>800</td>\n",
       "      <td>0.665000</td>\n",
       "      <td>[107.91263863 106.76824483 109.26745771]</td>\n",
       "      <td>107.912639</td>\n",
       "      <td>106.768245</td>\n",
       "      <td>109.267458</td>\n",
       "      <td>4.627127</td>\n",
       "      <td>-54.376423</td>\n",
       "      <td>[0.050286654135338345, 0.02482142857142857, 0....</td>\n",
       "    </tr>\n",
       "    <tr>\n",
       "      <th>4</th>\n",
       "      <td>25c9dfc7ea69838d</td>\n",
       "      <td>7</td>\n",
       "      <td>data/train/2/5/c/25c9dfc7ea69838d.jpg</td>\n",
       "      <td>800</td>\n",
       "      <td>600</td>\n",
       "      <td>1.333333</td>\n",
       "      <td>[132.4216875  137.05765    144.99947083]</td>\n",
       "      <td>132.421687</td>\n",
       "      <td>137.057650</td>\n",
       "      <td>144.999471</td>\n",
       "      <td>-8.277364</td>\n",
       "      <td>-25.763720</td>\n",
       "      <td>[0.036810416666666665, 0.022747916666666666, 0...</td>\n",
       "    </tr>\n",
       "    <tr>\n",
       "      <th>...</th>\n",
       "      <td>...</td>\n",
       "      <td>...</td>\n",
       "      <td>...</td>\n",
       "      <td>...</td>\n",
       "      <td>...</td>\n",
       "      <td>...</td>\n",
       "      <td>...</td>\n",
       "      <td>...</td>\n",
       "      <td>...</td>\n",
       "      <td>...</td>\n",
       "      <td>...</td>\n",
       "      <td>...</td>\n",
       "      <td>...</td>\n",
       "    </tr>\n",
       "    <tr>\n",
       "      <th>1580465</th>\n",
       "      <td>72c3b1c367e3d559</td>\n",
       "      <td>203092</td>\n",
       "      <td>data/train/7/2/c/72c3b1c367e3d559.jpg</td>\n",
       "      <td>800</td>\n",
       "      <td>533</td>\n",
       "      <td>1.500938</td>\n",
       "      <td>[128.88117026 127.38813086 116.54751407]</td>\n",
       "      <td>128.881170</td>\n",
       "      <td>127.388131</td>\n",
       "      <td>116.547514</td>\n",
       "      <td>7.850999</td>\n",
       "      <td>29.970839</td>\n",
       "      <td>[0.049305816135084425, 0.03048780487804878, 0....</td>\n",
       "    </tr>\n",
       "    <tr>\n",
       "      <th>1580466</th>\n",
       "      <td>7a6a2d9ea92684a6</td>\n",
       "      <td>203092</td>\n",
       "      <td>data/train/7/a/6/7a6a2d9ea92684a6.jpg</td>\n",
       "      <td>800</td>\n",
       "      <td>532</td>\n",
       "      <td>1.503759</td>\n",
       "      <td>[127.55681156 124.83408835 114.69496711]</td>\n",
       "      <td>127.556812</td>\n",
       "      <td>124.834088</td>\n",
       "      <td>114.694967</td>\n",
       "      <td>-0.866286</td>\n",
       "      <td>31.105888</td>\n",
       "      <td>[0.04551691729323308, 0.025406484962406016, 0....</td>\n",
       "    </tr>\n",
       "    <tr>\n",
       "      <th>1580467</th>\n",
       "      <td>9401fad4c497e1f9</td>\n",
       "      <td>203092</td>\n",
       "      <td>data/train/9/4/0/9401fad4c497e1f9.jpg</td>\n",
       "      <td>800</td>\n",
       "      <td>533</td>\n",
       "      <td>1.500938</td>\n",
       "      <td>[129.93018058 130.93818246 127.94207083]</td>\n",
       "      <td>129.930181</td>\n",
       "      <td>130.938182</td>\n",
       "      <td>127.942071</td>\n",
       "      <td>-10.209307</td>\n",
       "      <td>-1.973596</td>\n",
       "      <td>[0.039880393996247654, 0.023184803001876173, 0...</td>\n",
       "    </tr>\n",
       "    <tr>\n",
       "      <th>1580468</th>\n",
       "      <td>aacc960c9a228b5f</td>\n",
       "      <td>203092</td>\n",
       "      <td>data/train/a/a/c/aacc960c9a228b5f.jpg</td>\n",
       "      <td>800</td>\n",
       "      <td>533</td>\n",
       "      <td>1.500938</td>\n",
       "      <td>[142.47123358 142.97529784 136.52950516]</td>\n",
       "      <td>142.471234</td>\n",
       "      <td>142.975298</td>\n",
       "      <td>136.529505</td>\n",
       "      <td>70.599495</td>\n",
       "      <td>50.996376</td>\n",
       "      <td>[0.03226547842401501, 0.020316604127579737, 0....</td>\n",
       "    </tr>\n",
       "    <tr>\n",
       "      <th>1580469</th>\n",
       "      <td>d9e338c530dca106</td>\n",
       "      <td>203092</td>\n",
       "      <td>data/train/d/9/e/d9e338c530dca106.jpg</td>\n",
       "      <td>800</td>\n",
       "      <td>533</td>\n",
       "      <td>1.500938</td>\n",
       "      <td>[134.86594512 139.74956848 135.42046435]</td>\n",
       "      <td>134.865945</td>\n",
       "      <td>139.749568</td>\n",
       "      <td>135.420464</td>\n",
       "      <td>-47.453114</td>\n",
       "      <td>-27.294441</td>\n",
       "      <td>[0.04604127579737336, 0.025668386491557223, 0....</td>\n",
       "    </tr>\n",
       "  </tbody>\n",
       "</table>\n",
       "<p>1580470 rows × 13 columns</p>\n",
       "</div>"
      ]
     },
     "execution_count": 9,
     "metadata": {},
     "output_type": "execute_result"
    }
   ],
   "execution_count": 9
  },
  {
   "metadata": {
    "ExecuteTime": {
     "end_time": "2025-09-02T05:08:17.733717Z",
     "start_time": "2025-09-02T05:08:17.672452Z"
    }
   },
   "cell_type": "code",
   "source": [
    "landmark_counts = train_df[\"landmark_id\"].value_counts()\n",
    "landmark_counts.head()"
   ],
   "id": "903f66ce6d39d382",
   "outputs": [
    {
     "data": {
      "text/plain": [
       "landmark_id\n",
       "138982    6272\n",
       "126637    2231\n",
       "20409     1758\n",
       "83144     1741\n",
       "113209    1135\n",
       "Name: count, dtype: int64"
      ]
     },
     "execution_count": 119,
     "metadata": {},
     "output_type": "execute_result"
    }
   ],
   "execution_count": 119
  },
  {
   "metadata": {
    "ExecuteTime": {
     "end_time": "2025-09-07T15:34:05.235754Z",
     "start_time": "2025-09-07T15:34:05.181649Z"
    }
   },
   "cell_type": "code",
   "source": [
    "unique_landmarks = train_df[\"landmark_id\"].unique()\n",
    "len(unique_landmarks)"
   ],
   "id": "1fccf7f8a6997b40",
   "outputs": [
    {
     "data": {
      "text/plain": [
       "81313"
      ]
     },
     "execution_count": 10,
     "metadata": {},
     "output_type": "execute_result"
    }
   ],
   "execution_count": 10
  },
  {
   "metadata": {},
   "cell_type": "markdown",
   "source": "There are 81313 unique landmarks in the dataset.",
   "id": "c86f7339a103b4e0"
  },
  {
   "metadata": {
    "ExecuteTime": {
     "end_time": "2025-09-02T05:08:20.864195Z",
     "start_time": "2025-09-02T05:08:18.908075Z"
    }
   },
   "cell_type": "code",
   "source": [
    "top25 = landmark_counts.head(25)\n",
    "fig = px.bar(\n",
    "    x=top25.index.astype(str),\n",
    "    y=top25.values,\n",
    "    labels={\"x\": \"Landmark ID\", \"y\": \"Count\"},\n",
    "    title=\"Top 25 Landmark IDs by Count: 138982 has 3 times as much as next highest landmark\",\n",
    ")\n",
    "fig.update_layout(xaxis_tickangle=-45)\n",
    "fig.show()\n",
    "fig.write_image(\"images/landmark_count.png\", height=500, width=1200)"
   ],
   "id": "c520a29f8f3600b8",
   "outputs": [
    {
     "data": {
      "application/vnd.plotly.v1+json": {
       "data": [
        {
         "hovertemplate": "Landmark ID=%{x}<br>Count=%{y}<extra></extra>",
         "legendgroup": "",
         "marker": {
          "color": "#636efa",
          "pattern": {
           "shape": ""
          }
         },
         "name": "",
         "orientation": "v",
         "showlegend": false,
         "textposition": "auto",
         "x": [
          "138982",
          "126637",
          "20409",
          "83144",
          "113209",
          "177870",
          "194914",
          "149980",
          "139894",
          "1924",
          "176528",
          "9070",
          "46705",
          "168098",
          "20120",
          "161902",
          "36748",
          "120734",
          "176018",
          "10419",
          "45428",
          "14915",
          "41648",
          "165596",
          "47378"
         ],
         "xaxis": "x",
         "y": {
          "dtype": "i2",
          "bdata": "gBi3CN4GzQZvBEAEMQTLA8YDsAOYA4QDeAN4A3gDXQNHAzQDNAMIA/UC8gLmAt4C2wI="
         },
         "yaxis": "y",
         "type": "bar"
        }
       ],
       "layout": {
        "template": {
         "data": {
          "histogram2dcontour": [
           {
            "type": "histogram2dcontour",
            "colorbar": {
             "outlinewidth": 0,
             "ticks": ""
            },
            "colorscale": [
             [
              0.0,
              "#0d0887"
             ],
             [
              0.1111111111111111,
              "#46039f"
             ],
             [
              0.2222222222222222,
              "#7201a8"
             ],
             [
              0.3333333333333333,
              "#9c179e"
             ],
             [
              0.4444444444444444,
              "#bd3786"
             ],
             [
              0.5555555555555556,
              "#d8576b"
             ],
             [
              0.6666666666666666,
              "#ed7953"
             ],
             [
              0.7777777777777778,
              "#fb9f3a"
             ],
             [
              0.8888888888888888,
              "#fdca26"
             ],
             [
              1.0,
              "#f0f921"
             ]
            ]
           }
          ],
          "choropleth": [
           {
            "type": "choropleth",
            "colorbar": {
             "outlinewidth": 0,
             "ticks": ""
            }
           }
          ],
          "histogram2d": [
           {
            "type": "histogram2d",
            "colorbar": {
             "outlinewidth": 0,
             "ticks": ""
            },
            "colorscale": [
             [
              0.0,
              "#0d0887"
             ],
             [
              0.1111111111111111,
              "#46039f"
             ],
             [
              0.2222222222222222,
              "#7201a8"
             ],
             [
              0.3333333333333333,
              "#9c179e"
             ],
             [
              0.4444444444444444,
              "#bd3786"
             ],
             [
              0.5555555555555556,
              "#d8576b"
             ],
             [
              0.6666666666666666,
              "#ed7953"
             ],
             [
              0.7777777777777778,
              "#fb9f3a"
             ],
             [
              0.8888888888888888,
              "#fdca26"
             ],
             [
              1.0,
              "#f0f921"
             ]
            ]
           }
          ],
          "heatmap": [
           {
            "type": "heatmap",
            "colorbar": {
             "outlinewidth": 0,
             "ticks": ""
            },
            "colorscale": [
             [
              0.0,
              "#0d0887"
             ],
             [
              0.1111111111111111,
              "#46039f"
             ],
             [
              0.2222222222222222,
              "#7201a8"
             ],
             [
              0.3333333333333333,
              "#9c179e"
             ],
             [
              0.4444444444444444,
              "#bd3786"
             ],
             [
              0.5555555555555556,
              "#d8576b"
             ],
             [
              0.6666666666666666,
              "#ed7953"
             ],
             [
              0.7777777777777778,
              "#fb9f3a"
             ],
             [
              0.8888888888888888,
              "#fdca26"
             ],
             [
              1.0,
              "#f0f921"
             ]
            ]
           }
          ],
          "contourcarpet": [
           {
            "type": "contourcarpet",
            "colorbar": {
             "outlinewidth": 0,
             "ticks": ""
            }
           }
          ],
          "contour": [
           {
            "type": "contour",
            "colorbar": {
             "outlinewidth": 0,
             "ticks": ""
            },
            "colorscale": [
             [
              0.0,
              "#0d0887"
             ],
             [
              0.1111111111111111,
              "#46039f"
             ],
             [
              0.2222222222222222,
              "#7201a8"
             ],
             [
              0.3333333333333333,
              "#9c179e"
             ],
             [
              0.4444444444444444,
              "#bd3786"
             ],
             [
              0.5555555555555556,
              "#d8576b"
             ],
             [
              0.6666666666666666,
              "#ed7953"
             ],
             [
              0.7777777777777778,
              "#fb9f3a"
             ],
             [
              0.8888888888888888,
              "#fdca26"
             ],
             [
              1.0,
              "#f0f921"
             ]
            ]
           }
          ],
          "surface": [
           {
            "type": "surface",
            "colorbar": {
             "outlinewidth": 0,
             "ticks": ""
            },
            "colorscale": [
             [
              0.0,
              "#0d0887"
             ],
             [
              0.1111111111111111,
              "#46039f"
             ],
             [
              0.2222222222222222,
              "#7201a8"
             ],
             [
              0.3333333333333333,
              "#9c179e"
             ],
             [
              0.4444444444444444,
              "#bd3786"
             ],
             [
              0.5555555555555556,
              "#d8576b"
             ],
             [
              0.6666666666666666,
              "#ed7953"
             ],
             [
              0.7777777777777778,
              "#fb9f3a"
             ],
             [
              0.8888888888888888,
              "#fdca26"
             ],
             [
              1.0,
              "#f0f921"
             ]
            ]
           }
          ],
          "mesh3d": [
           {
            "type": "mesh3d",
            "colorbar": {
             "outlinewidth": 0,
             "ticks": ""
            }
           }
          ],
          "scatter": [
           {
            "fillpattern": {
             "fillmode": "overlay",
             "size": 10,
             "solidity": 0.2
            },
            "type": "scatter"
           }
          ],
          "parcoords": [
           {
            "type": "parcoords",
            "line": {
             "colorbar": {
              "outlinewidth": 0,
              "ticks": ""
             }
            }
           }
          ],
          "scatterpolargl": [
           {
            "type": "scatterpolargl",
            "marker": {
             "colorbar": {
              "outlinewidth": 0,
              "ticks": ""
             }
            }
           }
          ],
          "bar": [
           {
            "error_x": {
             "color": "#2a3f5f"
            },
            "error_y": {
             "color": "#2a3f5f"
            },
            "marker": {
             "line": {
              "color": "#E5ECF6",
              "width": 0.5
             },
             "pattern": {
              "fillmode": "overlay",
              "size": 10,
              "solidity": 0.2
             }
            },
            "type": "bar"
           }
          ],
          "scattergeo": [
           {
            "type": "scattergeo",
            "marker": {
             "colorbar": {
              "outlinewidth": 0,
              "ticks": ""
             }
            }
           }
          ],
          "scatterpolar": [
           {
            "type": "scatterpolar",
            "marker": {
             "colorbar": {
              "outlinewidth": 0,
              "ticks": ""
             }
            }
           }
          ],
          "histogram": [
           {
            "marker": {
             "pattern": {
              "fillmode": "overlay",
              "size": 10,
              "solidity": 0.2
             }
            },
            "type": "histogram"
           }
          ],
          "scattergl": [
           {
            "type": "scattergl",
            "marker": {
             "colorbar": {
              "outlinewidth": 0,
              "ticks": ""
             }
            }
           }
          ],
          "scatter3d": [
           {
            "type": "scatter3d",
            "line": {
             "colorbar": {
              "outlinewidth": 0,
              "ticks": ""
             }
            },
            "marker": {
             "colorbar": {
              "outlinewidth": 0,
              "ticks": ""
             }
            }
           }
          ],
          "scattermap": [
           {
            "type": "scattermap",
            "marker": {
             "colorbar": {
              "outlinewidth": 0,
              "ticks": ""
             }
            }
           }
          ],
          "scattermapbox": [
           {
            "type": "scattermapbox",
            "marker": {
             "colorbar": {
              "outlinewidth": 0,
              "ticks": ""
             }
            }
           }
          ],
          "scatterternary": [
           {
            "type": "scatterternary",
            "marker": {
             "colorbar": {
              "outlinewidth": 0,
              "ticks": ""
             }
            }
           }
          ],
          "scattercarpet": [
           {
            "type": "scattercarpet",
            "marker": {
             "colorbar": {
              "outlinewidth": 0,
              "ticks": ""
             }
            }
           }
          ],
          "carpet": [
           {
            "aaxis": {
             "endlinecolor": "#2a3f5f",
             "gridcolor": "white",
             "linecolor": "white",
             "minorgridcolor": "white",
             "startlinecolor": "#2a3f5f"
            },
            "baxis": {
             "endlinecolor": "#2a3f5f",
             "gridcolor": "white",
             "linecolor": "white",
             "minorgridcolor": "white",
             "startlinecolor": "#2a3f5f"
            },
            "type": "carpet"
           }
          ],
          "table": [
           {
            "cells": {
             "fill": {
              "color": "#EBF0F8"
             },
             "line": {
              "color": "white"
             }
            },
            "header": {
             "fill": {
              "color": "#C8D4E3"
             },
             "line": {
              "color": "white"
             }
            },
            "type": "table"
           }
          ],
          "barpolar": [
           {
            "marker": {
             "line": {
              "color": "#E5ECF6",
              "width": 0.5
             },
             "pattern": {
              "fillmode": "overlay",
              "size": 10,
              "solidity": 0.2
             }
            },
            "type": "barpolar"
           }
          ],
          "pie": [
           {
            "automargin": true,
            "type": "pie"
           }
          ]
         },
         "layout": {
          "autotypenumbers": "strict",
          "colorway": [
           "#636efa",
           "#EF553B",
           "#00cc96",
           "#ab63fa",
           "#FFA15A",
           "#19d3f3",
           "#FF6692",
           "#B6E880",
           "#FF97FF",
           "#FECB52"
          ],
          "font": {
           "color": "#2a3f5f"
          },
          "hovermode": "closest",
          "hoverlabel": {
           "align": "left"
          },
          "paper_bgcolor": "white",
          "plot_bgcolor": "#E5ECF6",
          "polar": {
           "bgcolor": "#E5ECF6",
           "angularaxis": {
            "gridcolor": "white",
            "linecolor": "white",
            "ticks": ""
           },
           "radialaxis": {
            "gridcolor": "white",
            "linecolor": "white",
            "ticks": ""
           }
          },
          "ternary": {
           "bgcolor": "#E5ECF6",
           "aaxis": {
            "gridcolor": "white",
            "linecolor": "white",
            "ticks": ""
           },
           "baxis": {
            "gridcolor": "white",
            "linecolor": "white",
            "ticks": ""
           },
           "caxis": {
            "gridcolor": "white",
            "linecolor": "white",
            "ticks": ""
           }
          },
          "coloraxis": {
           "colorbar": {
            "outlinewidth": 0,
            "ticks": ""
           }
          },
          "colorscale": {
           "sequential": [
            [
             0.0,
             "#0d0887"
            ],
            [
             0.1111111111111111,
             "#46039f"
            ],
            [
             0.2222222222222222,
             "#7201a8"
            ],
            [
             0.3333333333333333,
             "#9c179e"
            ],
            [
             0.4444444444444444,
             "#bd3786"
            ],
            [
             0.5555555555555556,
             "#d8576b"
            ],
            [
             0.6666666666666666,
             "#ed7953"
            ],
            [
             0.7777777777777778,
             "#fb9f3a"
            ],
            [
             0.8888888888888888,
             "#fdca26"
            ],
            [
             1.0,
             "#f0f921"
            ]
           ],
           "sequentialminus": [
            [
             0.0,
             "#0d0887"
            ],
            [
             0.1111111111111111,
             "#46039f"
            ],
            [
             0.2222222222222222,
             "#7201a8"
            ],
            [
             0.3333333333333333,
             "#9c179e"
            ],
            [
             0.4444444444444444,
             "#bd3786"
            ],
            [
             0.5555555555555556,
             "#d8576b"
            ],
            [
             0.6666666666666666,
             "#ed7953"
            ],
            [
             0.7777777777777778,
             "#fb9f3a"
            ],
            [
             0.8888888888888888,
             "#fdca26"
            ],
            [
             1.0,
             "#f0f921"
            ]
           ],
           "diverging": [
            [
             0,
             "#8e0152"
            ],
            [
             0.1,
             "#c51b7d"
            ],
            [
             0.2,
             "#de77ae"
            ],
            [
             0.3,
             "#f1b6da"
            ],
            [
             0.4,
             "#fde0ef"
            ],
            [
             0.5,
             "#f7f7f7"
            ],
            [
             0.6,
             "#e6f5d0"
            ],
            [
             0.7,
             "#b8e186"
            ],
            [
             0.8,
             "#7fbc41"
            ],
            [
             0.9,
             "#4d9221"
            ],
            [
             1,
             "#276419"
            ]
           ]
          },
          "xaxis": {
           "gridcolor": "white",
           "linecolor": "white",
           "ticks": "",
           "title": {
            "standoff": 15
           },
           "zerolinecolor": "white",
           "automargin": true,
           "zerolinewidth": 2
          },
          "yaxis": {
           "gridcolor": "white",
           "linecolor": "white",
           "ticks": "",
           "title": {
            "standoff": 15
           },
           "zerolinecolor": "white",
           "automargin": true,
           "zerolinewidth": 2
          },
          "scene": {
           "xaxis": {
            "backgroundcolor": "#E5ECF6",
            "gridcolor": "white",
            "linecolor": "white",
            "showbackground": true,
            "ticks": "",
            "zerolinecolor": "white",
            "gridwidth": 2
           },
           "yaxis": {
            "backgroundcolor": "#E5ECF6",
            "gridcolor": "white",
            "linecolor": "white",
            "showbackground": true,
            "ticks": "",
            "zerolinecolor": "white",
            "gridwidth": 2
           },
           "zaxis": {
            "backgroundcolor": "#E5ECF6",
            "gridcolor": "white",
            "linecolor": "white",
            "showbackground": true,
            "ticks": "",
            "zerolinecolor": "white",
            "gridwidth": 2
           }
          },
          "shapedefaults": {
           "line": {
            "color": "#2a3f5f"
           }
          },
          "annotationdefaults": {
           "arrowcolor": "#2a3f5f",
           "arrowhead": 0,
           "arrowwidth": 1
          },
          "geo": {
           "bgcolor": "white",
           "landcolor": "#E5ECF6",
           "subunitcolor": "white",
           "showland": true,
           "showlakes": true,
           "lakecolor": "white"
          },
          "title": {
           "x": 0.05
          },
          "mapbox": {
           "style": "light"
          }
         }
        },
        "xaxis": {
         "anchor": "y",
         "domain": [
          0.0,
          1.0
         ],
         "title": {
          "text": "Landmark ID"
         },
         "tickangle": -45
        },
        "yaxis": {
         "anchor": "x",
         "domain": [
          0.0,
          1.0
         ],
         "title": {
          "text": "Count"
         }
        },
        "legend": {
         "tracegroupgap": 0
        },
        "title": {
         "text": "Top 25 Landmark IDs by Count: 138982 has 3 times as much as next highest landmark"
        },
        "barmode": "relative"
       },
       "config": {
        "plotlyServerURL": "https://plot.ly"
       }
      }
     },
     "metadata": {},
     "output_type": "display_data"
    }
   ],
   "execution_count": 121
  },
  {
   "metadata": {},
   "cell_type": "markdown",
   "source": "The fact that landmark 138982 has 3 times as many images as the next highest landmark is concerning. We should keep an eye on that and may need to reduce the number of samples from that landmark id.",
   "id": "e9d4a7f0258e1f7a"
  },
  {
   "metadata": {},
   "cell_type": "code",
   "source": [
    "fig = px.histogram(\n",
    "    train_df,\n",
    "    x=\"aspect_ratio\",\n",
    "    nbins=20,\n",
    "    labels={\"aspect_ratio\": \"Aspect Ratio\", \"count\": \"Count\"},\n",
    "    title=\"Aspect ratio (proportions) is similar for most images\",\n",
    ")\n",
    "fig.update_layout(height=500, width=1200)\n",
    "fig.show()\n",
    "fig.write_image(\"images/aspect_ratio_histogram.png\", height=500, width=1200)"
   ],
   "id": "89ecb6870b2c615",
   "outputs": [],
   "execution_count": null
  },
  {
   "metadata": {},
   "cell_type": "code",
   "source": [
    "fig = make_subplots(\n",
    "    rows=1,\n",
    "    cols=3,\n",
    "    subplot_titles=(\"Mean R vs Mean G\", \"Mean G vs Mean B\", \"Mean R vs Mean B\"),\n",
    ")\n",
    "\n",
    "trace_rg = px.scatter(train_df, x=\"mean_r\", y=\"mean_g\").data[0]\n",
    "trace_gb = px.scatter(train_df, x=\"mean_g\", y=\"mean_b\").data[0]\n",
    "trace_rb = px.scatter(train_df, x=\"mean_r\", y=\"mean_b\").data[0]\n",
    "\n",
    "fig.add_trace(trace_rg, row=1, col=1)\n",
    "fig.add_trace(trace_gb, row=1, col=2)\n",
    "fig.add_trace(trace_rb, row=1, col=3)\n",
    "\n",
    "fig.update_xaxes(title_text=\"Mean R\", row=1, col=1)\n",
    "fig.update_yaxes(title_text=\"Mean G\", row=1, col=1)\n",
    "fig.update_xaxes(title_text=\"Mean G\", row=1, col=2)\n",
    "fig.update_yaxes(title_text=\"Mean B\", row=1, col=2)\n",
    "fig.update_xaxes(title_text=\"Mean R\", row=1, col=3)\n",
    "fig.update_yaxes(title_text=\"Mean B\", row=1, col=3)\n",
    "\n",
    "fig.update_layout(\n",
    "    title_text=\"Pairwise relationships among Mean R, Mean G, and Mean B across all images. Looks noisy at first\",\n",
    ")\n",
    "\n",
    "fig.show()\n",
    "fig.write_image(\n",
    "    \"images/color_channel_pairwise_all_landmarks.png\", height=500, width=1200\n",
    ")"
   ],
   "id": "42b5d2d03f332e45",
   "outputs": [],
   "execution_count": null
  },
  {
   "metadata": {
    "ExecuteTime": {
     "end_time": "2025-09-07T15:34:05.350763Z",
     "start_time": "2025-09-07T15:34:05.317584Z"
    }
   },
   "cell_type": "code",
   "source": [
    "selected_ids = unique_landmarks[:5]\n",
    "five_landmarks_df = train_df[train_df[\"landmark_id\"].isin(selected_ids)].copy()"
   ],
   "id": "5c5fdb22fe26ff9a",
   "outputs": [],
   "execution_count": 11
  },
  {
   "metadata": {},
   "cell_type": "markdown",
   "source": [
    "These are the landmarks selected by the above code. Since we are dealing with over 80,000 unique landmarks and over 1.5 million images, I will limit our analysis to a subset of landmarks.\n",
    "- Landmark 1  \n",
    "![Landmark 1](data/train/1/7/6/17660ef415d37059.jpg)\n",
    "\n",
    "- Landmark 7  \n",
    "![Landmark 7](data/train/2/8/b/28b13f94a6f1f3c1.jpg)\n",
    "\n",
    "- Landmark 9  \n",
    "![Landmark 9](data/train/0/1/9/0193b65bb58d2c77.jpg)\n",
    "\n",
    "- Landmark 11  \n",
    "![Landmark 11](data/train/1/a/6/1a6cb1deed46bb17.jpg)\n",
    "\n",
    "- Landmark 12  \n",
    "![Landmark 12](data/train/1/4/9/1492a5d344495391.jpg)\n"
   ],
   "id": "40d715ea35f9c7d2"
  },
  {
   "metadata": {},
   "cell_type": "code",
   "source": [
    "fig = make_subplots(\n",
    "    rows=1,\n",
    "    cols=3,\n",
    "    subplot_titles=(\"Mean R vs Mean G\", \"Mean G vs Mean B\", \"Mean R vs Mean B\"),\n",
    ")\n",
    "\n",
    "fig_rg = px.scatter(five_landmarks_df, x=\"mean_r\", y=\"mean_g\", color=\"landmark_id\")\n",
    "for tr in fig_rg.data:\n",
    "    fig.add_trace(tr, row=1, col=1)\n",
    "\n",
    "fig_gb = px.scatter(five_landmarks_df, x=\"mean_g\", y=\"mean_b\", color=\"landmark_id\")\n",
    "for tr in fig_gb.data:\n",
    "    tr.showlegend = False\n",
    "    fig.add_trace(tr, row=1, col=2)\n",
    "\n",
    "fig_rb = px.scatter(five_landmarks_df, x=\"mean_r\", y=\"mean_b\", color=\"landmark_id\")\n",
    "for tr in fig_rb.data:\n",
    "    tr.showlegend = False\n",
    "    fig.add_trace(tr, row=1, col=3)\n",
    "\n",
    "fig.update_xaxes(title_text=\"Mean R\", row=1, col=1)\n",
    "fig.update_yaxes(title_text=\"Mean G\", row=1, col=1)\n",
    "fig.update_xaxes(title_text=\"Mean G\", row=1, col=2)\n",
    "fig.update_yaxes(title_text=\"Mean B\", row=1, col=2)\n",
    "fig.update_xaxes(title_text=\"Mean R\", row=1, col=3)\n",
    "fig.update_yaxes(title_text=\"Mean B\", row=1, col=3)\n",
    "\n",
    "fig.update_layout(\n",
    "    title_text=\"Color channels across 5 landmarks. Indicates color channels could be leverage for landmark identification\",\n",
    ")\n",
    "\n",
    "fig.show()\n",
    "fig.write_image(\"images/color_channel_pairwise_5_landmarks.png\", height=500, width=1200)"
   ],
   "id": "7d285e3aad216030",
   "outputs": [],
   "execution_count": null
  },
  {
   "metadata": {},
   "cell_type": "code",
   "source": [
    "fig = px.scatter_3d(\n",
    "    five_landmarks_df,\n",
    "    x=\"mean_r\",\n",
    "    y=\"mean_g\",\n",
    "    z=\"mean_b\",\n",
    "    color=\"landmark_id\",\n",
    "    title=\"3D Scatter of mean RGB for 5 Landmark IDs\",\n",
    ")\n",
    "fig.update_layout(width=1200, height=900)\n",
    "fig.show()"
   ],
   "id": "e1059789f16ebcfe",
   "outputs": [],
   "execution_count": null
  },
  {
   "metadata": {
    "ExecuteTime": {
     "end_time": "2025-09-02T05:31:05.079047Z",
     "start_time": "2025-09-02T05:31:05.076767Z"
    }
   },
   "cell_type": "code",
   "source": [
    "def mean_histogram(arrs):\n",
    "    stacked = np.vstack(arrs)\n",
    "    return stacked.mean(axis=0)"
   ],
   "id": "28d8dcd219ef54ca",
   "outputs": [],
   "execution_count": 124
  },
  {
   "metadata": {
    "ExecuteTime": {
     "end_time": "2025-09-02T05:31:07.063411Z",
     "start_time": "2025-09-02T05:31:05.179427Z"
    }
   },
   "cell_type": "code",
   "source": [
    "# Plot the Mean Local Binary Pattern histogram\n",
    "lbp_df = five_landmarks_df.dropna(subset=[\"local_binary_pattern\"]).copy()\n",
    "\n",
    "first_hist = lbp_df.iloc[0][\"local_binary_pattern\"]\n",
    "n_bins = len(first_hist)\n",
    "# Get histogram mean grouped by landmark\n",
    "mean_hists = lbp_df.groupby(\"landmark_id\", observed=True)[\"local_binary_pattern\"].apply(\n",
    "    mean_histogram\n",
    ")\n",
    "\n",
    "records = []\n",
    "for landmark_id, hist in mean_hists.items():\n",
    "    for i, v in enumerate(hist):\n",
    "        records.append({\"landmark_id\": landmark_id, \"bin\": i, \"value\": float(v)})\n",
    "plot_df = pd.DataFrame(records)\n",
    "\n",
    "fig = px.line(\n",
    "    plot_df,\n",
    "    x=\"bin\",\n",
    "    y=\"value\",\n",
    "    color=\"landmark_id\",\n",
    "    markers=True,\n",
    "    labels={\n",
    "        \"bin\": \"Local Binary Pattern Bin\",\n",
    "        \"value\": \"Mean Frequency\",\n",
    "        \"landmark_id\": \"Landmark ID\",\n",
    "    },\n",
    "    title=\"Mean Local Binary Pattern Histogram per Landmark. Bin 12 & 13 shows differences in texture\",\n",
    ")\n",
    "fig.update_layout(width=1200, height=700)\n",
    "fig.show()\n",
    "fig.write_image(\"images/lbp_mean_histogram_5_landmarks.png\", width=1200, height=700)"
   ],
   "id": "3c994fee2c2f15ea",
   "outputs": [
    {
     "data": {
      "application/vnd.plotly.v1+json": {
       "data": [
        {
         "hovertemplate": "Landmark ID=1<br>Local Binary Pattern Bin=%{x}<br>Mean Frequency=%{y}<extra></extra>",
         "legendgroup": "1",
         "line": {
          "color": "#636efa",
          "dash": "solid"
         },
         "marker": {
          "symbol": "circle"
         },
         "mode": "lines+markers",
         "name": "1",
         "orientation": "v",
         "showlegend": true,
         "x": {
          "dtype": "i1",
          "bdata": "AAECAwQFBgcICQoLDA0ODxAREhMUFRYXGBk="
         },
         "xaxis": "x",
         "y": {
          "dtype": "f8",
          "bdata": "9JkQxLOerD9cQMGk/fObP315/VWVvpY/TVrnr4nWkD/d62GZLXuIPzrXme7nH4M/tWKH4TqegD8tOj5fJ7CBP3neQ0SJAIM/fqF3t5u8hT/EX5InXXeHP+MCsGXo6o4/8J1CIzxYkj9XilyDOS6bP6LFyweNWYU/GU+wkDtelD9eyIlWOK2DP/RYeDsRb5I/UCM+vidWhT9FOTojxx2HPxOb8cCe6Ik/5exXmdQTkj/7W1gGfe2XPxDnCtA8Fp4/IHk1orEMwj+qqPwyKIPcPw=="
         },
         "yaxis": "y",
         "type": "scatter"
        },
        {
         "hovertemplate": "Landmark ID=11<br>Local Binary Pattern Bin=%{x}<br>Mean Frequency=%{y}<extra></extra>",
         "legendgroup": "11",
         "line": {
          "color": "#EF553B",
          "dash": "solid"
         },
         "marker": {
          "symbol": "circle"
         },
         "mode": "lines+markers",
         "name": "11",
         "orientation": "v",
         "showlegend": true,
         "x": {
          "dtype": "i1",
          "bdata": "AAECAwQFBgcICQoLDA0ODxAREhMUFRYXGBk="
         },
         "xaxis": "x",
         "y": {
          "dtype": "f8",
          "bdata": "BIaoJSuUpz80d4Z604SdP4nooQIropM//6OQTVbSij+AhMLa+pGEP6udsHRfbYE/Fl1099+jfz93ks6krNWCP78r5fnoJ4U/6YXeLsj+iD9dqJK3FhuNP1fU0iuSApY/IJMu+pNloD9p7WphAVqjP5ohuvHl8o0/mqkvrhjMmD/Xz1JKsSuIP8OQTwZMhZM/dDRyse0Jhz8zKopL6jqIPyAKPNBQ7Yg/iWNXF41LkD/UY3R8pr6VPxSqZAzyd54/mjmP1o2Uvj/vACAhNAjcPw=="
         },
         "yaxis": "y",
         "type": "scatter"
        },
        {
         "hovertemplate": "Landmark ID=12<br>Local Binary Pattern Bin=%{x}<br>Mean Frequency=%{y}<extra></extra>",
         "legendgroup": "12",
         "line": {
          "color": "#00cc96",
          "dash": "solid"
         },
         "marker": {
          "symbol": "circle"
         },
         "mode": "lines+markers",
         "name": "12",
         "orientation": "v",
         "showlegend": true,
         "x": {
          "dtype": "i1",
          "bdata": "AAECAwQFBgcICQoLDA0ODxAREhMUFRYXGBk="
         },
         "xaxis": "x",
         "y": {
          "dtype": "f8",
          "bdata": "qkkPbRknqz984QdKQJ6bP9O15J6cVZY/i4Wa4A7YkD/f2pAaF4yJP1Gtbe+//4Q/YD9wUO6Jgj8rqtLXyzmEPzpYuy2uWIY/WPtbtGarij+k+xDRI/iPPzRrdNZaJJc/pIaOD/+HnT/RwZm2MbOfPx+yhSy1ZZA/VzD3m9yCkz97PzEfQXuIPyybfmwrDZA/DbH0ZvKrhz/IpZ32vFOJP0g1VMdKSYw/FNluytxWkj/hGsVcb8GXP3Oi/lnX35w/Ib9g+ow1uj9UvLToo4vcPw=="
         },
         "yaxis": "y",
         "type": "scatter"
        },
        {
         "hovertemplate": "Landmark ID=7<br>Local Binary Pattern Bin=%{x}<br>Mean Frequency=%{y}<extra></extra>",
         "legendgroup": "7",
         "line": {
          "color": "#ab63fa",
          "dash": "solid"
         },
         "marker": {
          "symbol": "circle"
         },
         "mode": "lines+markers",
         "name": "7",
         "orientation": "v",
         "showlegend": true,
         "x": {
          "dtype": "i1",
          "bdata": "AAECAwQFBgcICQoLDA0ODxAREhMUFRYXGBk="
         },
         "xaxis": "x",
         "y": {
          "dtype": "f8",
          "bdata": "L2cZvFq4oD/kGpNI5puXP5hbTv00KZA/wFQJ4v7+hz8q0BzcdUSDP1ndbJba8YA/zd56gZDDfz9dsJgZybuFP+ar8Q9xsoo/0XiieHwzkT9YrRznYYGVP24KBplYtqA/T4gYj7MGqD+BbShu8jasPxjoeRKf55U/kUNKwa42oj8a6WON86GQP4xtRShhs5w/GZBEmZ6Bjz+bxjw3s76OP0hxvbIcao0/akS8IibnkT+uM2su3RKVP8NZQTNQqJo/3i/Md7RJwD8u+3CwsufWPw=="
         },
         "yaxis": "y",
         "type": "scatter"
        },
        {
         "hovertemplate": "Landmark ID=9<br>Local Binary Pattern Bin=%{x}<br>Mean Frequency=%{y}<extra></extra>",
         "legendgroup": "9",
         "line": {
          "color": "#FFA15A",
          "dash": "solid"
         },
         "marker": {
          "symbol": "circle"
         },
         "mode": "lines+markers",
         "name": "9",
         "orientation": "v",
         "showlegend": true,
         "x": {
          "dtype": "i1",
          "bdata": "AAECAwQFBgcICQoLDA0ODxAREhMUFRYXGBk="
         },
         "xaxis": "x",
         "y": {
          "dtype": "f8",
          "bdata": "zluidpGnpD/NA/PazwWXP/C/jbbgb5I/qGQ8yUaDij8eaLGHLUWFP2yiUhs1toI/uG9qdKiKgT+NechGq+OFPxadi4wOiYo/Cb16+mw/kD8qZWKQ+2SUPz3iq17k8p4/zlYkXu4qpT8sFyBtzpCmP1qlIKksjJQ/iEzcTTDjnD+vLahBiXKPP4Cq6yfEG5g/mNCjs20Ljj8FFAh7kVeOP1CIW4t6v44/PoXTujjUkj8Wl2mchAyWPwvcFx56v5g/rtDURZILwT8g1GY+7/HXPw=="
         },
         "yaxis": "y",
         "type": "scatter"
        }
       ],
       "layout": {
        "template": {
         "data": {
          "histogram2dcontour": [
           {
            "type": "histogram2dcontour",
            "colorbar": {
             "outlinewidth": 0,
             "ticks": ""
            },
            "colorscale": [
             [
              0.0,
              "#0d0887"
             ],
             [
              0.1111111111111111,
              "#46039f"
             ],
             [
              0.2222222222222222,
              "#7201a8"
             ],
             [
              0.3333333333333333,
              "#9c179e"
             ],
             [
              0.4444444444444444,
              "#bd3786"
             ],
             [
              0.5555555555555556,
              "#d8576b"
             ],
             [
              0.6666666666666666,
              "#ed7953"
             ],
             [
              0.7777777777777778,
              "#fb9f3a"
             ],
             [
              0.8888888888888888,
              "#fdca26"
             ],
             [
              1.0,
              "#f0f921"
             ]
            ]
           }
          ],
          "choropleth": [
           {
            "type": "choropleth",
            "colorbar": {
             "outlinewidth": 0,
             "ticks": ""
            }
           }
          ],
          "histogram2d": [
           {
            "type": "histogram2d",
            "colorbar": {
             "outlinewidth": 0,
             "ticks": ""
            },
            "colorscale": [
             [
              0.0,
              "#0d0887"
             ],
             [
              0.1111111111111111,
              "#46039f"
             ],
             [
              0.2222222222222222,
              "#7201a8"
             ],
             [
              0.3333333333333333,
              "#9c179e"
             ],
             [
              0.4444444444444444,
              "#bd3786"
             ],
             [
              0.5555555555555556,
              "#d8576b"
             ],
             [
              0.6666666666666666,
              "#ed7953"
             ],
             [
              0.7777777777777778,
              "#fb9f3a"
             ],
             [
              0.8888888888888888,
              "#fdca26"
             ],
             [
              1.0,
              "#f0f921"
             ]
            ]
           }
          ],
          "heatmap": [
           {
            "type": "heatmap",
            "colorbar": {
             "outlinewidth": 0,
             "ticks": ""
            },
            "colorscale": [
             [
              0.0,
              "#0d0887"
             ],
             [
              0.1111111111111111,
              "#46039f"
             ],
             [
              0.2222222222222222,
              "#7201a8"
             ],
             [
              0.3333333333333333,
              "#9c179e"
             ],
             [
              0.4444444444444444,
              "#bd3786"
             ],
             [
              0.5555555555555556,
              "#d8576b"
             ],
             [
              0.6666666666666666,
              "#ed7953"
             ],
             [
              0.7777777777777778,
              "#fb9f3a"
             ],
             [
              0.8888888888888888,
              "#fdca26"
             ],
             [
              1.0,
              "#f0f921"
             ]
            ]
           }
          ],
          "contourcarpet": [
           {
            "type": "contourcarpet",
            "colorbar": {
             "outlinewidth": 0,
             "ticks": ""
            }
           }
          ],
          "contour": [
           {
            "type": "contour",
            "colorbar": {
             "outlinewidth": 0,
             "ticks": ""
            },
            "colorscale": [
             [
              0.0,
              "#0d0887"
             ],
             [
              0.1111111111111111,
              "#46039f"
             ],
             [
              0.2222222222222222,
              "#7201a8"
             ],
             [
              0.3333333333333333,
              "#9c179e"
             ],
             [
              0.4444444444444444,
              "#bd3786"
             ],
             [
              0.5555555555555556,
              "#d8576b"
             ],
             [
              0.6666666666666666,
              "#ed7953"
             ],
             [
              0.7777777777777778,
              "#fb9f3a"
             ],
             [
              0.8888888888888888,
              "#fdca26"
             ],
             [
              1.0,
              "#f0f921"
             ]
            ]
           }
          ],
          "surface": [
           {
            "type": "surface",
            "colorbar": {
             "outlinewidth": 0,
             "ticks": ""
            },
            "colorscale": [
             [
              0.0,
              "#0d0887"
             ],
             [
              0.1111111111111111,
              "#46039f"
             ],
             [
              0.2222222222222222,
              "#7201a8"
             ],
             [
              0.3333333333333333,
              "#9c179e"
             ],
             [
              0.4444444444444444,
              "#bd3786"
             ],
             [
              0.5555555555555556,
              "#d8576b"
             ],
             [
              0.6666666666666666,
              "#ed7953"
             ],
             [
              0.7777777777777778,
              "#fb9f3a"
             ],
             [
              0.8888888888888888,
              "#fdca26"
             ],
             [
              1.0,
              "#f0f921"
             ]
            ]
           }
          ],
          "mesh3d": [
           {
            "type": "mesh3d",
            "colorbar": {
             "outlinewidth": 0,
             "ticks": ""
            }
           }
          ],
          "scatter": [
           {
            "fillpattern": {
             "fillmode": "overlay",
             "size": 10,
             "solidity": 0.2
            },
            "type": "scatter"
           }
          ],
          "parcoords": [
           {
            "type": "parcoords",
            "line": {
             "colorbar": {
              "outlinewidth": 0,
              "ticks": ""
             }
            }
           }
          ],
          "scatterpolargl": [
           {
            "type": "scatterpolargl",
            "marker": {
             "colorbar": {
              "outlinewidth": 0,
              "ticks": ""
             }
            }
           }
          ],
          "bar": [
           {
            "error_x": {
             "color": "#2a3f5f"
            },
            "error_y": {
             "color": "#2a3f5f"
            },
            "marker": {
             "line": {
              "color": "#E5ECF6",
              "width": 0.5
             },
             "pattern": {
              "fillmode": "overlay",
              "size": 10,
              "solidity": 0.2
             }
            },
            "type": "bar"
           }
          ],
          "scattergeo": [
           {
            "type": "scattergeo",
            "marker": {
             "colorbar": {
              "outlinewidth": 0,
              "ticks": ""
             }
            }
           }
          ],
          "scatterpolar": [
           {
            "type": "scatterpolar",
            "marker": {
             "colorbar": {
              "outlinewidth": 0,
              "ticks": ""
             }
            }
           }
          ],
          "histogram": [
           {
            "marker": {
             "pattern": {
              "fillmode": "overlay",
              "size": 10,
              "solidity": 0.2
             }
            },
            "type": "histogram"
           }
          ],
          "scattergl": [
           {
            "type": "scattergl",
            "marker": {
             "colorbar": {
              "outlinewidth": 0,
              "ticks": ""
             }
            }
           }
          ],
          "scatter3d": [
           {
            "type": "scatter3d",
            "line": {
             "colorbar": {
              "outlinewidth": 0,
              "ticks": ""
             }
            },
            "marker": {
             "colorbar": {
              "outlinewidth": 0,
              "ticks": ""
             }
            }
           }
          ],
          "scattermap": [
           {
            "type": "scattermap",
            "marker": {
             "colorbar": {
              "outlinewidth": 0,
              "ticks": ""
             }
            }
           }
          ],
          "scattermapbox": [
           {
            "type": "scattermapbox",
            "marker": {
             "colorbar": {
              "outlinewidth": 0,
              "ticks": ""
             }
            }
           }
          ],
          "scatterternary": [
           {
            "type": "scatterternary",
            "marker": {
             "colorbar": {
              "outlinewidth": 0,
              "ticks": ""
             }
            }
           }
          ],
          "scattercarpet": [
           {
            "type": "scattercarpet",
            "marker": {
             "colorbar": {
              "outlinewidth": 0,
              "ticks": ""
             }
            }
           }
          ],
          "carpet": [
           {
            "aaxis": {
             "endlinecolor": "#2a3f5f",
             "gridcolor": "white",
             "linecolor": "white",
             "minorgridcolor": "white",
             "startlinecolor": "#2a3f5f"
            },
            "baxis": {
             "endlinecolor": "#2a3f5f",
             "gridcolor": "white",
             "linecolor": "white",
             "minorgridcolor": "white",
             "startlinecolor": "#2a3f5f"
            },
            "type": "carpet"
           }
          ],
          "table": [
           {
            "cells": {
             "fill": {
              "color": "#EBF0F8"
             },
             "line": {
              "color": "white"
             }
            },
            "header": {
             "fill": {
              "color": "#C8D4E3"
             },
             "line": {
              "color": "white"
             }
            },
            "type": "table"
           }
          ],
          "barpolar": [
           {
            "marker": {
             "line": {
              "color": "#E5ECF6",
              "width": 0.5
             },
             "pattern": {
              "fillmode": "overlay",
              "size": 10,
              "solidity": 0.2
             }
            },
            "type": "barpolar"
           }
          ],
          "pie": [
           {
            "automargin": true,
            "type": "pie"
           }
          ]
         },
         "layout": {
          "autotypenumbers": "strict",
          "colorway": [
           "#636efa",
           "#EF553B",
           "#00cc96",
           "#ab63fa",
           "#FFA15A",
           "#19d3f3",
           "#FF6692",
           "#B6E880",
           "#FF97FF",
           "#FECB52"
          ],
          "font": {
           "color": "#2a3f5f"
          },
          "hovermode": "closest",
          "hoverlabel": {
           "align": "left"
          },
          "paper_bgcolor": "white",
          "plot_bgcolor": "#E5ECF6",
          "polar": {
           "bgcolor": "#E5ECF6",
           "angularaxis": {
            "gridcolor": "white",
            "linecolor": "white",
            "ticks": ""
           },
           "radialaxis": {
            "gridcolor": "white",
            "linecolor": "white",
            "ticks": ""
           }
          },
          "ternary": {
           "bgcolor": "#E5ECF6",
           "aaxis": {
            "gridcolor": "white",
            "linecolor": "white",
            "ticks": ""
           },
           "baxis": {
            "gridcolor": "white",
            "linecolor": "white",
            "ticks": ""
           },
           "caxis": {
            "gridcolor": "white",
            "linecolor": "white",
            "ticks": ""
           }
          },
          "coloraxis": {
           "colorbar": {
            "outlinewidth": 0,
            "ticks": ""
           }
          },
          "colorscale": {
           "sequential": [
            [
             0.0,
             "#0d0887"
            ],
            [
             0.1111111111111111,
             "#46039f"
            ],
            [
             0.2222222222222222,
             "#7201a8"
            ],
            [
             0.3333333333333333,
             "#9c179e"
            ],
            [
             0.4444444444444444,
             "#bd3786"
            ],
            [
             0.5555555555555556,
             "#d8576b"
            ],
            [
             0.6666666666666666,
             "#ed7953"
            ],
            [
             0.7777777777777778,
             "#fb9f3a"
            ],
            [
             0.8888888888888888,
             "#fdca26"
            ],
            [
             1.0,
             "#f0f921"
            ]
           ],
           "sequentialminus": [
            [
             0.0,
             "#0d0887"
            ],
            [
             0.1111111111111111,
             "#46039f"
            ],
            [
             0.2222222222222222,
             "#7201a8"
            ],
            [
             0.3333333333333333,
             "#9c179e"
            ],
            [
             0.4444444444444444,
             "#bd3786"
            ],
            [
             0.5555555555555556,
             "#d8576b"
            ],
            [
             0.6666666666666666,
             "#ed7953"
            ],
            [
             0.7777777777777778,
             "#fb9f3a"
            ],
            [
             0.8888888888888888,
             "#fdca26"
            ],
            [
             1.0,
             "#f0f921"
            ]
           ],
           "diverging": [
            [
             0,
             "#8e0152"
            ],
            [
             0.1,
             "#c51b7d"
            ],
            [
             0.2,
             "#de77ae"
            ],
            [
             0.3,
             "#f1b6da"
            ],
            [
             0.4,
             "#fde0ef"
            ],
            [
             0.5,
             "#f7f7f7"
            ],
            [
             0.6,
             "#e6f5d0"
            ],
            [
             0.7,
             "#b8e186"
            ],
            [
             0.8,
             "#7fbc41"
            ],
            [
             0.9,
             "#4d9221"
            ],
            [
             1,
             "#276419"
            ]
           ]
          },
          "xaxis": {
           "gridcolor": "white",
           "linecolor": "white",
           "ticks": "",
           "title": {
            "standoff": 15
           },
           "zerolinecolor": "white",
           "automargin": true,
           "zerolinewidth": 2
          },
          "yaxis": {
           "gridcolor": "white",
           "linecolor": "white",
           "ticks": "",
           "title": {
            "standoff": 15
           },
           "zerolinecolor": "white",
           "automargin": true,
           "zerolinewidth": 2
          },
          "scene": {
           "xaxis": {
            "backgroundcolor": "#E5ECF6",
            "gridcolor": "white",
            "linecolor": "white",
            "showbackground": true,
            "ticks": "",
            "zerolinecolor": "white",
            "gridwidth": 2
           },
           "yaxis": {
            "backgroundcolor": "#E5ECF6",
            "gridcolor": "white",
            "linecolor": "white",
            "showbackground": true,
            "ticks": "",
            "zerolinecolor": "white",
            "gridwidth": 2
           },
           "zaxis": {
            "backgroundcolor": "#E5ECF6",
            "gridcolor": "white",
            "linecolor": "white",
            "showbackground": true,
            "ticks": "",
            "zerolinecolor": "white",
            "gridwidth": 2
           }
          },
          "shapedefaults": {
           "line": {
            "color": "#2a3f5f"
           }
          },
          "annotationdefaults": {
           "arrowcolor": "#2a3f5f",
           "arrowhead": 0,
           "arrowwidth": 1
          },
          "geo": {
           "bgcolor": "white",
           "landcolor": "#E5ECF6",
           "subunitcolor": "white",
           "showland": true,
           "showlakes": true,
           "lakecolor": "white"
          },
          "title": {
           "x": 0.05
          },
          "mapbox": {
           "style": "light"
          }
         }
        },
        "xaxis": {
         "anchor": "y",
         "domain": [
          0.0,
          1.0
         ],
         "title": {
          "text": "Local Binary Pattern Bin"
         }
        },
        "yaxis": {
         "anchor": "x",
         "domain": [
          0.0,
          1.0
         ],
         "title": {
          "text": "Mean Frequency"
         }
        },
        "legend": {
         "title": {
          "text": "Landmark ID"
         },
         "tracegroupgap": 0
        },
        "title": {
         "text": "Mean Local Binary Pattern Histogram per Landmark. Bin 12 & 13 shows differences in texture"
        },
        "width": 1200,
        "height": 700
       },
       "config": {
        "plotlyServerURL": "https://plot.ly"
       }
      }
     },
     "metadata": {},
     "output_type": "display_data"
    }
   ],
   "execution_count": 125
  },
  {
   "metadata": {},
   "cell_type": "markdown",
   "source": "Local Binary Patterns is a texture descriptor. It does this by comparing a pixel to its neighboring pixels. It captures the intensity of each pixel and compares their intensities. It will assign 1 if the neighboring pixel's intensity is greater than the pixel currently being assessed. Otherwise, LBP will assign 0. The algorithm then combines the binary values of all the neighboring pixels to create a value for the pixel being assessed. It does this for all the pixels in the image to create a binary code representing the texture of the image.",
   "id": "510395be4a54a3d0"
  },
  {
   "metadata": {},
   "cell_type": "code",
   "source": [
    "fig = px.scatter(\n",
    "    five_landmarks_df,\n",
    "    x=\"x\",\n",
    "    y=\"y\",\n",
    "    color=\"landmark_id\",\n",
    "    labels={\"x\": \"Embedding 2d X\", \"y\": \"Embedding 2d Y\", \"landmark_id\": \"Landmark ID\"},\n",
    "    title=\"2d Embedding shows promise in clustering images by embeddings\",\n",
    ")\n",
    "fig.update_layout(width=1200, height=700)\n",
    "fig.show()\n",
    "fig.write_image(\"images/embedding_2d_scatter_5_landmarks.png\", width=1200, height=700)"
   ],
   "id": "6273cd0c62d2e514",
   "outputs": [],
   "execution_count": null
  },
  {
   "metadata": {},
   "cell_type": "code",
   "source": [
    "fig = px.scatter(\n",
    "    train_df[train_df[\"landmark_id\"].isin(unique_landmarks[:25])],\n",
    "    x=\"x\",\n",
    "    y=\"y\",\n",
    "    color=\"landmark_id\",\n",
    "    labels={\"x\": \"Embedding 2d X\", \"y\": \"Embedding 2d Y\", \"landmark_id\": \"Landmark ID\"},\n",
    "    title=\"2d Embedding shows promise in clustering images by embeddings 25 landmarks\",\n",
    ")\n",
    "fig.update_layout(width=1200, height=700)\n",
    "fig.show()\n",
    "fig.write_image(\"images/embedding_2d_scatter_25_landmarks.png\", width=1200, height=700)"
   ],
   "id": "af583fada187961",
   "outputs": [],
   "execution_count": null
  },
  {
   "metadata": {},
   "cell_type": "markdown",
   "source": "A 2D embedding squashes an image down to just two numbers: X and Y. Each image becomes a single point on a 2D plane. I used t-SNE to achieve this, which, like principal component analysis, reduces dimensionality. We take the full embedding of an image and convert that full embedding down to two features.\n",
   "id": "e1aee4db15a159e1"
  },
  {
   "metadata": {},
   "cell_type": "markdown",
   "source": "### Modeling",
   "id": "4a4aad1d85976de5"
  },
  {
   "metadata": {
    "ExecuteTime": {
     "end_time": "2025-09-07T15:34:49.423347Z",
     "start_time": "2025-09-07T15:34:49.393448Z"
    }
   },
   "cell_type": "code",
   "source": "mlflow.set_experiment(\"Landmark Recognition\")",
   "id": "254ac37c5653f0df",
   "outputs": [
    {
     "data": {
      "text/plain": [
       "<Experiment: artifact_location='file:///mnt/c/Users/Matt/workspace/landmarks/mlruns/745548148810810489', creation_time=1756780167672, experiment_id='745548148810810489', last_update_time=1756780167672, lifecycle_stage='active', name='Landmark Recognition', tags={}>"
      ]
     },
     "execution_count": 14,
     "metadata": {},
     "output_type": "execute_result"
    }
   ],
   "execution_count": 14
  },
  {
   "metadata": {
    "ExecuteTime": {
     "end_time": "2025-09-07T15:34:54.677170Z",
     "start_time": "2025-09-07T15:34:52.144451Z"
    }
   },
   "cell_type": "code",
   "source": [
    "# Expand local_binary_pattern into separate columns for modeling\n",
    "lbp_expanded = pd.DataFrame(\n",
    "    train_df[\"local_binary_pattern\"].tolist(), index=train_df.index\n",
    ")\n",
    "lbp_expanded.columns = [f\"lbp_{i}\" for i in range(lbp_expanded.shape[1])]\n",
    "\n",
    "train_df_expanded_lbp = pd.concat(\n",
    "    [train_df.drop(columns=[\"local_binary_pattern\"]), lbp_expanded], axis=1\n",
    ")"
   ],
   "id": "701dc8d1411d57dd",
   "outputs": [],
   "execution_count": 15
  },
  {
   "metadata": {
    "ExecuteTime": {
     "end_time": "2025-09-07T03:00:18.050075Z",
     "start_time": "2025-09-07T03:00:17.501379Z"
    }
   },
   "cell_type": "code",
   "source": "train_df_expanded_lbp",
   "id": "d06f5d3929d6ea27",
   "outputs": [
    {
     "data": {
      "text/plain": [
       "                       id landmark_id                             image_path  \\\n",
       "0        17660ef415d37059           1  data/train/1/7/6/17660ef415d37059.jpg   \n",
       "1        92b6290d571448f6           1  data/train/9/2/b/92b6290d571448f6.jpg   \n",
       "2        cd41bf948edc0340           1  data/train/c/d/4/cd41bf948edc0340.jpg   \n",
       "3        fb09f1e98c6d2f70           1  data/train/f/b/0/fb09f1e98c6d2f70.jpg   \n",
       "4        25c9dfc7ea69838d           7  data/train/2/5/c/25c9dfc7ea69838d.jpg   \n",
       "...                   ...         ...                                    ...   \n",
       "1580465  72c3b1c367e3d559      203092  data/train/7/2/c/72c3b1c367e3d559.jpg   \n",
       "1580466  7a6a2d9ea92684a6      203092  data/train/7/a/6/7a6a2d9ea92684a6.jpg   \n",
       "1580467  9401fad4c497e1f9      203092  data/train/9/4/0/9401fad4c497e1f9.jpg   \n",
       "1580468  aacc960c9a228b5f      203092  data/train/a/a/c/aacc960c9a228b5f.jpg   \n",
       "1580469  d9e338c530dca106      203092  data/train/d/9/e/d9e338c530dca106.jpg   \n",
       "\n",
       "         width  height  aspect_ratio  \\\n",
       "0          533     800      0.666250   \n",
       "1          534     800      0.667500   \n",
       "2          800     512      1.562500   \n",
       "3          532     800      0.665000   \n",
       "4          800     600      1.333333   \n",
       "...        ...     ...           ...   \n",
       "1580465    800     533      1.500938   \n",
       "1580466    800     532      1.503759   \n",
       "1580467    800     533      1.500938   \n",
       "1580468    800     533      1.500938   \n",
       "1580469    800     533      1.500938   \n",
       "\n",
       "                                         mean_rgb      mean_r      mean_g  \\\n",
       "0        [126.00759381 119.0244606  113.26428471]  126.007594  119.024461   \n",
       "1           [97.5096559  93.19100421 86.4288764 ]   97.509656   93.191004   \n",
       "2           [89.43367188 83.05516602 74.40758057]   89.433672   83.055166   \n",
       "3        [107.91263863 106.76824483 109.26745771]  107.912639  106.768245   \n",
       "4        [132.4216875  137.05765    144.99947083]  132.421687  137.057650   \n",
       "...                                           ...         ...         ...   \n",
       "1580465  [128.88117026 127.38813086 116.54751407]  128.881170  127.388131   \n",
       "1580466  [127.55681156 124.83408835 114.69496711]  127.556812  124.834088   \n",
       "1580467  [129.93018058 130.93818246 127.94207083]  129.930181  130.938182   \n",
       "1580468  [142.47123358 142.97529784 136.52950516]  142.471234  142.975298   \n",
       "1580469  [134.86594512 139.74956848 135.42046435]  134.865945  139.749568   \n",
       "\n",
       "             mean_b  ...    lbp_16    lbp_17    lbp_18    lbp_19    lbp_20  \\\n",
       "0        113.264285  ...  0.007265  0.019275  0.009409  0.010033  0.011091   \n",
       "1         86.428876  ...  0.011941  0.013977  0.011393  0.013102  0.015047   \n",
       "2         74.407581  ...  0.010195  0.014504  0.009797  0.010339  0.011846   \n",
       "3        109.267458  ...  0.009030  0.024250  0.011074  0.011675  0.012620   \n",
       "4        144.999471  ...  0.014794  0.028979  0.013806  0.013513  0.014046   \n",
       "...             ...  ...       ...       ...       ...       ...       ...   \n",
       "1580465  116.547514  ...  0.011027  0.018539  0.010720  0.011100  0.011914   \n",
       "1580466  114.694967  ...  0.011494  0.024232  0.012446  0.012303  0.012761   \n",
       "1580467  127.942071  ...  0.008391  0.025000  0.010544  0.010973  0.011515   \n",
       "1580468  136.529505  ...  0.013895  0.037812  0.016930  0.015894  0.014125   \n",
       "1580469  135.420464  ...  0.015084  0.019585  0.012146  0.012528  0.013579   \n",
       "\n",
       "           lbp_21    lbp_22    lbp_23    lbp_24    lbp_25  \n",
       "0        0.015943  0.022183  0.029939  0.203417  0.433513  \n",
       "1        0.020524  0.025602  0.027809  0.071444  0.455536  \n",
       "2        0.017148  0.024343  0.031929  0.086533  0.488169  \n",
       "3        0.017000  0.021339  0.027850  0.202655  0.404803  \n",
       "4        0.017329  0.021167  0.024594  0.101777  0.371237  \n",
       "...           ...       ...       ...       ...       ...  \n",
       "1580465  0.016867  0.023136  0.030579  0.114010  0.454266  \n",
       "1580466  0.016833  0.022000  0.027133  0.159159  0.409908  \n",
       "1580467  0.015701  0.020115  0.024430  0.290068  0.353084  \n",
       "1580468  0.017326  0.019805  0.022676  0.239557  0.320035  \n",
       "1580469  0.017050  0.021911  0.026395  0.092118  0.410432  \n",
       "\n",
       "[1580470 rows x 38 columns]"
      ],
      "text/html": [
       "<div>\n",
       "<style scoped>\n",
       "    .dataframe tbody tr th:only-of-type {\n",
       "        vertical-align: middle;\n",
       "    }\n",
       "\n",
       "    .dataframe tbody tr th {\n",
       "        vertical-align: top;\n",
       "    }\n",
       "\n",
       "    .dataframe thead th {\n",
       "        text-align: right;\n",
       "    }\n",
       "</style>\n",
       "<table border=\"1\" class=\"dataframe\">\n",
       "  <thead>\n",
       "    <tr style=\"text-align: right;\">\n",
       "      <th></th>\n",
       "      <th>id</th>\n",
       "      <th>landmark_id</th>\n",
       "      <th>image_path</th>\n",
       "      <th>width</th>\n",
       "      <th>height</th>\n",
       "      <th>aspect_ratio</th>\n",
       "      <th>mean_rgb</th>\n",
       "      <th>mean_r</th>\n",
       "      <th>mean_g</th>\n",
       "      <th>mean_b</th>\n",
       "      <th>...</th>\n",
       "      <th>lbp_16</th>\n",
       "      <th>lbp_17</th>\n",
       "      <th>lbp_18</th>\n",
       "      <th>lbp_19</th>\n",
       "      <th>lbp_20</th>\n",
       "      <th>lbp_21</th>\n",
       "      <th>lbp_22</th>\n",
       "      <th>lbp_23</th>\n",
       "      <th>lbp_24</th>\n",
       "      <th>lbp_25</th>\n",
       "    </tr>\n",
       "  </thead>\n",
       "  <tbody>\n",
       "    <tr>\n",
       "      <th>0</th>\n",
       "      <td>17660ef415d37059</td>\n",
       "      <td>1</td>\n",
       "      <td>data/train/1/7/6/17660ef415d37059.jpg</td>\n",
       "      <td>533</td>\n",
       "      <td>800</td>\n",
       "      <td>0.666250</td>\n",
       "      <td>[126.00759381 119.0244606  113.26428471]</td>\n",
       "      <td>126.007594</td>\n",
       "      <td>119.024461</td>\n",
       "      <td>113.264285</td>\n",
       "      <td>...</td>\n",
       "      <td>0.007265</td>\n",
       "      <td>0.019275</td>\n",
       "      <td>0.009409</td>\n",
       "      <td>0.010033</td>\n",
       "      <td>0.011091</td>\n",
       "      <td>0.015943</td>\n",
       "      <td>0.022183</td>\n",
       "      <td>0.029939</td>\n",
       "      <td>0.203417</td>\n",
       "      <td>0.433513</td>\n",
       "    </tr>\n",
       "    <tr>\n",
       "      <th>1</th>\n",
       "      <td>92b6290d571448f6</td>\n",
       "      <td>1</td>\n",
       "      <td>data/train/9/2/b/92b6290d571448f6.jpg</td>\n",
       "      <td>534</td>\n",
       "      <td>800</td>\n",
       "      <td>0.667500</td>\n",
       "      <td>[97.5096559  93.19100421 86.4288764 ]</td>\n",
       "      <td>97.509656</td>\n",
       "      <td>93.191004</td>\n",
       "      <td>86.428876</td>\n",
       "      <td>...</td>\n",
       "      <td>0.011941</td>\n",
       "      <td>0.013977</td>\n",
       "      <td>0.011393</td>\n",
       "      <td>0.013102</td>\n",
       "      <td>0.015047</td>\n",
       "      <td>0.020524</td>\n",
       "      <td>0.025602</td>\n",
       "      <td>0.027809</td>\n",
       "      <td>0.071444</td>\n",
       "      <td>0.455536</td>\n",
       "    </tr>\n",
       "    <tr>\n",
       "      <th>2</th>\n",
       "      <td>cd41bf948edc0340</td>\n",
       "      <td>1</td>\n",
       "      <td>data/train/c/d/4/cd41bf948edc0340.jpg</td>\n",
       "      <td>800</td>\n",
       "      <td>512</td>\n",
       "      <td>1.562500</td>\n",
       "      <td>[89.43367188 83.05516602 74.40758057]</td>\n",
       "      <td>89.433672</td>\n",
       "      <td>83.055166</td>\n",
       "      <td>74.407581</td>\n",
       "      <td>...</td>\n",
       "      <td>0.010195</td>\n",
       "      <td>0.014504</td>\n",
       "      <td>0.009797</td>\n",
       "      <td>0.010339</td>\n",
       "      <td>0.011846</td>\n",
       "      <td>0.017148</td>\n",
       "      <td>0.024343</td>\n",
       "      <td>0.031929</td>\n",
       "      <td>0.086533</td>\n",
       "      <td>0.488169</td>\n",
       "    </tr>\n",
       "    <tr>\n",
       "      <th>3</th>\n",
       "      <td>fb09f1e98c6d2f70</td>\n",
       "      <td>1</td>\n",
       "      <td>data/train/f/b/0/fb09f1e98c6d2f70.jpg</td>\n",
       "      <td>532</td>\n",
       "      <td>800</td>\n",
       "      <td>0.665000</td>\n",
       "      <td>[107.91263863 106.76824483 109.26745771]</td>\n",
       "      <td>107.912639</td>\n",
       "      <td>106.768245</td>\n",
       "      <td>109.267458</td>\n",
       "      <td>...</td>\n",
       "      <td>0.009030</td>\n",
       "      <td>0.024250</td>\n",
       "      <td>0.011074</td>\n",
       "      <td>0.011675</td>\n",
       "      <td>0.012620</td>\n",
       "      <td>0.017000</td>\n",
       "      <td>0.021339</td>\n",
       "      <td>0.027850</td>\n",
       "      <td>0.202655</td>\n",
       "      <td>0.404803</td>\n",
       "    </tr>\n",
       "    <tr>\n",
       "      <th>4</th>\n",
       "      <td>25c9dfc7ea69838d</td>\n",
       "      <td>7</td>\n",
       "      <td>data/train/2/5/c/25c9dfc7ea69838d.jpg</td>\n",
       "      <td>800</td>\n",
       "      <td>600</td>\n",
       "      <td>1.333333</td>\n",
       "      <td>[132.4216875  137.05765    144.99947083]</td>\n",
       "      <td>132.421687</td>\n",
       "      <td>137.057650</td>\n",
       "      <td>144.999471</td>\n",
       "      <td>...</td>\n",
       "      <td>0.014794</td>\n",
       "      <td>0.028979</td>\n",
       "      <td>0.013806</td>\n",
       "      <td>0.013513</td>\n",
       "      <td>0.014046</td>\n",
       "      <td>0.017329</td>\n",
       "      <td>0.021167</td>\n",
       "      <td>0.024594</td>\n",
       "      <td>0.101777</td>\n",
       "      <td>0.371237</td>\n",
       "    </tr>\n",
       "    <tr>\n",
       "      <th>...</th>\n",
       "      <td>...</td>\n",
       "      <td>...</td>\n",
       "      <td>...</td>\n",
       "      <td>...</td>\n",
       "      <td>...</td>\n",
       "      <td>...</td>\n",
       "      <td>...</td>\n",
       "      <td>...</td>\n",
       "      <td>...</td>\n",
       "      <td>...</td>\n",
       "      <td>...</td>\n",
       "      <td>...</td>\n",
       "      <td>...</td>\n",
       "      <td>...</td>\n",
       "      <td>...</td>\n",
       "      <td>...</td>\n",
       "      <td>...</td>\n",
       "      <td>...</td>\n",
       "      <td>...</td>\n",
       "      <td>...</td>\n",
       "      <td>...</td>\n",
       "    </tr>\n",
       "    <tr>\n",
       "      <th>1580465</th>\n",
       "      <td>72c3b1c367e3d559</td>\n",
       "      <td>203092</td>\n",
       "      <td>data/train/7/2/c/72c3b1c367e3d559.jpg</td>\n",
       "      <td>800</td>\n",
       "      <td>533</td>\n",
       "      <td>1.500938</td>\n",
       "      <td>[128.88117026 127.38813086 116.54751407]</td>\n",
       "      <td>128.881170</td>\n",
       "      <td>127.388131</td>\n",
       "      <td>116.547514</td>\n",
       "      <td>...</td>\n",
       "      <td>0.011027</td>\n",
       "      <td>0.018539</td>\n",
       "      <td>0.010720</td>\n",
       "      <td>0.011100</td>\n",
       "      <td>0.011914</td>\n",
       "      <td>0.016867</td>\n",
       "      <td>0.023136</td>\n",
       "      <td>0.030579</td>\n",
       "      <td>0.114010</td>\n",
       "      <td>0.454266</td>\n",
       "    </tr>\n",
       "    <tr>\n",
       "      <th>1580466</th>\n",
       "      <td>7a6a2d9ea92684a6</td>\n",
       "      <td>203092</td>\n",
       "      <td>data/train/7/a/6/7a6a2d9ea92684a6.jpg</td>\n",
       "      <td>800</td>\n",
       "      <td>532</td>\n",
       "      <td>1.503759</td>\n",
       "      <td>[127.55681156 124.83408835 114.69496711]</td>\n",
       "      <td>127.556812</td>\n",
       "      <td>124.834088</td>\n",
       "      <td>114.694967</td>\n",
       "      <td>...</td>\n",
       "      <td>0.011494</td>\n",
       "      <td>0.024232</td>\n",
       "      <td>0.012446</td>\n",
       "      <td>0.012303</td>\n",
       "      <td>0.012761</td>\n",
       "      <td>0.016833</td>\n",
       "      <td>0.022000</td>\n",
       "      <td>0.027133</td>\n",
       "      <td>0.159159</td>\n",
       "      <td>0.409908</td>\n",
       "    </tr>\n",
       "    <tr>\n",
       "      <th>1580467</th>\n",
       "      <td>9401fad4c497e1f9</td>\n",
       "      <td>203092</td>\n",
       "      <td>data/train/9/4/0/9401fad4c497e1f9.jpg</td>\n",
       "      <td>800</td>\n",
       "      <td>533</td>\n",
       "      <td>1.500938</td>\n",
       "      <td>[129.93018058 130.93818246 127.94207083]</td>\n",
       "      <td>129.930181</td>\n",
       "      <td>130.938182</td>\n",
       "      <td>127.942071</td>\n",
       "      <td>...</td>\n",
       "      <td>0.008391</td>\n",
       "      <td>0.025000</td>\n",
       "      <td>0.010544</td>\n",
       "      <td>0.010973</td>\n",
       "      <td>0.011515</td>\n",
       "      <td>0.015701</td>\n",
       "      <td>0.020115</td>\n",
       "      <td>0.024430</td>\n",
       "      <td>0.290068</td>\n",
       "      <td>0.353084</td>\n",
       "    </tr>\n",
       "    <tr>\n",
       "      <th>1580468</th>\n",
       "      <td>aacc960c9a228b5f</td>\n",
       "      <td>203092</td>\n",
       "      <td>data/train/a/a/c/aacc960c9a228b5f.jpg</td>\n",
       "      <td>800</td>\n",
       "      <td>533</td>\n",
       "      <td>1.500938</td>\n",
       "      <td>[142.47123358 142.97529784 136.52950516]</td>\n",
       "      <td>142.471234</td>\n",
       "      <td>142.975298</td>\n",
       "      <td>136.529505</td>\n",
       "      <td>...</td>\n",
       "      <td>0.013895</td>\n",
       "      <td>0.037812</td>\n",
       "      <td>0.016930</td>\n",
       "      <td>0.015894</td>\n",
       "      <td>0.014125</td>\n",
       "      <td>0.017326</td>\n",
       "      <td>0.019805</td>\n",
       "      <td>0.022676</td>\n",
       "      <td>0.239557</td>\n",
       "      <td>0.320035</td>\n",
       "    </tr>\n",
       "    <tr>\n",
       "      <th>1580469</th>\n",
       "      <td>d9e338c530dca106</td>\n",
       "      <td>203092</td>\n",
       "      <td>data/train/d/9/e/d9e338c530dca106.jpg</td>\n",
       "      <td>800</td>\n",
       "      <td>533</td>\n",
       "      <td>1.500938</td>\n",
       "      <td>[134.86594512 139.74956848 135.42046435]</td>\n",
       "      <td>134.865945</td>\n",
       "      <td>139.749568</td>\n",
       "      <td>135.420464</td>\n",
       "      <td>...</td>\n",
       "      <td>0.015084</td>\n",
       "      <td>0.019585</td>\n",
       "      <td>0.012146</td>\n",
       "      <td>0.012528</td>\n",
       "      <td>0.013579</td>\n",
       "      <td>0.017050</td>\n",
       "      <td>0.021911</td>\n",
       "      <td>0.026395</td>\n",
       "      <td>0.092118</td>\n",
       "      <td>0.410432</td>\n",
       "    </tr>\n",
       "  </tbody>\n",
       "</table>\n",
       "<p>1580470 rows × 38 columns</p>\n",
       "</div>"
      ]
     },
     "execution_count": 21,
     "metadata": {},
     "output_type": "execute_result"
    }
   ],
   "execution_count": 21
  },
  {
   "metadata": {
    "ExecuteTime": {
     "end_time": "2025-09-07T15:35:01.007986Z",
     "start_time": "2025-09-07T15:35:00.955287Z"
    }
   },
   "cell_type": "code",
   "source": [
    "# earlier training shows that my machine cant train such a large model.\n",
    "unique_landmarks_to_train_on = 100\n",
    "rng = np.random.default_rng(42)\n",
    "selected_landmark_ids = rng.choice(\n",
    "    train_df_expanded_lbp[\"landmark_id\"],\n",
    "    size=unique_landmarks_to_train_on,\n",
    "    replace=False,\n",
    ")\n",
    "subset_train_df = train_df_expanded_lbp[\n",
    "    train_df_expanded_lbp[\"landmark_id\"].isin(selected_landmark_ids)\n",
    "]"
   ],
   "id": "a04f6ce1f3d44ddc",
   "outputs": [],
   "execution_count": 16
  },
  {
   "metadata": {
    "ExecuteTime": {
     "end_time": "2025-09-07T15:35:03.477399Z",
     "start_time": "2025-09-07T15:35:03.465864Z"
    }
   },
   "cell_type": "code",
   "source": "subset_train_df",
   "id": "71e9932f3bcad68",
   "outputs": [
    {
     "data": {
      "text/plain": [
       "                       id landmark_id                             image_path  \\\n",
       "69217    009de86d7dc3e14a        8954  data/train/0/0/9/009de86d7dc3e14a.jpg   \n",
       "69218    017448f0b8e77ddc        8954  data/train/0/1/7/017448f0b8e77ddc.jpg   \n",
       "69219    109b795f098c5bbd        8954  data/train/1/0/9/109b795f098c5bbd.jpg   \n",
       "69220    14b63e3cea48bfcf        8954  data/train/1/4/b/14b63e3cea48bfcf.jpg   \n",
       "69221    19f10ba1d79f0a02        8954  data/train/1/9/f/19f10ba1d79f0a02.jpg   \n",
       "...                   ...         ...                                    ...   \n",
       "1541859  e203710bff9e49c6      198124  data/train/e/2/0/e203710bff9e49c6.jpg   \n",
       "1541860  e6244a1f672a393d      198124  data/train/e/6/2/e6244a1f672a393d.jpg   \n",
       "1541861  e7c991f4c13a226f      198124  data/train/e/7/c/e7c991f4c13a226f.jpg   \n",
       "1541862  f1539d821eb64840      198124  data/train/f/1/5/f1539d821eb64840.jpg   \n",
       "1541863  fab4f3ce35de1c05      198124  data/train/f/a/b/fab4f3ce35de1c05.jpg   \n",
       "\n",
       "         width  height  aspect_ratio  \\\n",
       "69217      800     523      1.529637   \n",
       "69218      800     534      1.498127   \n",
       "69219      800     533      1.500938   \n",
       "69220      600     800      0.750000   \n",
       "69221      800     616      1.298701   \n",
       "...        ...     ...           ...   \n",
       "1541859    800     600      1.333333   \n",
       "1541860    800     600      1.333333   \n",
       "1541861    800     450      1.777778   \n",
       "1541862    640     480      1.333333   \n",
       "1541863    800     556      1.438849   \n",
       "\n",
       "                                         mean_rgb      mean_r      mean_g  \\\n",
       "69217    [104.91198136 112.79541348 105.32609943]  104.911981  112.795413   \n",
       "69218    [ 98.81215356 102.82689373  90.45805946]   98.812154  102.826894   \n",
       "69219    [128.91893762 123.895      119.82210131]  128.918938  123.895000   \n",
       "69220    [126.03130208 116.35970417 121.84090208]  126.031302  116.359704   \n",
       "69221    [121.42228693 112.61638799  73.71635755]  121.422287  112.616388   \n",
       "...                                           ...         ...         ...   \n",
       "1541859  [102.36249583 114.3944375  117.27861667]  102.362496  114.394437   \n",
       "1541860  [108.10469375  82.18396458  58.87403958]  108.104694   82.183965   \n",
       "1541861     [48.32043889 40.78554167 35.662225  ]   48.320439   40.785542   \n",
       "1541862  [139.96185872 139.72179036 144.7515332 ]  139.961859  139.721790   \n",
       "1541863     [74.83609487 53.82854317 28.59644335]   74.836095   53.828543   \n",
       "\n",
       "             mean_b  ...    lbp_16    lbp_17    lbp_18    lbp_19    lbp_20  \\\n",
       "69217    105.326099  ...  0.009814  0.009771  0.009338  0.010569  0.012335   \n",
       "69218     90.458059  ...  0.012231  0.011859  0.010808  0.012666  0.014431   \n",
       "69219    119.822101  ...  0.011714  0.013466  0.010373  0.010530  0.012181   \n",
       "69220    121.840902  ...  0.014102  0.014225  0.011806  0.013008  0.014965   \n",
       "69221     73.716358  ...  0.011550  0.011477  0.010733  0.011741  0.013486   \n",
       "...             ...  ...       ...       ...       ...       ...       ...   \n",
       "1541859  117.278617  ...  0.017592  0.019119  0.012827  0.012544  0.012006   \n",
       "1541860   58.874040  ...  0.022371  0.030585  0.019621  0.018537  0.018156   \n",
       "1541861   35.662225  ...  0.013656  0.030708  0.015628  0.016136  0.015975   \n",
       "1541862  144.751533  ...  0.012298  0.017318  0.011569  0.011107  0.012083   \n",
       "1541863   28.596443  ...  0.015893  0.022590  0.017300  0.019607  0.020524   \n",
       "\n",
       "           lbp_21    lbp_22    lbp_23    lbp_24    lbp_25  \n",
       "69217    0.016895  0.024498  0.034739  0.064388  0.519601  \n",
       "69218    0.019199  0.024658  0.028996  0.058272  0.470012  \n",
       "69219    0.015997  0.021595  0.027470  0.133379  0.414583  \n",
       "69220    0.019171  0.023902  0.026621  0.064933  0.430696  \n",
       "69221    0.017914  0.024367  0.031532  0.059184  0.478669  \n",
       "...           ...       ...       ...       ...       ...  \n",
       "1541859  0.013583  0.015902  0.025487  0.081102  0.369904  \n",
       "1541860  0.019306  0.018738  0.016121  0.128194  0.270435  \n",
       "1541861  0.019492  0.021747  0.022492  0.249972  0.283503  \n",
       "1541862  0.016624  0.022894  0.031501  0.114652  0.441559  \n",
       "1541863  0.024593  0.025953  0.022588  0.118939  0.348341  \n",
       "\n",
       "[15945 rows x 38 columns]"
      ],
      "text/html": [
       "<div>\n",
       "<style scoped>\n",
       "    .dataframe tbody tr th:only-of-type {\n",
       "        vertical-align: middle;\n",
       "    }\n",
       "\n",
       "    .dataframe tbody tr th {\n",
       "        vertical-align: top;\n",
       "    }\n",
       "\n",
       "    .dataframe thead th {\n",
       "        text-align: right;\n",
       "    }\n",
       "</style>\n",
       "<table border=\"1\" class=\"dataframe\">\n",
       "  <thead>\n",
       "    <tr style=\"text-align: right;\">\n",
       "      <th></th>\n",
       "      <th>id</th>\n",
       "      <th>landmark_id</th>\n",
       "      <th>image_path</th>\n",
       "      <th>width</th>\n",
       "      <th>height</th>\n",
       "      <th>aspect_ratio</th>\n",
       "      <th>mean_rgb</th>\n",
       "      <th>mean_r</th>\n",
       "      <th>mean_g</th>\n",
       "      <th>mean_b</th>\n",
       "      <th>...</th>\n",
       "      <th>lbp_16</th>\n",
       "      <th>lbp_17</th>\n",
       "      <th>lbp_18</th>\n",
       "      <th>lbp_19</th>\n",
       "      <th>lbp_20</th>\n",
       "      <th>lbp_21</th>\n",
       "      <th>lbp_22</th>\n",
       "      <th>lbp_23</th>\n",
       "      <th>lbp_24</th>\n",
       "      <th>lbp_25</th>\n",
       "    </tr>\n",
       "  </thead>\n",
       "  <tbody>\n",
       "    <tr>\n",
       "      <th>69217</th>\n",
       "      <td>009de86d7dc3e14a</td>\n",
       "      <td>8954</td>\n",
       "      <td>data/train/0/0/9/009de86d7dc3e14a.jpg</td>\n",
       "      <td>800</td>\n",
       "      <td>523</td>\n",
       "      <td>1.529637</td>\n",
       "      <td>[104.91198136 112.79541348 105.32609943]</td>\n",
       "      <td>104.911981</td>\n",
       "      <td>112.795413</td>\n",
       "      <td>105.326099</td>\n",
       "      <td>...</td>\n",
       "      <td>0.009814</td>\n",
       "      <td>0.009771</td>\n",
       "      <td>0.009338</td>\n",
       "      <td>0.010569</td>\n",
       "      <td>0.012335</td>\n",
       "      <td>0.016895</td>\n",
       "      <td>0.024498</td>\n",
       "      <td>0.034739</td>\n",
       "      <td>0.064388</td>\n",
       "      <td>0.519601</td>\n",
       "    </tr>\n",
       "    <tr>\n",
       "      <th>69218</th>\n",
       "      <td>017448f0b8e77ddc</td>\n",
       "      <td>8954</td>\n",
       "      <td>data/train/0/1/7/017448f0b8e77ddc.jpg</td>\n",
       "      <td>800</td>\n",
       "      <td>534</td>\n",
       "      <td>1.498127</td>\n",
       "      <td>[ 98.81215356 102.82689373  90.45805946]</td>\n",
       "      <td>98.812154</td>\n",
       "      <td>102.826894</td>\n",
       "      <td>90.458059</td>\n",
       "      <td>...</td>\n",
       "      <td>0.012231</td>\n",
       "      <td>0.011859</td>\n",
       "      <td>0.010808</td>\n",
       "      <td>0.012666</td>\n",
       "      <td>0.014431</td>\n",
       "      <td>0.019199</td>\n",
       "      <td>0.024658</td>\n",
       "      <td>0.028996</td>\n",
       "      <td>0.058272</td>\n",
       "      <td>0.470012</td>\n",
       "    </tr>\n",
       "    <tr>\n",
       "      <th>69219</th>\n",
       "      <td>109b795f098c5bbd</td>\n",
       "      <td>8954</td>\n",
       "      <td>data/train/1/0/9/109b795f098c5bbd.jpg</td>\n",
       "      <td>800</td>\n",
       "      <td>533</td>\n",
       "      <td>1.500938</td>\n",
       "      <td>[128.91893762 123.895      119.82210131]</td>\n",
       "      <td>128.918938</td>\n",
       "      <td>123.895000</td>\n",
       "      <td>119.822101</td>\n",
       "      <td>...</td>\n",
       "      <td>0.011714</td>\n",
       "      <td>0.013466</td>\n",
       "      <td>0.010373</td>\n",
       "      <td>0.010530</td>\n",
       "      <td>0.012181</td>\n",
       "      <td>0.015997</td>\n",
       "      <td>0.021595</td>\n",
       "      <td>0.027470</td>\n",
       "      <td>0.133379</td>\n",
       "      <td>0.414583</td>\n",
       "    </tr>\n",
       "    <tr>\n",
       "      <th>69220</th>\n",
       "      <td>14b63e3cea48bfcf</td>\n",
       "      <td>8954</td>\n",
       "      <td>data/train/1/4/b/14b63e3cea48bfcf.jpg</td>\n",
       "      <td>600</td>\n",
       "      <td>800</td>\n",
       "      <td>0.750000</td>\n",
       "      <td>[126.03130208 116.35970417 121.84090208]</td>\n",
       "      <td>126.031302</td>\n",
       "      <td>116.359704</td>\n",
       "      <td>121.840902</td>\n",
       "      <td>...</td>\n",
       "      <td>0.014102</td>\n",
       "      <td>0.014225</td>\n",
       "      <td>0.011806</td>\n",
       "      <td>0.013008</td>\n",
       "      <td>0.014965</td>\n",
       "      <td>0.019171</td>\n",
       "      <td>0.023902</td>\n",
       "      <td>0.026621</td>\n",
       "      <td>0.064933</td>\n",
       "      <td>0.430696</td>\n",
       "    </tr>\n",
       "    <tr>\n",
       "      <th>69221</th>\n",
       "      <td>19f10ba1d79f0a02</td>\n",
       "      <td>8954</td>\n",
       "      <td>data/train/1/9/f/19f10ba1d79f0a02.jpg</td>\n",
       "      <td>800</td>\n",
       "      <td>616</td>\n",
       "      <td>1.298701</td>\n",
       "      <td>[121.42228693 112.61638799  73.71635755]</td>\n",
       "      <td>121.422287</td>\n",
       "      <td>112.616388</td>\n",
       "      <td>73.716358</td>\n",
       "      <td>...</td>\n",
       "      <td>0.011550</td>\n",
       "      <td>0.011477</td>\n",
       "      <td>0.010733</td>\n",
       "      <td>0.011741</td>\n",
       "      <td>0.013486</td>\n",
       "      <td>0.017914</td>\n",
       "      <td>0.024367</td>\n",
       "      <td>0.031532</td>\n",
       "      <td>0.059184</td>\n",
       "      <td>0.478669</td>\n",
       "    </tr>\n",
       "    <tr>\n",
       "      <th>...</th>\n",
       "      <td>...</td>\n",
       "      <td>...</td>\n",
       "      <td>...</td>\n",
       "      <td>...</td>\n",
       "      <td>...</td>\n",
       "      <td>...</td>\n",
       "      <td>...</td>\n",
       "      <td>...</td>\n",
       "      <td>...</td>\n",
       "      <td>...</td>\n",
       "      <td>...</td>\n",
       "      <td>...</td>\n",
       "      <td>...</td>\n",
       "      <td>...</td>\n",
       "      <td>...</td>\n",
       "      <td>...</td>\n",
       "      <td>...</td>\n",
       "      <td>...</td>\n",
       "      <td>...</td>\n",
       "      <td>...</td>\n",
       "      <td>...</td>\n",
       "    </tr>\n",
       "    <tr>\n",
       "      <th>1541859</th>\n",
       "      <td>e203710bff9e49c6</td>\n",
       "      <td>198124</td>\n",
       "      <td>data/train/e/2/0/e203710bff9e49c6.jpg</td>\n",
       "      <td>800</td>\n",
       "      <td>600</td>\n",
       "      <td>1.333333</td>\n",
       "      <td>[102.36249583 114.3944375  117.27861667]</td>\n",
       "      <td>102.362496</td>\n",
       "      <td>114.394437</td>\n",
       "      <td>117.278617</td>\n",
       "      <td>...</td>\n",
       "      <td>0.017592</td>\n",
       "      <td>0.019119</td>\n",
       "      <td>0.012827</td>\n",
       "      <td>0.012544</td>\n",
       "      <td>0.012006</td>\n",
       "      <td>0.013583</td>\n",
       "      <td>0.015902</td>\n",
       "      <td>0.025487</td>\n",
       "      <td>0.081102</td>\n",
       "      <td>0.369904</td>\n",
       "    </tr>\n",
       "    <tr>\n",
       "      <th>1541860</th>\n",
       "      <td>e6244a1f672a393d</td>\n",
       "      <td>198124</td>\n",
       "      <td>data/train/e/6/2/e6244a1f672a393d.jpg</td>\n",
       "      <td>800</td>\n",
       "      <td>600</td>\n",
       "      <td>1.333333</td>\n",
       "      <td>[108.10469375  82.18396458  58.87403958]</td>\n",
       "      <td>108.104694</td>\n",
       "      <td>82.183965</td>\n",
       "      <td>58.874040</td>\n",
       "      <td>...</td>\n",
       "      <td>0.022371</td>\n",
       "      <td>0.030585</td>\n",
       "      <td>0.019621</td>\n",
       "      <td>0.018537</td>\n",
       "      <td>0.018156</td>\n",
       "      <td>0.019306</td>\n",
       "      <td>0.018738</td>\n",
       "      <td>0.016121</td>\n",
       "      <td>0.128194</td>\n",
       "      <td>0.270435</td>\n",
       "    </tr>\n",
       "    <tr>\n",
       "      <th>1541861</th>\n",
       "      <td>e7c991f4c13a226f</td>\n",
       "      <td>198124</td>\n",
       "      <td>data/train/e/7/c/e7c991f4c13a226f.jpg</td>\n",
       "      <td>800</td>\n",
       "      <td>450</td>\n",
       "      <td>1.777778</td>\n",
       "      <td>[48.32043889 40.78554167 35.662225  ]</td>\n",
       "      <td>48.320439</td>\n",
       "      <td>40.785542</td>\n",
       "      <td>35.662225</td>\n",
       "      <td>...</td>\n",
       "      <td>0.013656</td>\n",
       "      <td>0.030708</td>\n",
       "      <td>0.015628</td>\n",
       "      <td>0.016136</td>\n",
       "      <td>0.015975</td>\n",
       "      <td>0.019492</td>\n",
       "      <td>0.021747</td>\n",
       "      <td>0.022492</td>\n",
       "      <td>0.249972</td>\n",
       "      <td>0.283503</td>\n",
       "    </tr>\n",
       "    <tr>\n",
       "      <th>1541862</th>\n",
       "      <td>f1539d821eb64840</td>\n",
       "      <td>198124</td>\n",
       "      <td>data/train/f/1/5/f1539d821eb64840.jpg</td>\n",
       "      <td>640</td>\n",
       "      <td>480</td>\n",
       "      <td>1.333333</td>\n",
       "      <td>[139.96185872 139.72179036 144.7515332 ]</td>\n",
       "      <td>139.961859</td>\n",
       "      <td>139.721790</td>\n",
       "      <td>144.751533</td>\n",
       "      <td>...</td>\n",
       "      <td>0.012298</td>\n",
       "      <td>0.017318</td>\n",
       "      <td>0.011569</td>\n",
       "      <td>0.011107</td>\n",
       "      <td>0.012083</td>\n",
       "      <td>0.016624</td>\n",
       "      <td>0.022894</td>\n",
       "      <td>0.031501</td>\n",
       "      <td>0.114652</td>\n",
       "      <td>0.441559</td>\n",
       "    </tr>\n",
       "    <tr>\n",
       "      <th>1541863</th>\n",
       "      <td>fab4f3ce35de1c05</td>\n",
       "      <td>198124</td>\n",
       "      <td>data/train/f/a/b/fab4f3ce35de1c05.jpg</td>\n",
       "      <td>800</td>\n",
       "      <td>556</td>\n",
       "      <td>1.438849</td>\n",
       "      <td>[74.83609487 53.82854317 28.59644335]</td>\n",
       "      <td>74.836095</td>\n",
       "      <td>53.828543</td>\n",
       "      <td>28.596443</td>\n",
       "      <td>...</td>\n",
       "      <td>0.015893</td>\n",
       "      <td>0.022590</td>\n",
       "      <td>0.017300</td>\n",
       "      <td>0.019607</td>\n",
       "      <td>0.020524</td>\n",
       "      <td>0.024593</td>\n",
       "      <td>0.025953</td>\n",
       "      <td>0.022588</td>\n",
       "      <td>0.118939</td>\n",
       "      <td>0.348341</td>\n",
       "    </tr>\n",
       "  </tbody>\n",
       "</table>\n",
       "<p>15945 rows × 38 columns</p>\n",
       "</div>"
      ]
     },
     "execution_count": 17,
     "metadata": {},
     "output_type": "execute_result"
    }
   ],
   "execution_count": 17
  },
  {
   "metadata": {
    "ExecuteTime": {
     "end_time": "2025-09-07T15:35:06.590676Z",
     "start_time": "2025-09-07T15:35:06.565244Z"
    }
   },
   "cell_type": "code",
   "source": [
    "# Use subset of landmarks to train\n",
    "X = subset_train_df.drop([\"landmark_id\", \"id\", \"image_path\", \"mean_rgb\"], axis=1)\n",
    "y = subset_train_df[\"landmark_id\"].astype(int)\n",
    "X_train, X_test, y_train, y_test = train_test_split(\n",
    "    X, y, test_size=0.2, random_state=42\n",
    ")\n",
    "\n",
    "# Encode labels to ensure they are 0-based consecutive integers\n",
    "le = LabelEncoder()\n",
    "# Fit LabelEncoder on all possible classes for Average precision score\n",
    "le.fit(y)\n",
    "y_train_encoded = le.transform(y_train)\n",
    "y_test_encoded = le.transform(y_test)\n",
    "tensor_target = torch.tensor(y_test_encoded, dtype=torch.long)"
   ],
   "id": "b80227a413d74538",
   "outputs": [],
   "execution_count": 18
  },
  {
   "metadata": {
    "ExecuteTime": {
     "end_time": "2025-09-03T02:19:21.396856Z",
     "start_time": "2025-09-03T02:19:21.394563Z"
    }
   },
   "cell_type": "code",
   "source": [
    "sklearn_models = [\n",
    "    \"Random Forest\",\n",
    "    \"Logistic Regression\",\n",
    "    \"SVC\",\n",
    "    \"Gradient Boosting\",\n",
    "]"
   ],
   "id": "958f22ec0a77b523",
   "outputs": [],
   "execution_count": 41
  },
  {
   "metadata": {},
   "cell_type": "code",
   "outputs": [],
   "execution_count": null,
   "source": [
    "models = [\n",
    "    (\n",
    "        \"Random Forest\",\n",
    "        RandomForestClassifier(\n",
    "            n_estimators=100, max_depth=7, n_jobs=-1, random_state=42\n",
    "        ),\n",
    "        (X_train, y_train),\n",
    "        (X_test, y_test),\n",
    "        (y_train_encoded, y_test_encoded),\n",
    "    ),\n",
    "    (\n",
    "        \"Logistic Regression\",\n",
    "        LogisticRegression(random_state=42),\n",
    "        (X_train, y_train),\n",
    "        (X_test, y_test),\n",
    "        (y_train_encoded, y_test_encoded),\n",
    "    ),\n",
    "    (\n",
    "        \"SVC\",\n",
    "        SVC(probability=True, random_state=42),\n",
    "        (X_train, y_train),\n",
    "        (X_test, y_test),\n",
    "        (y_train_encoded, y_test_encoded),\n",
    "    ),\n",
    "    (\n",
    "        \"Gradient Boosting\",\n",
    "        GradientBoostingClassifier(n_estimators=50, max_depth=1, random_state=42),\n",
    "        (X_train, y_train),\n",
    "        (X_test, y_test),\n",
    "        (y_train_encoded, y_test_encoded),\n",
    "    ),\n",
    "]"
   ],
   "id": "3bb5e952228446e4"
  },
  {
   "metadata": {
    "ExecuteTime": {
     "end_time": "2025-09-02T02:49:58.549082Z",
     "start_time": "2025-09-02T02:49:58.546758Z"
    }
   },
   "cell_type": "code",
   "source": "reports = []",
   "id": "54589c45ad27396b",
   "outputs": [],
   "execution_count": 98
  },
  {
   "metadata": {
    "ExecuteTime": {
     "end_time": "2025-09-02T02:53:13.682557Z",
     "start_time": "2025-09-02T02:50:06.072004Z"
    }
   },
   "cell_type": "code",
   "source": [
    "for model_name, model, train, test, y_encoded in models:\n",
    "    X_train, y_train = train\n",
    "    X_test, y_test = test\n",
    "    y_train_encoded, y_test_encoded = y_encoded\n",
    "    tensor_target = torch.tensor(y_test_encoded, dtype=torch.long)\n",
    "\n",
    "    print(f\"Model: {model_name}\")\n",
    "    start = time.perf_counter()\n",
    "    model.fit(X_train, y_train)\n",
    "    elapsed = time.perf_counter() - start\n",
    "    print(f\"Elapsed: {elapsed:.3f}s\")\n",
    "\n",
    "    y_pred = model.predict(X_test)\n",
    "    y_pred_proba = model.predict_proba(X_test)\n",
    "\n",
    "    report = classification_report(\n",
    "        y_test_encoded, le.transform(y_pred), output_dict=True\n",
    "    )\n",
    "    metric = MulticlassAveragePrecision(\n",
    "        num_classes=len(y_pred_proba[0]), average=\"macro\"\n",
    "    )\n",
    "    tensor_pred = torch.tensor(y_pred_proba)\n",
    "    average_precision = metric(tensor_pred, tensor_target)\n",
    "    print(\"Average precision:\", average_precision)\n",
    "    reports.append((report, average_precision))"
   ],
   "id": "b94d7b1b615ee4f2",
   "outputs": [
    {
     "name": "stdout",
     "output_type": "stream",
     "text": [
      "Model: Random Forest\n",
      "Elapsed: 0.409s\n",
      "Average precision: tensor(0.3140)\n",
      "Model: Logistic Regression\n",
      "Elapsed: 1.123s\n",
      "Average precision: tensor(0.0786)\n",
      "Model: SVC\n",
      "Elapsed: 17.820s\n",
      "Average precision: tensor(0.1536)\n",
      "Model: Gradient Boosting\n",
      "Elapsed: 154.972s\n",
      "Average precision: tensor(0.2627)\n"
     ]
    }
   ],
   "execution_count": 99
  },
  {
   "metadata": {
    "ExecuteTime": {
     "end_time": "2025-09-02T02:53:18.710961Z",
     "start_time": "2025-09-02T02:53:18.705129Z"
    }
   },
   "cell_type": "code",
   "source": "reports[0]",
   "id": "e69a1d420266faf9",
   "outputs": [
    {
     "data": {
      "text/plain": [
       "({'0': {'precision': 0.0, 'recall': 0.0, 'f1-score': 0.0, 'support': 11.0},\n",
       "  '2': {'precision': 0.8,\n",
       "   'recall': 0.09523809523809523,\n",
       "   'f1-score': 0.1702127659574468,\n",
       "   'support': 42.0},\n",
       "  '3': {'precision': 0.0, 'recall': 0.0, 'f1-score': 0.0, 'support': 15.0},\n",
       "  '4': {'precision': 0.5,\n",
       "   'recall': 0.1,\n",
       "   'f1-score': 0.16666666666666666,\n",
       "   'support': 20.0},\n",
       "  '5': {'precision': 0.0, 'recall': 0.0, 'f1-score': 0.0, 'support': 12.0},\n",
       "  '6': {'precision': 0.0, 'recall': 0.0, 'f1-score': 0.0, 'support': 2.0},\n",
       "  '7': {'precision': 1.0,\n",
       "   'recall': 0.13043478260869565,\n",
       "   'f1-score': 0.23076923076923078,\n",
       "   'support': 23.0},\n",
       "  '8': {'precision': 0.0, 'recall': 0.0, 'f1-score': 0.0, 'support': 1.0},\n",
       "  '9': {'precision': 0.2857142857142857,\n",
       "   'recall': 0.10526315789473684,\n",
       "   'f1-score': 0.15384615384615385,\n",
       "   'support': 19.0},\n",
       "  '10': {'precision': 1.0,\n",
       "   'recall': 0.07142857142857142,\n",
       "   'f1-score': 0.13333333333333333,\n",
       "   'support': 28.0},\n",
       "  '11': {'precision': 0.0, 'recall': 0.0, 'f1-score': 0.0, 'support': 19.0},\n",
       "  '12': {'precision': 0.0, 'recall': 0.0, 'f1-score': 0.0, 'support': 1.0},\n",
       "  '13': {'precision': 0.19047619047619047,\n",
       "   'recall': 0.14035087719298245,\n",
       "   'f1-score': 0.16161616161616163,\n",
       "   'support': 57.0},\n",
       "  '14': {'precision': 0.0, 'recall': 0.0, 'f1-score': 0.0, 'support': 2.0},\n",
       "  '15': {'precision': 0.23210831721470018,\n",
       "   'recall': 0.7947019867549668,\n",
       "   'f1-score': 0.3592814371257485,\n",
       "   'support': 151.0},\n",
       "  '16': {'precision': 0.0, 'recall': 0.0, 'f1-score': 0.0, 'support': 13.0},\n",
       "  '17': {'precision': 0.0, 'recall': 0.0, 'f1-score': 0.0, 'support': 7.0},\n",
       "  '18': {'precision': 1.0,\n",
       "   'recall': 0.3333333333333333,\n",
       "   'f1-score': 0.5,\n",
       "   'support': 9.0},\n",
       "  '19': {'precision': 0.4362745098039216,\n",
       "   'recall': 0.5741935483870968,\n",
       "   'f1-score': 0.4958217270194986,\n",
       "   'support': 155.0},\n",
       "  '20': {'precision': 0.0, 'recall': 0.0, 'f1-score': 0.0, 'support': 2.0},\n",
       "  '21': {'precision': 0.0, 'recall': 0.0, 'f1-score': 0.0, 'support': 11.0},\n",
       "  '22': {'precision': 0.0, 'recall': 0.0, 'f1-score': 0.0, 'support': 7.0},\n",
       "  '23': {'precision': 0.0, 'recall': 0.0, 'f1-score': 0.0, 'support': 16.0},\n",
       "  '25': {'precision': 0.36,\n",
       "   'recall': 0.140625,\n",
       "   'f1-score': 0.20224719101123595,\n",
       "   'support': 64.0},\n",
       "  '26': {'precision': 0.0, 'recall': 0.0, 'f1-score': 0.0, 'support': 16.0},\n",
       "  '27': {'precision': 0.0, 'recall': 0.0, 'f1-score': 0.0, 'support': 8.0},\n",
       "  '29': {'precision': 0.0, 'recall': 0.0, 'f1-score': 0.0, 'support': 17.0},\n",
       "  '30': {'precision': 0.0, 'recall': 0.0, 'f1-score': 0.0, 'support': 20.0},\n",
       "  '31': {'precision': 0.5752212389380531,\n",
       "   'recall': 0.7142857142857143,\n",
       "   'f1-score': 0.6372549019607843,\n",
       "   'support': 91.0},\n",
       "  '32': {'precision': 1.0,\n",
       "   'recall': 0.4,\n",
       "   'f1-score': 0.5714285714285714,\n",
       "   'support': 15.0},\n",
       "  '33': {'precision': 0.71875,\n",
       "   'recall': 0.6052631578947368,\n",
       "   'f1-score': 0.6571428571428571,\n",
       "   'support': 38.0},\n",
       "  '34': {'precision': 0.0, 'recall': 0.0, 'f1-score': 0.0, 'support': 6.0},\n",
       "  '35': {'precision': 0.8181818181818182,\n",
       "   'recall': 0.391304347826087,\n",
       "   'f1-score': 0.5294117647058824,\n",
       "   'support': 23.0},\n",
       "  '36': {'precision': 0.0, 'recall': 0.0, 'f1-score': 0.0, 'support': 11.0},\n",
       "  '37': {'precision': 0.0, 'recall': 0.0, 'f1-score': 0.0, 'support': 20.0},\n",
       "  '38': {'precision': 0.0, 'recall': 0.0, 'f1-score': 0.0, 'support': 4.0},\n",
       "  '39': {'precision': 0.0, 'recall': 0.0, 'f1-score': 0.0, 'support': 13.0},\n",
       "  '40': {'precision': 0.7804878048780488,\n",
       "   'recall': 0.5161290322580645,\n",
       "   'f1-score': 0.6213592233009708,\n",
       "   'support': 62.0},\n",
       "  '41': {'precision': 1.0,\n",
       "   'recall': 0.21428571428571427,\n",
       "   'f1-score': 0.35294117647058826,\n",
       "   'support': 14.0},\n",
       "  '42': {'precision': 0.0, 'recall': 0.0, 'f1-score': 0.0, 'support': 1.0},\n",
       "  '43': {'precision': 1.0,\n",
       "   'recall': 0.15,\n",
       "   'f1-score': 0.2608695652173913,\n",
       "   'support': 20.0},\n",
       "  '44': {'precision': 0.0, 'recall': 0.0, 'f1-score': 0.0, 'support': 12.0},\n",
       "  '45': {'precision': 0.0, 'recall': 0.0, 'f1-score': 0.0, 'support': 16.0},\n",
       "  '46': {'precision': 1.0,\n",
       "   'recall': 0.05263157894736842,\n",
       "   'f1-score': 0.1,\n",
       "   'support': 19.0},\n",
       "  '47': {'precision': 0.0, 'recall': 0.0, 'f1-score': 0.0, 'support': 3.0},\n",
       "  '48': {'precision': 0.0, 'recall': 0.0, 'f1-score': 0.0, 'support': 21.0},\n",
       "  '49': {'precision': 0.0, 'recall': 0.0, 'f1-score': 0.0, 'support': 9.0},\n",
       "  '50': {'precision': 0.0, 'recall': 0.0, 'f1-score': 0.0, 'support': 6.0},\n",
       "  '51': {'precision': 0.9285714285714286,\n",
       "   'recall': 0.2653061224489796,\n",
       "   'f1-score': 0.4126984126984127,\n",
       "   'support': 49.0},\n",
       "  '52': {'precision': 0.0, 'recall': 0.0, 'f1-score': 0.0, 'support': 35.0},\n",
       "  '53': {'precision': 0.5439093484419264,\n",
       "   'recall': 0.9504950495049505,\n",
       "   'f1-score': 0.6918918918918919,\n",
       "   'support': 202.0},\n",
       "  '54': {'precision': 0.0, 'recall': 0.0, 'f1-score': 0.0, 'support': 2.0},\n",
       "  '55': {'precision': 0.0, 'recall': 0.0, 'f1-score': 0.0, 'support': 5.0},\n",
       "  '56': {'precision': 1.0,\n",
       "   'recall': 0.047619047619047616,\n",
       "   'f1-score': 0.09090909090909091,\n",
       "   'support': 21.0},\n",
       "  '57': {'precision': 0.0, 'recall': 0.0, 'f1-score': 0.0, 'support': 2.0},\n",
       "  '58': {'precision': 0.0, 'recall': 0.0, 'f1-score': 0.0, 'support': 3.0},\n",
       "  '59': {'precision': 0.1,\n",
       "   'recall': 0.022222222222222223,\n",
       "   'f1-score': 0.03636363636363636,\n",
       "   'support': 45.0},\n",
       "  '60': {'precision': 0.0, 'recall': 0.0, 'f1-score': 0.0, 'support': 3.0},\n",
       "  '62': {'precision': 0.7318757192174914,\n",
       "   'recall': 0.9960845732184808,\n",
       "   'f1-score': 0.8437810945273632,\n",
       "   'support': 1277.0},\n",
       "  '63': {'precision': 0.0, 'recall': 0.0, 'f1-score': 0.0, 'support': 25.0},\n",
       "  '64': {'precision': 0.5,\n",
       "   'recall': 0.17647058823529413,\n",
       "   'f1-score': 0.2608695652173913,\n",
       "   'support': 17.0},\n",
       "  '65': {'precision': 0.8181818181818182,\n",
       "   'recall': 0.16363636363636364,\n",
       "   'f1-score': 0.2727272727272727,\n",
       "   'support': 55.0},\n",
       "  '66': {'precision': 0.0, 'recall': 0.0, 'f1-score': 0.0, 'support': 1.0},\n",
       "  '67': {'precision': 0.6666666666666666,\n",
       "   'recall': 0.09523809523809523,\n",
       "   'f1-score': 0.16666666666666666,\n",
       "   'support': 21.0},\n",
       "  '68': {'precision': 0.0, 'recall': 0.0, 'f1-score': 0.0, 'support': 4.0},\n",
       "  '70': {'precision': 0.0, 'recall': 0.0, 'f1-score': 0.0, 'support': 1.0},\n",
       "  '71': {'precision': 0.0, 'recall': 0.0, 'f1-score': 0.0, 'support': 3.0},\n",
       "  '72': {'precision': 0.0, 'recall': 0.0, 'f1-score': 0.0, 'support': 2.0},\n",
       "  '73': {'precision': 0.0, 'recall': 0.0, 'f1-score': 0.0, 'support': 11.0},\n",
       "  '74': {'precision': 0.0, 'recall': 0.0, 'f1-score': 0.0, 'support': 6.0},\n",
       "  '75': {'precision': 0.0, 'recall': 0.0, 'f1-score': 0.0, 'support': 2.0},\n",
       "  '76': {'precision': 0.6666666666666666,\n",
       "   'recall': 0.1111111111111111,\n",
       "   'f1-score': 0.19047619047619047,\n",
       "   'support': 18.0},\n",
       "  '77': {'precision': 0.0, 'recall': 0.0, 'f1-score': 0.0, 'support': 1.0},\n",
       "  '78': {'precision': 0.0, 'recall': 0.0, 'f1-score': 0.0, 'support': 12.0},\n",
       "  '79': {'precision': 0.0, 'recall': 0.0, 'f1-score': 0.0, 'support': 1.0},\n",
       "  '80': {'precision': 0.0, 'recall': 0.0, 'f1-score': 0.0, 'support': 5.0},\n",
       "  '81': {'precision': 0.0, 'recall': 0.0, 'f1-score': 0.0, 'support': 2.0},\n",
       "  '82': {'precision': 0.0, 'recall': 0.0, 'f1-score': 0.0, 'support': 1.0},\n",
       "  '83': {'precision': 0.0, 'recall': 0.0, 'f1-score': 0.0, 'support': 16.0},\n",
       "  '84': {'precision': 0.6875,\n",
       "   'recall': 0.3793103448275862,\n",
       "   'f1-score': 0.4888888888888889,\n",
       "   'support': 29.0},\n",
       "  '85': {'precision': 0.6,\n",
       "   'recall': 0.08823529411764706,\n",
       "   'f1-score': 0.15384615384615385,\n",
       "   'support': 34.0},\n",
       "  '86': {'precision': 0.0, 'recall': 0.0, 'f1-score': 0.0, 'support': 23.0},\n",
       "  '87': {'precision': 0.0, 'recall': 0.0, 'f1-score': 0.0, 'support': 5.0},\n",
       "  '88': {'precision': 0.0, 'recall': 0.0, 'f1-score': 0.0, 'support': 5.0},\n",
       "  '89': {'precision': 0.0, 'recall': 0.0, 'f1-score': 0.0, 'support': 5.0},\n",
       "  '90': {'precision': 0.0, 'recall': 0.0, 'f1-score': 0.0, 'support': 2.0},\n",
       "  '91': {'precision': 0.0, 'recall': 0.0, 'f1-score': 0.0, 'support': 1.0},\n",
       "  '92': {'precision': 1.0,\n",
       "   'recall': 0.2857142857142857,\n",
       "   'f1-score': 0.4444444444444444,\n",
       "   'support': 14.0},\n",
       "  '93': {'precision': 0.0, 'recall': 0.0, 'f1-score': 0.0, 'support': 4.0},\n",
       "  '94': {'precision': 0.0, 'recall': 0.0, 'f1-score': 0.0, 'support': 12.0},\n",
       "  '95': {'precision': 1.0,\n",
       "   'recall': 0.06451612903225806,\n",
       "   'f1-score': 0.12121212121212122,\n",
       "   'support': 31.0},\n",
       "  '96': {'precision': 0.0, 'recall': 0.0, 'f1-score': 0.0, 'support': 2.0},\n",
       "  '97': {'precision': 0.0, 'recall': 0.0, 'f1-score': 0.0, 'support': 6.0},\n",
       "  '98': {'precision': 0.0, 'recall': 0.0, 'f1-score': 0.0, 'support': 16.0},\n",
       "  'accuracy': 0.5954844778927564,\n",
       "  'macro avg': {'precision': 0.23341048737184059,\n",
       "   'recall': 0.09761093750279241,\n",
       "   'f1-score': 0.11147849103661751,\n",
       "   'support': 3189.0},\n",
       "  'weighted avg': {'precision': 0.5458686608638229,\n",
       "   'recall': 0.5954844778927564,\n",
       "   'f1-score': 0.5115360731560091,\n",
       "   'support': 3189.0}},\n",
       " tensor(0.3140))"
      ]
     },
     "execution_count": 101,
     "metadata": {},
     "output_type": "execute_result"
    }
   ],
   "execution_count": 101
  },
  {
   "metadata": {
    "ExecuteTime": {
     "end_time": "2025-09-02T02:55:27.300193Z",
     "start_time": "2025-09-02T02:55:03.530252Z"
    }
   },
   "cell_type": "code",
   "source": [
    "for i, model_item in enumerate(models):\n",
    "    model_name = model_item[0]\n",
    "    model = model_item[1]\n",
    "    X_train, _ = model_item[2]\n",
    "    report, average_precision = reports[i]\n",
    "    with mlflow.start_run(run_name=model_name):\n",
    "        mlflow.log_params(model.get_params())\n",
    "        mlflow.log_metric(\"accuracy\", report[\"accuracy\"])\n",
    "        mlflow.log_metric(\"average_precision\", average_precision)\n",
    "        mlflow.log_metric(\"macro_f1\", report[\"macro avg\"][\"f1-score\"])\n",
    "        mlflow.log_metric(\"macro_recall\", report[\"macro avg\"][\"recall\"])\n",
    "        mlflow.log_metric(\"macro_precision\", report[\"macro avg\"][\"precision\"])\n",
    "        mlflow.log_metric(\"weighted_f1\", report[\"weighted avg\"][\"f1-score\"])\n",
    "        mlflow.log_metric(\"weighted_recall\", report[\"weighted avg\"][\"recall\"])\n",
    "        mlflow.log_metric(\"weighted_precision\", report[\"weighted avg\"][\"precision\"])\n",
    "        if model_name in sklearn_models:\n",
    "            mlflow.sklearn.log_model(\n",
    "                model, name=model_name, input_example=X_train.sample(1)\n",
    "            )"
   ],
   "id": "c54829f4664b4456",
   "outputs": [],
   "execution_count": 106
  },
  {
   "metadata": {},
   "cell_type": "markdown",
   "source": "## Model Evaluation",
   "id": "af9ccff14cf5de53"
  },
  {
   "metadata": {
    "ExecuteTime": {
     "end_time": "2025-09-02T03:18:59.752997Z",
     "start_time": "2025-09-02T03:18:59.749075Z"
    }
   },
   "cell_type": "code",
   "source": [
    "# Build comparison DataFrame from `reports` and `models`\n",
    "\n",
    "\n",
    "def get_metrics(report, average_precision, model_name):\n",
    "    return [\n",
    "        {\n",
    "            \"metric\": \"accuracy\",\n",
    "            \"value\": report[\"accuracy\"],\n",
    "            \"model_name\": model_name,\n",
    "        },\n",
    "        {\n",
    "            \"metric\": \"average_precision\",\n",
    "            \"value\": float(average_precision),\n",
    "            \"model_name\": model_name,\n",
    "        },\n",
    "        {\n",
    "            \"metric\": \"macro_f1\",\n",
    "            \"value\": report[\"macro avg\"][\"f1-score\"],\n",
    "            \"model_name\": model_name,\n",
    "        },\n",
    "        {\n",
    "            \"metric\": \"macro_recall\",\n",
    "            \"value\": report[\"macro avg\"][\"recall\"],\n",
    "            \"model_name\": model_name,\n",
    "        },\n",
    "        {\n",
    "            \"metric\": \"macro_precision\",\n",
    "            \"value\": report[\"macro avg\"][\"precision\"],\n",
    "            \"model_name\": model_name,\n",
    "        },\n",
    "        {\n",
    "            \"metric\": \"weighted_f1\",\n",
    "            \"value\": report[\"weighted avg\"][\"f1-score\"],\n",
    "            \"model_name\": model_name,\n",
    "        },\n",
    "        {\n",
    "            \"metric\": \"weighted_recall\",\n",
    "            \"value\": report[\"weighted avg\"][\"recall\"],\n",
    "            \"model_name\": model_name,\n",
    "        },\n",
    "        {\n",
    "            \"metric\": \"weighted_precision\",\n",
    "            \"value\": report[\"weighted avg\"][\"precision\"],\n",
    "            \"model_name\": model_name,\n",
    "        },\n",
    "    ]\n",
    "\n",
    "\n",
    "metrics_records = []\n",
    "for i, model_item in enumerate(models):\n",
    "    model_name = model_item[0]\n",
    "    report, average_precision = reports[i]\n",
    "    metrics_records += get_metrics(report, average_precision, model_name)\n",
    "\n",
    "metrics_df = pd.DataFrame(metrics_records)"
   ],
   "id": "accc090ea8b39d0f",
   "outputs": [],
   "execution_count": 114
  },
  {
   "metadata": {
    "ExecuteTime": {
     "end_time": "2025-09-02T03:20:08.085091Z",
     "start_time": "2025-09-02T03:20:06.288229Z"
    }
   },
   "cell_type": "code",
   "source": [
    "fig = px.bar(\n",
    "    metrics_df,\n",
    "    x=\"model_name\",\n",
    "    y=\"value\",\n",
    "    color=\"metric\",\n",
    "    barmode=\"group\",\n",
    "    title=\"Model Metric Comparison: Random Forest has best mAP score\",\n",
    "    labels={\"Value\": \"Score\", \"model_name\": \"Model\", \"metric\": \"Metric\"},\n",
    ")\n",
    "fig.update_layout(width=1200, height=600, legend_title_text=\"Metric\")\n",
    "fig.show()\n",
    "\n",
    "fig.write_image(\"images/model_metrics_comparison.png\", width=1200, height=600)"
   ],
   "id": "7b86d1936ff68735",
   "outputs": [
    {
     "data": {
      "application/vnd.plotly.v1+json": {
       "data": [
        {
         "alignmentgroup": "True",
         "hovertemplate": "Metric=accuracy<br>Model=%{x}<br>value=%{y}<extra></extra>",
         "legendgroup": "accuracy",
         "marker": {
          "color": "#636efa",
          "pattern": {
           "shape": ""
          }
         },
         "name": "accuracy",
         "offsetgroup": "accuracy",
         "orientation": "v",
         "showlegend": true,
         "textposition": "auto",
         "x": [
          "Random Forest",
          "Logistic Regression",
          "SVC",
          "Gradient Boosting"
         ],
         "xaxis": "x",
         "y": {
          "dtype": "f8",
          "bdata": "mGa6djUO4z+AEc71oordP1u5r0cXpt8/Wy0/mf9Q4z8="
         },
         "yaxis": "y",
         "type": "bar"
        },
        {
         "alignmentgroup": "True",
         "hovertemplate": "Metric=average_precision<br>Model=%{x}<br>value=%{y}<extra></extra>",
         "legendgroup": "average_precision",
         "marker": {
          "color": "#EF553B",
          "pattern": {
           "shape": ""
          }
         },
         "name": "average_precision",
         "offsetgroup": "average_precision",
         "orientation": "v",
         "showlegend": true,
         "textposition": "auto",
         "x": [
          "Random Forest",
          "Logistic Regression",
          "SVC",
          "Gradient Boosting"
         ],
         "xaxis": "x",
         "y": {
          "dtype": "f8",
          "bdata": "AAAAwFoZ1D8AAAAgZSK0PwAAAMDRp8M/AAAAQH3Q0D8="
         },
         "yaxis": "y",
         "type": "bar"
        },
        {
         "alignmentgroup": "True",
         "hovertemplate": "Metric=macro_f1<br>Model=%{x}<br>value=%{y}<extra></extra>",
         "legendgroup": "macro_f1",
         "marker": {
          "color": "#00cc96",
          "pattern": {
           "shape": ""
          }
         },
         "name": "macro_f1",
         "offsetgroup": "macro_f1",
         "orientation": "v",
         "showlegend": true,
         "textposition": "auto",
         "x": [
          "Random Forest",
          "Logistic Regression",
          "SVC",
          "Gradient Boosting"
         ],
         "xaxis": "x",
         "y": {
          "dtype": "f8",
          "bdata": "/a41udqJvD9mQqtogGWhP4dT1RCFnps/S0zI/GERyT8="
         },
         "yaxis": "y",
         "type": "bar"
        },
        {
         "alignmentgroup": "True",
         "hovertemplate": "Metric=macro_recall<br>Model=%{x}<br>value=%{y}<extra></extra>",
         "legendgroup": "macro_recall",
         "marker": {
          "color": "#ab63fa",
          "pattern": {
           "shape": ""
          }
         },
         "name": "macro_recall",
         "offsetgroup": "macro_recall",
         "orientation": "v",
         "showlegend": true,
         "textposition": "auto",
         "x": [
          "Random Forest",
          "Logistic Regression",
          "SVC",
          "Gradient Boosting"
         ],
         "xaxis": "x",
         "y": {
          "dtype": "f8",
          "bdata": "y29OyAf9uD8BdjrTZiKjP6xWf8Xx5KI/iJMp08dCxz8="
         },
         "yaxis": "y",
         "type": "bar"
        },
        {
         "alignmentgroup": "True",
         "hovertemplate": "Metric=macro_precision<br>Model=%{x}<br>value=%{y}<extra></extra>",
         "legendgroup": "macro_precision",
         "marker": {
          "color": "#FFA15A",
          "pattern": {
           "shape": ""
          }
         },
         "name": "macro_precision",
         "offsetgroup": "macro_precision",
         "orientation": "v",
         "showlegend": true,
         "textposition": "auto",
         "x": [
          "Random Forest",
          "Logistic Regression",
          "SVC",
          "Gradient Boosting"
         ],
         "xaxis": "x",
         "y": {
          "dtype": "f8",
          "bdata": "2RnnFGXgzT/AFCt191ypP6oot2x8q50/je4CPvHi0j8="
         },
         "yaxis": "y",
         "type": "bar"
        },
        {
         "alignmentgroup": "True",
         "hovertemplate": "Metric=weighted_f1<br>Model=%{x}<br>value=%{y}<extra></extra>",
         "legendgroup": "weighted_f1",
         "marker": {
          "color": "#19d3f3",
          "pattern": {
           "shape": ""
          }
         },
         "name": "weighted_f1",
         "offsetgroup": "weighted_f1",
         "orientation": "v",
         "showlegend": true,
         "textposition": "auto",
         "x": [
          "Random Forest",
          "Logistic Regression",
          "SVC",
          "Gradient Boosting"
         ],
         "xaxis": "x",
         "y": {
          "dtype": "f8",
          "bdata": "A70d5oBe4D8/bJghJLLWP09/f2+UItc/DhjwTwY24T8="
         },
         "yaxis": "y",
         "type": "bar"
        },
        {
         "alignmentgroup": "True",
         "hovertemplate": "Metric=weighted_recall<br>Model=%{x}<br>value=%{y}<extra></extra>",
         "legendgroup": "weighted_recall",
         "marker": {
          "color": "#FF6692",
          "pattern": {
           "shape": ""
          }
         },
         "name": "weighted_recall",
         "offsetgroup": "weighted_recall",
         "orientation": "v",
         "showlegend": true,
         "textposition": "auto",
         "x": [
          "Random Forest",
          "Logistic Regression",
          "SVC",
          "Gradient Boosting"
         ],
         "xaxis": "x",
         "y": {
          "dtype": "f8",
          "bdata": "mGa6djUO4z+AEc71oordP1u5r0cXpt8/Wy0/mf9Q4z8="
         },
         "yaxis": "y",
         "type": "bar"
        },
        {
         "alignmentgroup": "True",
         "hovertemplate": "Metric=weighted_precision<br>Model=%{x}<br>value=%{y}<extra></extra>",
         "legendgroup": "weighted_precision",
         "marker": {
          "color": "#B6E880",
          "pattern": {
           "shape": ""
          }
         },
         "name": "weighted_precision",
         "offsetgroup": "weighted_precision",
         "orientation": "v",
         "showlegend": true,
         "textposition": "auto",
         "x": [
          "Random Forest",
          "Logistic Regression",
          "SVC",
          "Gradient Boosting"
         ],
         "xaxis": "x",
         "y": {
          "dtype": "f8",
          "bdata": "MUnKjcF34T8rJG+BDATVP/ia6lu4g9M/JLo2pfGQ4T8="
         },
         "yaxis": "y",
         "type": "bar"
        }
       ],
       "layout": {
        "template": {
         "data": {
          "histogram2dcontour": [
           {
            "type": "histogram2dcontour",
            "colorbar": {
             "outlinewidth": 0,
             "ticks": ""
            },
            "colorscale": [
             [
              0.0,
              "#0d0887"
             ],
             [
              0.1111111111111111,
              "#46039f"
             ],
             [
              0.2222222222222222,
              "#7201a8"
             ],
             [
              0.3333333333333333,
              "#9c179e"
             ],
             [
              0.4444444444444444,
              "#bd3786"
             ],
             [
              0.5555555555555556,
              "#d8576b"
             ],
             [
              0.6666666666666666,
              "#ed7953"
             ],
             [
              0.7777777777777778,
              "#fb9f3a"
             ],
             [
              0.8888888888888888,
              "#fdca26"
             ],
             [
              1.0,
              "#f0f921"
             ]
            ]
           }
          ],
          "choropleth": [
           {
            "type": "choropleth",
            "colorbar": {
             "outlinewidth": 0,
             "ticks": ""
            }
           }
          ],
          "histogram2d": [
           {
            "type": "histogram2d",
            "colorbar": {
             "outlinewidth": 0,
             "ticks": ""
            },
            "colorscale": [
             [
              0.0,
              "#0d0887"
             ],
             [
              0.1111111111111111,
              "#46039f"
             ],
             [
              0.2222222222222222,
              "#7201a8"
             ],
             [
              0.3333333333333333,
              "#9c179e"
             ],
             [
              0.4444444444444444,
              "#bd3786"
             ],
             [
              0.5555555555555556,
              "#d8576b"
             ],
             [
              0.6666666666666666,
              "#ed7953"
             ],
             [
              0.7777777777777778,
              "#fb9f3a"
             ],
             [
              0.8888888888888888,
              "#fdca26"
             ],
             [
              1.0,
              "#f0f921"
             ]
            ]
           }
          ],
          "heatmap": [
           {
            "type": "heatmap",
            "colorbar": {
             "outlinewidth": 0,
             "ticks": ""
            },
            "colorscale": [
             [
              0.0,
              "#0d0887"
             ],
             [
              0.1111111111111111,
              "#46039f"
             ],
             [
              0.2222222222222222,
              "#7201a8"
             ],
             [
              0.3333333333333333,
              "#9c179e"
             ],
             [
              0.4444444444444444,
              "#bd3786"
             ],
             [
              0.5555555555555556,
              "#d8576b"
             ],
             [
              0.6666666666666666,
              "#ed7953"
             ],
             [
              0.7777777777777778,
              "#fb9f3a"
             ],
             [
              0.8888888888888888,
              "#fdca26"
             ],
             [
              1.0,
              "#f0f921"
             ]
            ]
           }
          ],
          "contourcarpet": [
           {
            "type": "contourcarpet",
            "colorbar": {
             "outlinewidth": 0,
             "ticks": ""
            }
           }
          ],
          "contour": [
           {
            "type": "contour",
            "colorbar": {
             "outlinewidth": 0,
             "ticks": ""
            },
            "colorscale": [
             [
              0.0,
              "#0d0887"
             ],
             [
              0.1111111111111111,
              "#46039f"
             ],
             [
              0.2222222222222222,
              "#7201a8"
             ],
             [
              0.3333333333333333,
              "#9c179e"
             ],
             [
              0.4444444444444444,
              "#bd3786"
             ],
             [
              0.5555555555555556,
              "#d8576b"
             ],
             [
              0.6666666666666666,
              "#ed7953"
             ],
             [
              0.7777777777777778,
              "#fb9f3a"
             ],
             [
              0.8888888888888888,
              "#fdca26"
             ],
             [
              1.0,
              "#f0f921"
             ]
            ]
           }
          ],
          "surface": [
           {
            "type": "surface",
            "colorbar": {
             "outlinewidth": 0,
             "ticks": ""
            },
            "colorscale": [
             [
              0.0,
              "#0d0887"
             ],
             [
              0.1111111111111111,
              "#46039f"
             ],
             [
              0.2222222222222222,
              "#7201a8"
             ],
             [
              0.3333333333333333,
              "#9c179e"
             ],
             [
              0.4444444444444444,
              "#bd3786"
             ],
             [
              0.5555555555555556,
              "#d8576b"
             ],
             [
              0.6666666666666666,
              "#ed7953"
             ],
             [
              0.7777777777777778,
              "#fb9f3a"
             ],
             [
              0.8888888888888888,
              "#fdca26"
             ],
             [
              1.0,
              "#f0f921"
             ]
            ]
           }
          ],
          "mesh3d": [
           {
            "type": "mesh3d",
            "colorbar": {
             "outlinewidth": 0,
             "ticks": ""
            }
           }
          ],
          "scatter": [
           {
            "fillpattern": {
             "fillmode": "overlay",
             "size": 10,
             "solidity": 0.2
            },
            "type": "scatter"
           }
          ],
          "parcoords": [
           {
            "type": "parcoords",
            "line": {
             "colorbar": {
              "outlinewidth": 0,
              "ticks": ""
             }
            }
           }
          ],
          "scatterpolargl": [
           {
            "type": "scatterpolargl",
            "marker": {
             "colorbar": {
              "outlinewidth": 0,
              "ticks": ""
             }
            }
           }
          ],
          "bar": [
           {
            "error_x": {
             "color": "#2a3f5f"
            },
            "error_y": {
             "color": "#2a3f5f"
            },
            "marker": {
             "line": {
              "color": "#E5ECF6",
              "width": 0.5
             },
             "pattern": {
              "fillmode": "overlay",
              "size": 10,
              "solidity": 0.2
             }
            },
            "type": "bar"
           }
          ],
          "scattergeo": [
           {
            "type": "scattergeo",
            "marker": {
             "colorbar": {
              "outlinewidth": 0,
              "ticks": ""
             }
            }
           }
          ],
          "scatterpolar": [
           {
            "type": "scatterpolar",
            "marker": {
             "colorbar": {
              "outlinewidth": 0,
              "ticks": ""
             }
            }
           }
          ],
          "histogram": [
           {
            "marker": {
             "pattern": {
              "fillmode": "overlay",
              "size": 10,
              "solidity": 0.2
             }
            },
            "type": "histogram"
           }
          ],
          "scattergl": [
           {
            "type": "scattergl",
            "marker": {
             "colorbar": {
              "outlinewidth": 0,
              "ticks": ""
             }
            }
           }
          ],
          "scatter3d": [
           {
            "type": "scatter3d",
            "line": {
             "colorbar": {
              "outlinewidth": 0,
              "ticks": ""
             }
            },
            "marker": {
             "colorbar": {
              "outlinewidth": 0,
              "ticks": ""
             }
            }
           }
          ],
          "scattermap": [
           {
            "type": "scattermap",
            "marker": {
             "colorbar": {
              "outlinewidth": 0,
              "ticks": ""
             }
            }
           }
          ],
          "scattermapbox": [
           {
            "type": "scattermapbox",
            "marker": {
             "colorbar": {
              "outlinewidth": 0,
              "ticks": ""
             }
            }
           }
          ],
          "scatterternary": [
           {
            "type": "scatterternary",
            "marker": {
             "colorbar": {
              "outlinewidth": 0,
              "ticks": ""
             }
            }
           }
          ],
          "scattercarpet": [
           {
            "type": "scattercarpet",
            "marker": {
             "colorbar": {
              "outlinewidth": 0,
              "ticks": ""
             }
            }
           }
          ],
          "carpet": [
           {
            "aaxis": {
             "endlinecolor": "#2a3f5f",
             "gridcolor": "white",
             "linecolor": "white",
             "minorgridcolor": "white",
             "startlinecolor": "#2a3f5f"
            },
            "baxis": {
             "endlinecolor": "#2a3f5f",
             "gridcolor": "white",
             "linecolor": "white",
             "minorgridcolor": "white",
             "startlinecolor": "#2a3f5f"
            },
            "type": "carpet"
           }
          ],
          "table": [
           {
            "cells": {
             "fill": {
              "color": "#EBF0F8"
             },
             "line": {
              "color": "white"
             }
            },
            "header": {
             "fill": {
              "color": "#C8D4E3"
             },
             "line": {
              "color": "white"
             }
            },
            "type": "table"
           }
          ],
          "barpolar": [
           {
            "marker": {
             "line": {
              "color": "#E5ECF6",
              "width": 0.5
             },
             "pattern": {
              "fillmode": "overlay",
              "size": 10,
              "solidity": 0.2
             }
            },
            "type": "barpolar"
           }
          ],
          "pie": [
           {
            "automargin": true,
            "type": "pie"
           }
          ]
         },
         "layout": {
          "autotypenumbers": "strict",
          "colorway": [
           "#636efa",
           "#EF553B",
           "#00cc96",
           "#ab63fa",
           "#FFA15A",
           "#19d3f3",
           "#FF6692",
           "#B6E880",
           "#FF97FF",
           "#FECB52"
          ],
          "font": {
           "color": "#2a3f5f"
          },
          "hovermode": "closest",
          "hoverlabel": {
           "align": "left"
          },
          "paper_bgcolor": "white",
          "plot_bgcolor": "#E5ECF6",
          "polar": {
           "bgcolor": "#E5ECF6",
           "angularaxis": {
            "gridcolor": "white",
            "linecolor": "white",
            "ticks": ""
           },
           "radialaxis": {
            "gridcolor": "white",
            "linecolor": "white",
            "ticks": ""
           }
          },
          "ternary": {
           "bgcolor": "#E5ECF6",
           "aaxis": {
            "gridcolor": "white",
            "linecolor": "white",
            "ticks": ""
           },
           "baxis": {
            "gridcolor": "white",
            "linecolor": "white",
            "ticks": ""
           },
           "caxis": {
            "gridcolor": "white",
            "linecolor": "white",
            "ticks": ""
           }
          },
          "coloraxis": {
           "colorbar": {
            "outlinewidth": 0,
            "ticks": ""
           }
          },
          "colorscale": {
           "sequential": [
            [
             0.0,
             "#0d0887"
            ],
            [
             0.1111111111111111,
             "#46039f"
            ],
            [
             0.2222222222222222,
             "#7201a8"
            ],
            [
             0.3333333333333333,
             "#9c179e"
            ],
            [
             0.4444444444444444,
             "#bd3786"
            ],
            [
             0.5555555555555556,
             "#d8576b"
            ],
            [
             0.6666666666666666,
             "#ed7953"
            ],
            [
             0.7777777777777778,
             "#fb9f3a"
            ],
            [
             0.8888888888888888,
             "#fdca26"
            ],
            [
             1.0,
             "#f0f921"
            ]
           ],
           "sequentialminus": [
            [
             0.0,
             "#0d0887"
            ],
            [
             0.1111111111111111,
             "#46039f"
            ],
            [
             0.2222222222222222,
             "#7201a8"
            ],
            [
             0.3333333333333333,
             "#9c179e"
            ],
            [
             0.4444444444444444,
             "#bd3786"
            ],
            [
             0.5555555555555556,
             "#d8576b"
            ],
            [
             0.6666666666666666,
             "#ed7953"
            ],
            [
             0.7777777777777778,
             "#fb9f3a"
            ],
            [
             0.8888888888888888,
             "#fdca26"
            ],
            [
             1.0,
             "#f0f921"
            ]
           ],
           "diverging": [
            [
             0,
             "#8e0152"
            ],
            [
             0.1,
             "#c51b7d"
            ],
            [
             0.2,
             "#de77ae"
            ],
            [
             0.3,
             "#f1b6da"
            ],
            [
             0.4,
             "#fde0ef"
            ],
            [
             0.5,
             "#f7f7f7"
            ],
            [
             0.6,
             "#e6f5d0"
            ],
            [
             0.7,
             "#b8e186"
            ],
            [
             0.8,
             "#7fbc41"
            ],
            [
             0.9,
             "#4d9221"
            ],
            [
             1,
             "#276419"
            ]
           ]
          },
          "xaxis": {
           "gridcolor": "white",
           "linecolor": "white",
           "ticks": "",
           "title": {
            "standoff": 15
           },
           "zerolinecolor": "white",
           "automargin": true,
           "zerolinewidth": 2
          },
          "yaxis": {
           "gridcolor": "white",
           "linecolor": "white",
           "ticks": "",
           "title": {
            "standoff": 15
           },
           "zerolinecolor": "white",
           "automargin": true,
           "zerolinewidth": 2
          },
          "scene": {
           "xaxis": {
            "backgroundcolor": "#E5ECF6",
            "gridcolor": "white",
            "linecolor": "white",
            "showbackground": true,
            "ticks": "",
            "zerolinecolor": "white",
            "gridwidth": 2
           },
           "yaxis": {
            "backgroundcolor": "#E5ECF6",
            "gridcolor": "white",
            "linecolor": "white",
            "showbackground": true,
            "ticks": "",
            "zerolinecolor": "white",
            "gridwidth": 2
           },
           "zaxis": {
            "backgroundcolor": "#E5ECF6",
            "gridcolor": "white",
            "linecolor": "white",
            "showbackground": true,
            "ticks": "",
            "zerolinecolor": "white",
            "gridwidth": 2
           }
          },
          "shapedefaults": {
           "line": {
            "color": "#2a3f5f"
           }
          },
          "annotationdefaults": {
           "arrowcolor": "#2a3f5f",
           "arrowhead": 0,
           "arrowwidth": 1
          },
          "geo": {
           "bgcolor": "white",
           "landcolor": "#E5ECF6",
           "subunitcolor": "white",
           "showland": true,
           "showlakes": true,
           "lakecolor": "white"
          },
          "title": {
           "x": 0.05
          },
          "mapbox": {
           "style": "light"
          }
         }
        },
        "xaxis": {
         "anchor": "y",
         "domain": [
          0.0,
          1.0
         ],
         "title": {
          "text": "Model"
         }
        },
        "yaxis": {
         "anchor": "x",
         "domain": [
          0.0,
          1.0
         ],
         "title": {
          "text": "value"
         }
        },
        "legend": {
         "title": {
          "text": "Metric"
         },
         "tracegroupgap": 0
        },
        "title": {
         "text": "Model Metric Comparison: Random Forest has best mAP score"
        },
        "barmode": "group",
        "width": 1200,
        "height": 600
       },
       "config": {
        "plotlyServerURL": "https://plot.ly"
       }
      }
     },
     "metadata": {},
     "output_type": "display_data"
    }
   ],
   "execution_count": 116
  },
  {
   "metadata": {
    "ExecuteTime": {
     "end_time": "2025-09-03T02:22:31.575293Z",
     "start_time": "2025-09-03T02:22:31.572418Z"
    }
   },
   "cell_type": "code",
   "source": [
    "# Load latest sklearn models logged to MLflow under the \"Landmark Recognition\" experiment\n",
    "def load_most_recent_models():\n",
    "    loaded_models = {}\n",
    "    client = mlflow.tracking.MlflowClient()\n",
    "    exp = client.get_experiment_by_name(\"Landmark Recognition\")\n",
    "    logged_models = client.search_logged_models(\n",
    "        experiment_ids=[exp.experiment_id], filter_string=\"status != 'FAILED'\"\n",
    "    )\n",
    "    logged_models.sort(key=lambda l: l.last_updated_timestamp)\n",
    "\n",
    "    for logged_model in logged_models:\n",
    "        name = logged_model.name\n",
    "        if name in sklearn_models and name not in loaded_models:\n",
    "            model = mlflow.sklearn.load_model(logged_model.model_uri)\n",
    "            loaded_models[name] = model\n",
    "    if loaded_models:\n",
    "        print(f\"Loaded {len(loaded_models)} model(s) from MLflow:\")\n",
    "        for name in loaded_models:\n",
    "            print(f\" - {name}\")\n",
    "    else:\n",
    "        print(\n",
    "            \"No models could be loaded from MLflow runs in experiment 'Landmark Recognition'.\"\n",
    "        )\n",
    "    return loaded_models"
   ],
   "id": "85fffa6034e0c74",
   "outputs": [],
   "execution_count": 52
  },
  {
   "metadata": {
    "ExecuteTime": {
     "end_time": "2025-09-03T02:22:33.223100Z",
     "start_time": "2025-09-03T02:22:31.938963Z"
    }
   },
   "cell_type": "code",
   "source": "loaded_models = load_most_recent_models()",
   "id": "f88f9cad3a1f32d7",
   "outputs": [
    {
     "name": "stdout",
     "output_type": "stream",
     "text": [
      "Loaded 4 model(s) from MLflow:\n",
      " - Random Forest\n",
      " - Logistic Regression\n",
      " - SVC\n",
      " - Gradient Boosting\n"
     ]
    }
   ],
   "execution_count": 53
  },
  {
   "metadata": {
    "ExecuteTime": {
     "end_time": "2025-09-03T02:22:13.103812Z",
     "start_time": "2025-09-03T02:22:13.099425Z"
    }
   },
   "cell_type": "code",
   "source": "loaded_models",
   "id": "85fb6777302584c9",
   "outputs": [
    {
     "data": {
      "text/plain": [
       "{'Random Forest': RandomForestClassifier(max_depth=7, n_jobs=-1, random_state=42),\n",
       " 'Logistic Regression': LogisticRegression(random_state=42),\n",
       " 'SVC': SVC(probability=True, random_state=42),\n",
       " 'Gradient Boosting': GradientBoostingClassifier(max_depth=1, n_estimators=50, random_state=42)}"
      ]
     },
     "execution_count": 49,
     "metadata": {},
     "output_type": "execute_result"
    }
   ],
   "execution_count": 49
  },
  {
   "metadata": {
    "ExecuteTime": {
     "end_time": "2025-09-03T02:41:15.449630Z",
     "start_time": "2025-09-03T02:41:14.092130Z"
    }
   },
   "cell_type": "code",
   "source": [
    "forest_importance = {\n",
    "    \"Feature\": loaded_models[\"Random Forest\"].feature_names_in_,\n",
    "    \"Importance\": np.abs(loaded_models[\"Random Forest\"].feature_importances_),\n",
    "}\n",
    "\n",
    "forest_importance_df = pd.DataFrame(forest_importance)\n",
    "\n",
    "forest_importance_df = forest_importance_df.sort_values(\"Importance\", ascending=False)\n",
    "fig = px.bar(\n",
    "    forest_importance_df[:10],\n",
    "    x=\"Importance\",\n",
    "    y=\"Feature\",\n",
    "    orientation=\"h\",\n",
    "    title=\"Top Ten Features RandomForest - Embedding & LBP important, as expected. Unexpectedly aspect ratio most important.\",\n",
    ")\n",
    "fig.show()\n",
    "fig.write_image(\"images/forest_top_features.png\", width=1200, height=600)"
   ],
   "id": "e2b3fdd95af2c17d",
   "outputs": [
    {
     "data": {
      "application/vnd.plotly.v1+json": {
       "data": [
        {
         "hovertemplate": "Importance=%{x}<br>Feature=%{y}<extra></extra>",
         "legendgroup": "",
         "marker": {
          "color": "#636efa",
          "pattern": {
           "shape": ""
          }
         },
         "name": "",
         "orientation": "h",
         "showlegend": false,
         "textposition": "auto",
         "x": {
          "dtype": "f8",
          "bdata": "eZoPruStwT/6m7A7GjG/P6ynB9eAI78/S5xHM1P/tz+sfTwqW5GtP74GLKHohqU/b9/HRXL4oz+FcRuNaAyiP89hGhG8VZs/zCiv3KXCmj8="
         },
         "xaxis": "x",
         "y": [
          "aspect_ratio",
          "lbp_24",
          "height",
          "x",
          "width",
          "mean_b",
          "y",
          "lbp_8",
          "lbp_17",
          "lbp_15"
         ],
         "yaxis": "y",
         "type": "bar"
        }
       ],
       "layout": {
        "template": {
         "data": {
          "histogram2dcontour": [
           {
            "type": "histogram2dcontour",
            "colorbar": {
             "outlinewidth": 0,
             "ticks": ""
            },
            "colorscale": [
             [
              0.0,
              "#0d0887"
             ],
             [
              0.1111111111111111,
              "#46039f"
             ],
             [
              0.2222222222222222,
              "#7201a8"
             ],
             [
              0.3333333333333333,
              "#9c179e"
             ],
             [
              0.4444444444444444,
              "#bd3786"
             ],
             [
              0.5555555555555556,
              "#d8576b"
             ],
             [
              0.6666666666666666,
              "#ed7953"
             ],
             [
              0.7777777777777778,
              "#fb9f3a"
             ],
             [
              0.8888888888888888,
              "#fdca26"
             ],
             [
              1.0,
              "#f0f921"
             ]
            ]
           }
          ],
          "choropleth": [
           {
            "type": "choropleth",
            "colorbar": {
             "outlinewidth": 0,
             "ticks": ""
            }
           }
          ],
          "histogram2d": [
           {
            "type": "histogram2d",
            "colorbar": {
             "outlinewidth": 0,
             "ticks": ""
            },
            "colorscale": [
             [
              0.0,
              "#0d0887"
             ],
             [
              0.1111111111111111,
              "#46039f"
             ],
             [
              0.2222222222222222,
              "#7201a8"
             ],
             [
              0.3333333333333333,
              "#9c179e"
             ],
             [
              0.4444444444444444,
              "#bd3786"
             ],
             [
              0.5555555555555556,
              "#d8576b"
             ],
             [
              0.6666666666666666,
              "#ed7953"
             ],
             [
              0.7777777777777778,
              "#fb9f3a"
             ],
             [
              0.8888888888888888,
              "#fdca26"
             ],
             [
              1.0,
              "#f0f921"
             ]
            ]
           }
          ],
          "heatmap": [
           {
            "type": "heatmap",
            "colorbar": {
             "outlinewidth": 0,
             "ticks": ""
            },
            "colorscale": [
             [
              0.0,
              "#0d0887"
             ],
             [
              0.1111111111111111,
              "#46039f"
             ],
             [
              0.2222222222222222,
              "#7201a8"
             ],
             [
              0.3333333333333333,
              "#9c179e"
             ],
             [
              0.4444444444444444,
              "#bd3786"
             ],
             [
              0.5555555555555556,
              "#d8576b"
             ],
             [
              0.6666666666666666,
              "#ed7953"
             ],
             [
              0.7777777777777778,
              "#fb9f3a"
             ],
             [
              0.8888888888888888,
              "#fdca26"
             ],
             [
              1.0,
              "#f0f921"
             ]
            ]
           }
          ],
          "contourcarpet": [
           {
            "type": "contourcarpet",
            "colorbar": {
             "outlinewidth": 0,
             "ticks": ""
            }
           }
          ],
          "contour": [
           {
            "type": "contour",
            "colorbar": {
             "outlinewidth": 0,
             "ticks": ""
            },
            "colorscale": [
             [
              0.0,
              "#0d0887"
             ],
             [
              0.1111111111111111,
              "#46039f"
             ],
             [
              0.2222222222222222,
              "#7201a8"
             ],
             [
              0.3333333333333333,
              "#9c179e"
             ],
             [
              0.4444444444444444,
              "#bd3786"
             ],
             [
              0.5555555555555556,
              "#d8576b"
             ],
             [
              0.6666666666666666,
              "#ed7953"
             ],
             [
              0.7777777777777778,
              "#fb9f3a"
             ],
             [
              0.8888888888888888,
              "#fdca26"
             ],
             [
              1.0,
              "#f0f921"
             ]
            ]
           }
          ],
          "surface": [
           {
            "type": "surface",
            "colorbar": {
             "outlinewidth": 0,
             "ticks": ""
            },
            "colorscale": [
             [
              0.0,
              "#0d0887"
             ],
             [
              0.1111111111111111,
              "#46039f"
             ],
             [
              0.2222222222222222,
              "#7201a8"
             ],
             [
              0.3333333333333333,
              "#9c179e"
             ],
             [
              0.4444444444444444,
              "#bd3786"
             ],
             [
              0.5555555555555556,
              "#d8576b"
             ],
             [
              0.6666666666666666,
              "#ed7953"
             ],
             [
              0.7777777777777778,
              "#fb9f3a"
             ],
             [
              0.8888888888888888,
              "#fdca26"
             ],
             [
              1.0,
              "#f0f921"
             ]
            ]
           }
          ],
          "mesh3d": [
           {
            "type": "mesh3d",
            "colorbar": {
             "outlinewidth": 0,
             "ticks": ""
            }
           }
          ],
          "scatter": [
           {
            "fillpattern": {
             "fillmode": "overlay",
             "size": 10,
             "solidity": 0.2
            },
            "type": "scatter"
           }
          ],
          "parcoords": [
           {
            "type": "parcoords",
            "line": {
             "colorbar": {
              "outlinewidth": 0,
              "ticks": ""
             }
            }
           }
          ],
          "scatterpolargl": [
           {
            "type": "scatterpolargl",
            "marker": {
             "colorbar": {
              "outlinewidth": 0,
              "ticks": ""
             }
            }
           }
          ],
          "bar": [
           {
            "error_x": {
             "color": "#2a3f5f"
            },
            "error_y": {
             "color": "#2a3f5f"
            },
            "marker": {
             "line": {
              "color": "#E5ECF6",
              "width": 0.5
             },
             "pattern": {
              "fillmode": "overlay",
              "size": 10,
              "solidity": 0.2
             }
            },
            "type": "bar"
           }
          ],
          "scattergeo": [
           {
            "type": "scattergeo",
            "marker": {
             "colorbar": {
              "outlinewidth": 0,
              "ticks": ""
             }
            }
           }
          ],
          "scatterpolar": [
           {
            "type": "scatterpolar",
            "marker": {
             "colorbar": {
              "outlinewidth": 0,
              "ticks": ""
             }
            }
           }
          ],
          "histogram": [
           {
            "marker": {
             "pattern": {
              "fillmode": "overlay",
              "size": 10,
              "solidity": 0.2
             }
            },
            "type": "histogram"
           }
          ],
          "scattergl": [
           {
            "type": "scattergl",
            "marker": {
             "colorbar": {
              "outlinewidth": 0,
              "ticks": ""
             }
            }
           }
          ],
          "scatter3d": [
           {
            "type": "scatter3d",
            "line": {
             "colorbar": {
              "outlinewidth": 0,
              "ticks": ""
             }
            },
            "marker": {
             "colorbar": {
              "outlinewidth": 0,
              "ticks": ""
             }
            }
           }
          ],
          "scattermap": [
           {
            "type": "scattermap",
            "marker": {
             "colorbar": {
              "outlinewidth": 0,
              "ticks": ""
             }
            }
           }
          ],
          "scattermapbox": [
           {
            "type": "scattermapbox",
            "marker": {
             "colorbar": {
              "outlinewidth": 0,
              "ticks": ""
             }
            }
           }
          ],
          "scatterternary": [
           {
            "type": "scatterternary",
            "marker": {
             "colorbar": {
              "outlinewidth": 0,
              "ticks": ""
             }
            }
           }
          ],
          "scattercarpet": [
           {
            "type": "scattercarpet",
            "marker": {
             "colorbar": {
              "outlinewidth": 0,
              "ticks": ""
             }
            }
           }
          ],
          "carpet": [
           {
            "aaxis": {
             "endlinecolor": "#2a3f5f",
             "gridcolor": "white",
             "linecolor": "white",
             "minorgridcolor": "white",
             "startlinecolor": "#2a3f5f"
            },
            "baxis": {
             "endlinecolor": "#2a3f5f",
             "gridcolor": "white",
             "linecolor": "white",
             "minorgridcolor": "white",
             "startlinecolor": "#2a3f5f"
            },
            "type": "carpet"
           }
          ],
          "table": [
           {
            "cells": {
             "fill": {
              "color": "#EBF0F8"
             },
             "line": {
              "color": "white"
             }
            },
            "header": {
             "fill": {
              "color": "#C8D4E3"
             },
             "line": {
              "color": "white"
             }
            },
            "type": "table"
           }
          ],
          "barpolar": [
           {
            "marker": {
             "line": {
              "color": "#E5ECF6",
              "width": 0.5
             },
             "pattern": {
              "fillmode": "overlay",
              "size": 10,
              "solidity": 0.2
             }
            },
            "type": "barpolar"
           }
          ],
          "pie": [
           {
            "automargin": true,
            "type": "pie"
           }
          ]
         },
         "layout": {
          "autotypenumbers": "strict",
          "colorway": [
           "#636efa",
           "#EF553B",
           "#00cc96",
           "#ab63fa",
           "#FFA15A",
           "#19d3f3",
           "#FF6692",
           "#B6E880",
           "#FF97FF",
           "#FECB52"
          ],
          "font": {
           "color": "#2a3f5f"
          },
          "hovermode": "closest",
          "hoverlabel": {
           "align": "left"
          },
          "paper_bgcolor": "white",
          "plot_bgcolor": "#E5ECF6",
          "polar": {
           "bgcolor": "#E5ECF6",
           "angularaxis": {
            "gridcolor": "white",
            "linecolor": "white",
            "ticks": ""
           },
           "radialaxis": {
            "gridcolor": "white",
            "linecolor": "white",
            "ticks": ""
           }
          },
          "ternary": {
           "bgcolor": "#E5ECF6",
           "aaxis": {
            "gridcolor": "white",
            "linecolor": "white",
            "ticks": ""
           },
           "baxis": {
            "gridcolor": "white",
            "linecolor": "white",
            "ticks": ""
           },
           "caxis": {
            "gridcolor": "white",
            "linecolor": "white",
            "ticks": ""
           }
          },
          "coloraxis": {
           "colorbar": {
            "outlinewidth": 0,
            "ticks": ""
           }
          },
          "colorscale": {
           "sequential": [
            [
             0.0,
             "#0d0887"
            ],
            [
             0.1111111111111111,
             "#46039f"
            ],
            [
             0.2222222222222222,
             "#7201a8"
            ],
            [
             0.3333333333333333,
             "#9c179e"
            ],
            [
             0.4444444444444444,
             "#bd3786"
            ],
            [
             0.5555555555555556,
             "#d8576b"
            ],
            [
             0.6666666666666666,
             "#ed7953"
            ],
            [
             0.7777777777777778,
             "#fb9f3a"
            ],
            [
             0.8888888888888888,
             "#fdca26"
            ],
            [
             1.0,
             "#f0f921"
            ]
           ],
           "sequentialminus": [
            [
             0.0,
             "#0d0887"
            ],
            [
             0.1111111111111111,
             "#46039f"
            ],
            [
             0.2222222222222222,
             "#7201a8"
            ],
            [
             0.3333333333333333,
             "#9c179e"
            ],
            [
             0.4444444444444444,
             "#bd3786"
            ],
            [
             0.5555555555555556,
             "#d8576b"
            ],
            [
             0.6666666666666666,
             "#ed7953"
            ],
            [
             0.7777777777777778,
             "#fb9f3a"
            ],
            [
             0.8888888888888888,
             "#fdca26"
            ],
            [
             1.0,
             "#f0f921"
            ]
           ],
           "diverging": [
            [
             0,
             "#8e0152"
            ],
            [
             0.1,
             "#c51b7d"
            ],
            [
             0.2,
             "#de77ae"
            ],
            [
             0.3,
             "#f1b6da"
            ],
            [
             0.4,
             "#fde0ef"
            ],
            [
             0.5,
             "#f7f7f7"
            ],
            [
             0.6,
             "#e6f5d0"
            ],
            [
             0.7,
             "#b8e186"
            ],
            [
             0.8,
             "#7fbc41"
            ],
            [
             0.9,
             "#4d9221"
            ],
            [
             1,
             "#276419"
            ]
           ]
          },
          "xaxis": {
           "gridcolor": "white",
           "linecolor": "white",
           "ticks": "",
           "title": {
            "standoff": 15
           },
           "zerolinecolor": "white",
           "automargin": true,
           "zerolinewidth": 2
          },
          "yaxis": {
           "gridcolor": "white",
           "linecolor": "white",
           "ticks": "",
           "title": {
            "standoff": 15
           },
           "zerolinecolor": "white",
           "automargin": true,
           "zerolinewidth": 2
          },
          "scene": {
           "xaxis": {
            "backgroundcolor": "#E5ECF6",
            "gridcolor": "white",
            "linecolor": "white",
            "showbackground": true,
            "ticks": "",
            "zerolinecolor": "white",
            "gridwidth": 2
           },
           "yaxis": {
            "backgroundcolor": "#E5ECF6",
            "gridcolor": "white",
            "linecolor": "white",
            "showbackground": true,
            "ticks": "",
            "zerolinecolor": "white",
            "gridwidth": 2
           },
           "zaxis": {
            "backgroundcolor": "#E5ECF6",
            "gridcolor": "white",
            "linecolor": "white",
            "showbackground": true,
            "ticks": "",
            "zerolinecolor": "white",
            "gridwidth": 2
           }
          },
          "shapedefaults": {
           "line": {
            "color": "#2a3f5f"
           }
          },
          "annotationdefaults": {
           "arrowcolor": "#2a3f5f",
           "arrowhead": 0,
           "arrowwidth": 1
          },
          "geo": {
           "bgcolor": "white",
           "landcolor": "#E5ECF6",
           "subunitcolor": "white",
           "showland": true,
           "showlakes": true,
           "lakecolor": "white"
          },
          "title": {
           "x": 0.05
          },
          "mapbox": {
           "style": "light"
          }
         }
        },
        "xaxis": {
         "anchor": "y",
         "domain": [
          0.0,
          1.0
         ],
         "title": {
          "text": "Importance"
         }
        },
        "yaxis": {
         "anchor": "x",
         "domain": [
          0.0,
          1.0
         ],
         "title": {
          "text": "Feature"
         }
        },
        "legend": {
         "tracegroupgap": 0
        },
        "title": {
         "text": "Top Ten Features RandomForest - Embedding & LBP important, as expected. Unexpectedly aspect ratio most important."
        },
        "barmode": "relative"
       },
       "config": {
        "plotlyServerURL": "https://plot.ly"
       }
      }
     },
     "metadata": {},
     "output_type": "display_data"
    }
   ],
   "execution_count": 66
  },
  {
   "metadata": {
    "ExecuteTime": {
     "end_time": "2025-09-03T02:41:17.672608Z",
     "start_time": "2025-09-03T02:41:16.406643Z"
    }
   },
   "cell_type": "code",
   "source": [
    "gradient_boosting_importance = {\n",
    "    \"Feature\": loaded_models[\"Gradient Boosting\"].feature_names_in_,\n",
    "    \"Importance\": np.abs(loaded_models[\"Gradient Boosting\"].feature_importances_),\n",
    "}\n",
    "\n",
    "gradient_boosting_importance_df = pd.DataFrame(gradient_boosting_importance)\n",
    "\n",
    "gradient_boosting_importance_df = gradient_boosting_importance_df.sort_values(\n",
    "    \"Importance\", ascending=False\n",
    ")\n",
    "fig = px.bar(\n",
    "    gradient_boosting_importance_df[:10],\n",
    "    x=\"Importance\",\n",
    "    y=\"Feature\",\n",
    "    orientation=\"h\",\n",
    "    title=\"Top Ten Features Gradient Boosting - Embedding & LBP important, as expected.\",\n",
    ")\n",
    "fig.show()\n",
    "fig.write_image(\"images/gradient_top_features.png\", width=1200, height=600)"
   ],
   "id": "175bffca0c5362fd",
   "outputs": [
    {
     "data": {
      "application/vnd.plotly.v1+json": {
       "data": [
        {
         "hovertemplate": "Importance=%{x}<br>Feature=%{y}<extra></extra>",
         "legendgroup": "",
         "marker": {
          "color": "#636efa",
          "pattern": {
           "shape": ""
          }
         },
         "name": "",
         "orientation": "h",
         "showlegend": false,
         "textposition": "auto",
         "x": {
          "dtype": "f8",
          "bdata": "FaJit4w+1D8OtpWuiMXEP9OMux4UZMM/rxB9TEyjqj+Vu0Hn/06pP1TBF9OGzqc/aHZBn/J0oz+bzdsSuUycP2dLu2mfjJs/jYkaD7VdlT8="
         },
         "xaxis": "x",
         "y": [
          "lbp_24",
          "x",
          "height",
          "y",
          "width",
          "mean_b",
          "aspect_ratio",
          "lbp_25",
          "lbp_17",
          "lbp_8"
         ],
         "yaxis": "y",
         "type": "bar"
        }
       ],
       "layout": {
        "template": {
         "data": {
          "histogram2dcontour": [
           {
            "type": "histogram2dcontour",
            "colorbar": {
             "outlinewidth": 0,
             "ticks": ""
            },
            "colorscale": [
             [
              0.0,
              "#0d0887"
             ],
             [
              0.1111111111111111,
              "#46039f"
             ],
             [
              0.2222222222222222,
              "#7201a8"
             ],
             [
              0.3333333333333333,
              "#9c179e"
             ],
             [
              0.4444444444444444,
              "#bd3786"
             ],
             [
              0.5555555555555556,
              "#d8576b"
             ],
             [
              0.6666666666666666,
              "#ed7953"
             ],
             [
              0.7777777777777778,
              "#fb9f3a"
             ],
             [
              0.8888888888888888,
              "#fdca26"
             ],
             [
              1.0,
              "#f0f921"
             ]
            ]
           }
          ],
          "choropleth": [
           {
            "type": "choropleth",
            "colorbar": {
             "outlinewidth": 0,
             "ticks": ""
            }
           }
          ],
          "histogram2d": [
           {
            "type": "histogram2d",
            "colorbar": {
             "outlinewidth": 0,
             "ticks": ""
            },
            "colorscale": [
             [
              0.0,
              "#0d0887"
             ],
             [
              0.1111111111111111,
              "#46039f"
             ],
             [
              0.2222222222222222,
              "#7201a8"
             ],
             [
              0.3333333333333333,
              "#9c179e"
             ],
             [
              0.4444444444444444,
              "#bd3786"
             ],
             [
              0.5555555555555556,
              "#d8576b"
             ],
             [
              0.6666666666666666,
              "#ed7953"
             ],
             [
              0.7777777777777778,
              "#fb9f3a"
             ],
             [
              0.8888888888888888,
              "#fdca26"
             ],
             [
              1.0,
              "#f0f921"
             ]
            ]
           }
          ],
          "heatmap": [
           {
            "type": "heatmap",
            "colorbar": {
             "outlinewidth": 0,
             "ticks": ""
            },
            "colorscale": [
             [
              0.0,
              "#0d0887"
             ],
             [
              0.1111111111111111,
              "#46039f"
             ],
             [
              0.2222222222222222,
              "#7201a8"
             ],
             [
              0.3333333333333333,
              "#9c179e"
             ],
             [
              0.4444444444444444,
              "#bd3786"
             ],
             [
              0.5555555555555556,
              "#d8576b"
             ],
             [
              0.6666666666666666,
              "#ed7953"
             ],
             [
              0.7777777777777778,
              "#fb9f3a"
             ],
             [
              0.8888888888888888,
              "#fdca26"
             ],
             [
              1.0,
              "#f0f921"
             ]
            ]
           }
          ],
          "contourcarpet": [
           {
            "type": "contourcarpet",
            "colorbar": {
             "outlinewidth": 0,
             "ticks": ""
            }
           }
          ],
          "contour": [
           {
            "type": "contour",
            "colorbar": {
             "outlinewidth": 0,
             "ticks": ""
            },
            "colorscale": [
             [
              0.0,
              "#0d0887"
             ],
             [
              0.1111111111111111,
              "#46039f"
             ],
             [
              0.2222222222222222,
              "#7201a8"
             ],
             [
              0.3333333333333333,
              "#9c179e"
             ],
             [
              0.4444444444444444,
              "#bd3786"
             ],
             [
              0.5555555555555556,
              "#d8576b"
             ],
             [
              0.6666666666666666,
              "#ed7953"
             ],
             [
              0.7777777777777778,
              "#fb9f3a"
             ],
             [
              0.8888888888888888,
              "#fdca26"
             ],
             [
              1.0,
              "#f0f921"
             ]
            ]
           }
          ],
          "surface": [
           {
            "type": "surface",
            "colorbar": {
             "outlinewidth": 0,
             "ticks": ""
            },
            "colorscale": [
             [
              0.0,
              "#0d0887"
             ],
             [
              0.1111111111111111,
              "#46039f"
             ],
             [
              0.2222222222222222,
              "#7201a8"
             ],
             [
              0.3333333333333333,
              "#9c179e"
             ],
             [
              0.4444444444444444,
              "#bd3786"
             ],
             [
              0.5555555555555556,
              "#d8576b"
             ],
             [
              0.6666666666666666,
              "#ed7953"
             ],
             [
              0.7777777777777778,
              "#fb9f3a"
             ],
             [
              0.8888888888888888,
              "#fdca26"
             ],
             [
              1.0,
              "#f0f921"
             ]
            ]
           }
          ],
          "mesh3d": [
           {
            "type": "mesh3d",
            "colorbar": {
             "outlinewidth": 0,
             "ticks": ""
            }
           }
          ],
          "scatter": [
           {
            "fillpattern": {
             "fillmode": "overlay",
             "size": 10,
             "solidity": 0.2
            },
            "type": "scatter"
           }
          ],
          "parcoords": [
           {
            "type": "parcoords",
            "line": {
             "colorbar": {
              "outlinewidth": 0,
              "ticks": ""
             }
            }
           }
          ],
          "scatterpolargl": [
           {
            "type": "scatterpolargl",
            "marker": {
             "colorbar": {
              "outlinewidth": 0,
              "ticks": ""
             }
            }
           }
          ],
          "bar": [
           {
            "error_x": {
             "color": "#2a3f5f"
            },
            "error_y": {
             "color": "#2a3f5f"
            },
            "marker": {
             "line": {
              "color": "#E5ECF6",
              "width": 0.5
             },
             "pattern": {
              "fillmode": "overlay",
              "size": 10,
              "solidity": 0.2
             }
            },
            "type": "bar"
           }
          ],
          "scattergeo": [
           {
            "type": "scattergeo",
            "marker": {
             "colorbar": {
              "outlinewidth": 0,
              "ticks": ""
             }
            }
           }
          ],
          "scatterpolar": [
           {
            "type": "scatterpolar",
            "marker": {
             "colorbar": {
              "outlinewidth": 0,
              "ticks": ""
             }
            }
           }
          ],
          "histogram": [
           {
            "marker": {
             "pattern": {
              "fillmode": "overlay",
              "size": 10,
              "solidity": 0.2
             }
            },
            "type": "histogram"
           }
          ],
          "scattergl": [
           {
            "type": "scattergl",
            "marker": {
             "colorbar": {
              "outlinewidth": 0,
              "ticks": ""
             }
            }
           }
          ],
          "scatter3d": [
           {
            "type": "scatter3d",
            "line": {
             "colorbar": {
              "outlinewidth": 0,
              "ticks": ""
             }
            },
            "marker": {
             "colorbar": {
              "outlinewidth": 0,
              "ticks": ""
             }
            }
           }
          ],
          "scattermap": [
           {
            "type": "scattermap",
            "marker": {
             "colorbar": {
              "outlinewidth": 0,
              "ticks": ""
             }
            }
           }
          ],
          "scattermapbox": [
           {
            "type": "scattermapbox",
            "marker": {
             "colorbar": {
              "outlinewidth": 0,
              "ticks": ""
             }
            }
           }
          ],
          "scatterternary": [
           {
            "type": "scatterternary",
            "marker": {
             "colorbar": {
              "outlinewidth": 0,
              "ticks": ""
             }
            }
           }
          ],
          "scattercarpet": [
           {
            "type": "scattercarpet",
            "marker": {
             "colorbar": {
              "outlinewidth": 0,
              "ticks": ""
             }
            }
           }
          ],
          "carpet": [
           {
            "aaxis": {
             "endlinecolor": "#2a3f5f",
             "gridcolor": "white",
             "linecolor": "white",
             "minorgridcolor": "white",
             "startlinecolor": "#2a3f5f"
            },
            "baxis": {
             "endlinecolor": "#2a3f5f",
             "gridcolor": "white",
             "linecolor": "white",
             "minorgridcolor": "white",
             "startlinecolor": "#2a3f5f"
            },
            "type": "carpet"
           }
          ],
          "table": [
           {
            "cells": {
             "fill": {
              "color": "#EBF0F8"
             },
             "line": {
              "color": "white"
             }
            },
            "header": {
             "fill": {
              "color": "#C8D4E3"
             },
             "line": {
              "color": "white"
             }
            },
            "type": "table"
           }
          ],
          "barpolar": [
           {
            "marker": {
             "line": {
              "color": "#E5ECF6",
              "width": 0.5
             },
             "pattern": {
              "fillmode": "overlay",
              "size": 10,
              "solidity": 0.2
             }
            },
            "type": "barpolar"
           }
          ],
          "pie": [
           {
            "automargin": true,
            "type": "pie"
           }
          ]
         },
         "layout": {
          "autotypenumbers": "strict",
          "colorway": [
           "#636efa",
           "#EF553B",
           "#00cc96",
           "#ab63fa",
           "#FFA15A",
           "#19d3f3",
           "#FF6692",
           "#B6E880",
           "#FF97FF",
           "#FECB52"
          ],
          "font": {
           "color": "#2a3f5f"
          },
          "hovermode": "closest",
          "hoverlabel": {
           "align": "left"
          },
          "paper_bgcolor": "white",
          "plot_bgcolor": "#E5ECF6",
          "polar": {
           "bgcolor": "#E5ECF6",
           "angularaxis": {
            "gridcolor": "white",
            "linecolor": "white",
            "ticks": ""
           },
           "radialaxis": {
            "gridcolor": "white",
            "linecolor": "white",
            "ticks": ""
           }
          },
          "ternary": {
           "bgcolor": "#E5ECF6",
           "aaxis": {
            "gridcolor": "white",
            "linecolor": "white",
            "ticks": ""
           },
           "baxis": {
            "gridcolor": "white",
            "linecolor": "white",
            "ticks": ""
           },
           "caxis": {
            "gridcolor": "white",
            "linecolor": "white",
            "ticks": ""
           }
          },
          "coloraxis": {
           "colorbar": {
            "outlinewidth": 0,
            "ticks": ""
           }
          },
          "colorscale": {
           "sequential": [
            [
             0.0,
             "#0d0887"
            ],
            [
             0.1111111111111111,
             "#46039f"
            ],
            [
             0.2222222222222222,
             "#7201a8"
            ],
            [
             0.3333333333333333,
             "#9c179e"
            ],
            [
             0.4444444444444444,
             "#bd3786"
            ],
            [
             0.5555555555555556,
             "#d8576b"
            ],
            [
             0.6666666666666666,
             "#ed7953"
            ],
            [
             0.7777777777777778,
             "#fb9f3a"
            ],
            [
             0.8888888888888888,
             "#fdca26"
            ],
            [
             1.0,
             "#f0f921"
            ]
           ],
           "sequentialminus": [
            [
             0.0,
             "#0d0887"
            ],
            [
             0.1111111111111111,
             "#46039f"
            ],
            [
             0.2222222222222222,
             "#7201a8"
            ],
            [
             0.3333333333333333,
             "#9c179e"
            ],
            [
             0.4444444444444444,
             "#bd3786"
            ],
            [
             0.5555555555555556,
             "#d8576b"
            ],
            [
             0.6666666666666666,
             "#ed7953"
            ],
            [
             0.7777777777777778,
             "#fb9f3a"
            ],
            [
             0.8888888888888888,
             "#fdca26"
            ],
            [
             1.0,
             "#f0f921"
            ]
           ],
           "diverging": [
            [
             0,
             "#8e0152"
            ],
            [
             0.1,
             "#c51b7d"
            ],
            [
             0.2,
             "#de77ae"
            ],
            [
             0.3,
             "#f1b6da"
            ],
            [
             0.4,
             "#fde0ef"
            ],
            [
             0.5,
             "#f7f7f7"
            ],
            [
             0.6,
             "#e6f5d0"
            ],
            [
             0.7,
             "#b8e186"
            ],
            [
             0.8,
             "#7fbc41"
            ],
            [
             0.9,
             "#4d9221"
            ],
            [
             1,
             "#276419"
            ]
           ]
          },
          "xaxis": {
           "gridcolor": "white",
           "linecolor": "white",
           "ticks": "",
           "title": {
            "standoff": 15
           },
           "zerolinecolor": "white",
           "automargin": true,
           "zerolinewidth": 2
          },
          "yaxis": {
           "gridcolor": "white",
           "linecolor": "white",
           "ticks": "",
           "title": {
            "standoff": 15
           },
           "zerolinecolor": "white",
           "automargin": true,
           "zerolinewidth": 2
          },
          "scene": {
           "xaxis": {
            "backgroundcolor": "#E5ECF6",
            "gridcolor": "white",
            "linecolor": "white",
            "showbackground": true,
            "ticks": "",
            "zerolinecolor": "white",
            "gridwidth": 2
           },
           "yaxis": {
            "backgroundcolor": "#E5ECF6",
            "gridcolor": "white",
            "linecolor": "white",
            "showbackground": true,
            "ticks": "",
            "zerolinecolor": "white",
            "gridwidth": 2
           },
           "zaxis": {
            "backgroundcolor": "#E5ECF6",
            "gridcolor": "white",
            "linecolor": "white",
            "showbackground": true,
            "ticks": "",
            "zerolinecolor": "white",
            "gridwidth": 2
           }
          },
          "shapedefaults": {
           "line": {
            "color": "#2a3f5f"
           }
          },
          "annotationdefaults": {
           "arrowcolor": "#2a3f5f",
           "arrowhead": 0,
           "arrowwidth": 1
          },
          "geo": {
           "bgcolor": "white",
           "landcolor": "#E5ECF6",
           "subunitcolor": "white",
           "showland": true,
           "showlakes": true,
           "lakecolor": "white"
          },
          "title": {
           "x": 0.05
          },
          "mapbox": {
           "style": "light"
          }
         }
        },
        "xaxis": {
         "anchor": "y",
         "domain": [
          0.0,
          1.0
         ],
         "title": {
          "text": "Importance"
         }
        },
        "yaxis": {
         "anchor": "x",
         "domain": [
          0.0,
          1.0
         ],
         "title": {
          "text": "Feature"
         }
        },
        "legend": {
         "tracegroupgap": 0
        },
        "title": {
         "text": "Top Ten Features Gradient Boosting - Embedding & LBP important, as expected."
        },
        "barmode": "relative"
       },
       "config": {
        "plotlyServerURL": "https://plot.ly"
       }
      }
     },
     "metadata": {},
     "output_type": "display_data"
    }
   ],
   "execution_count": 67
  },
  {
   "metadata": {
    "ExecuteTime": {
     "end_time": "2025-09-03T03:49:55.548241Z",
     "start_time": "2025-09-03T03:49:53.706805Z"
    }
   },
   "cell_type": "code",
   "source": [
    "logistic_regression_importance = {\n",
    "    \"Feature\": loaded_models[\"Logistic Regression\"].feature_names_in_,\n",
    "    \"Importance\": np.abs(loaded_models[\"Logistic Regression\"].coef_[0]),\n",
    "}\n",
    "logistic_regression_importance_df = pd.DataFrame(logistic_regression_importance)\n",
    "\n",
    "logistic_regression_importance_df = logistic_regression_importance_df.sort_values(\n",
    "    \"Importance\", ascending=False\n",
    ")\n",
    "fig = px.bar(\n",
    "    logistic_regression_importance_df[:10],\n",
    "    x=\"Importance\",\n",
    "    y=\"Feature\",\n",
    "    orientation=\"h\",\n",
    "    title=\"Top Ten Features Logistic Regression - 2D embedding had the strongest influence\",\n",
    ")\n",
    "fig.show()\n",
    "fig.write_image(\"images/logistic_regression_top_features.png\", width=1200, height=600)"
   ],
   "id": "75b5acb94045e766",
   "outputs": [
    {
     "data": {
      "application/vnd.plotly.v1+json": {
       "data": [
        {
         "hovertemplate": "Importance=%{x}<br>Feature=%{y}<extra></extra>",
         "legendgroup": "",
         "marker": {
          "color": "#636efa",
          "pattern": {
           "shape": ""
          }
         },
         "name": "",
         "orientation": "h",
         "showlegend": false,
         "textposition": "auto",
         "x": {
          "dtype": "f8",
          "bdata": "KrH/Quv2fD/yiLZpnOl4P520E41QEHU/EZgCjZLucD8/upw5y7RpP5GVT8YG52I/L9iRHtmcXD+DQoc7sL7nPlfNBK31eOA+a0ZapHle3T4="
         },
         "xaxis": "x",
         "y": [
          "x",
          "y",
          "mean_b",
          "width",
          "mean_g",
          "height",
          "mean_r",
          "lbp_24",
          "aspect_ratio",
          "lbp_25"
         ],
         "yaxis": "y",
         "type": "bar"
        }
       ],
       "layout": {
        "template": {
         "data": {
          "histogram2dcontour": [
           {
            "type": "histogram2dcontour",
            "colorbar": {
             "outlinewidth": 0,
             "ticks": ""
            },
            "colorscale": [
             [
              0.0,
              "#0d0887"
             ],
             [
              0.1111111111111111,
              "#46039f"
             ],
             [
              0.2222222222222222,
              "#7201a8"
             ],
             [
              0.3333333333333333,
              "#9c179e"
             ],
             [
              0.4444444444444444,
              "#bd3786"
             ],
             [
              0.5555555555555556,
              "#d8576b"
             ],
             [
              0.6666666666666666,
              "#ed7953"
             ],
             [
              0.7777777777777778,
              "#fb9f3a"
             ],
             [
              0.8888888888888888,
              "#fdca26"
             ],
             [
              1.0,
              "#f0f921"
             ]
            ]
           }
          ],
          "choropleth": [
           {
            "type": "choropleth",
            "colorbar": {
             "outlinewidth": 0,
             "ticks": ""
            }
           }
          ],
          "histogram2d": [
           {
            "type": "histogram2d",
            "colorbar": {
             "outlinewidth": 0,
             "ticks": ""
            },
            "colorscale": [
             [
              0.0,
              "#0d0887"
             ],
             [
              0.1111111111111111,
              "#46039f"
             ],
             [
              0.2222222222222222,
              "#7201a8"
             ],
             [
              0.3333333333333333,
              "#9c179e"
             ],
             [
              0.4444444444444444,
              "#bd3786"
             ],
             [
              0.5555555555555556,
              "#d8576b"
             ],
             [
              0.6666666666666666,
              "#ed7953"
             ],
             [
              0.7777777777777778,
              "#fb9f3a"
             ],
             [
              0.8888888888888888,
              "#fdca26"
             ],
             [
              1.0,
              "#f0f921"
             ]
            ]
           }
          ],
          "heatmap": [
           {
            "type": "heatmap",
            "colorbar": {
             "outlinewidth": 0,
             "ticks": ""
            },
            "colorscale": [
             [
              0.0,
              "#0d0887"
             ],
             [
              0.1111111111111111,
              "#46039f"
             ],
             [
              0.2222222222222222,
              "#7201a8"
             ],
             [
              0.3333333333333333,
              "#9c179e"
             ],
             [
              0.4444444444444444,
              "#bd3786"
             ],
             [
              0.5555555555555556,
              "#d8576b"
             ],
             [
              0.6666666666666666,
              "#ed7953"
             ],
             [
              0.7777777777777778,
              "#fb9f3a"
             ],
             [
              0.8888888888888888,
              "#fdca26"
             ],
             [
              1.0,
              "#f0f921"
             ]
            ]
           }
          ],
          "contourcarpet": [
           {
            "type": "contourcarpet",
            "colorbar": {
             "outlinewidth": 0,
             "ticks": ""
            }
           }
          ],
          "contour": [
           {
            "type": "contour",
            "colorbar": {
             "outlinewidth": 0,
             "ticks": ""
            },
            "colorscale": [
             [
              0.0,
              "#0d0887"
             ],
             [
              0.1111111111111111,
              "#46039f"
             ],
             [
              0.2222222222222222,
              "#7201a8"
             ],
             [
              0.3333333333333333,
              "#9c179e"
             ],
             [
              0.4444444444444444,
              "#bd3786"
             ],
             [
              0.5555555555555556,
              "#d8576b"
             ],
             [
              0.6666666666666666,
              "#ed7953"
             ],
             [
              0.7777777777777778,
              "#fb9f3a"
             ],
             [
              0.8888888888888888,
              "#fdca26"
             ],
             [
              1.0,
              "#f0f921"
             ]
            ]
           }
          ],
          "surface": [
           {
            "type": "surface",
            "colorbar": {
             "outlinewidth": 0,
             "ticks": ""
            },
            "colorscale": [
             [
              0.0,
              "#0d0887"
             ],
             [
              0.1111111111111111,
              "#46039f"
             ],
             [
              0.2222222222222222,
              "#7201a8"
             ],
             [
              0.3333333333333333,
              "#9c179e"
             ],
             [
              0.4444444444444444,
              "#bd3786"
             ],
             [
              0.5555555555555556,
              "#d8576b"
             ],
             [
              0.6666666666666666,
              "#ed7953"
             ],
             [
              0.7777777777777778,
              "#fb9f3a"
             ],
             [
              0.8888888888888888,
              "#fdca26"
             ],
             [
              1.0,
              "#f0f921"
             ]
            ]
           }
          ],
          "mesh3d": [
           {
            "type": "mesh3d",
            "colorbar": {
             "outlinewidth": 0,
             "ticks": ""
            }
           }
          ],
          "scatter": [
           {
            "fillpattern": {
             "fillmode": "overlay",
             "size": 10,
             "solidity": 0.2
            },
            "type": "scatter"
           }
          ],
          "parcoords": [
           {
            "type": "parcoords",
            "line": {
             "colorbar": {
              "outlinewidth": 0,
              "ticks": ""
             }
            }
           }
          ],
          "scatterpolargl": [
           {
            "type": "scatterpolargl",
            "marker": {
             "colorbar": {
              "outlinewidth": 0,
              "ticks": ""
             }
            }
           }
          ],
          "bar": [
           {
            "error_x": {
             "color": "#2a3f5f"
            },
            "error_y": {
             "color": "#2a3f5f"
            },
            "marker": {
             "line": {
              "color": "#E5ECF6",
              "width": 0.5
             },
             "pattern": {
              "fillmode": "overlay",
              "size": 10,
              "solidity": 0.2
             }
            },
            "type": "bar"
           }
          ],
          "scattergeo": [
           {
            "type": "scattergeo",
            "marker": {
             "colorbar": {
              "outlinewidth": 0,
              "ticks": ""
             }
            }
           }
          ],
          "scatterpolar": [
           {
            "type": "scatterpolar",
            "marker": {
             "colorbar": {
              "outlinewidth": 0,
              "ticks": ""
             }
            }
           }
          ],
          "histogram": [
           {
            "marker": {
             "pattern": {
              "fillmode": "overlay",
              "size": 10,
              "solidity": 0.2
             }
            },
            "type": "histogram"
           }
          ],
          "scattergl": [
           {
            "type": "scattergl",
            "marker": {
             "colorbar": {
              "outlinewidth": 0,
              "ticks": ""
             }
            }
           }
          ],
          "scatter3d": [
           {
            "type": "scatter3d",
            "line": {
             "colorbar": {
              "outlinewidth": 0,
              "ticks": ""
             }
            },
            "marker": {
             "colorbar": {
              "outlinewidth": 0,
              "ticks": ""
             }
            }
           }
          ],
          "scattermap": [
           {
            "type": "scattermap",
            "marker": {
             "colorbar": {
              "outlinewidth": 0,
              "ticks": ""
             }
            }
           }
          ],
          "scattermapbox": [
           {
            "type": "scattermapbox",
            "marker": {
             "colorbar": {
              "outlinewidth": 0,
              "ticks": ""
             }
            }
           }
          ],
          "scatterternary": [
           {
            "type": "scatterternary",
            "marker": {
             "colorbar": {
              "outlinewidth": 0,
              "ticks": ""
             }
            }
           }
          ],
          "scattercarpet": [
           {
            "type": "scattercarpet",
            "marker": {
             "colorbar": {
              "outlinewidth": 0,
              "ticks": ""
             }
            }
           }
          ],
          "carpet": [
           {
            "aaxis": {
             "endlinecolor": "#2a3f5f",
             "gridcolor": "white",
             "linecolor": "white",
             "minorgridcolor": "white",
             "startlinecolor": "#2a3f5f"
            },
            "baxis": {
             "endlinecolor": "#2a3f5f",
             "gridcolor": "white",
             "linecolor": "white",
             "minorgridcolor": "white",
             "startlinecolor": "#2a3f5f"
            },
            "type": "carpet"
           }
          ],
          "table": [
           {
            "cells": {
             "fill": {
              "color": "#EBF0F8"
             },
             "line": {
              "color": "white"
             }
            },
            "header": {
             "fill": {
              "color": "#C8D4E3"
             },
             "line": {
              "color": "white"
             }
            },
            "type": "table"
           }
          ],
          "barpolar": [
           {
            "marker": {
             "line": {
              "color": "#E5ECF6",
              "width": 0.5
             },
             "pattern": {
              "fillmode": "overlay",
              "size": 10,
              "solidity": 0.2
             }
            },
            "type": "barpolar"
           }
          ],
          "pie": [
           {
            "automargin": true,
            "type": "pie"
           }
          ]
         },
         "layout": {
          "autotypenumbers": "strict",
          "colorway": [
           "#636efa",
           "#EF553B",
           "#00cc96",
           "#ab63fa",
           "#FFA15A",
           "#19d3f3",
           "#FF6692",
           "#B6E880",
           "#FF97FF",
           "#FECB52"
          ],
          "font": {
           "color": "#2a3f5f"
          },
          "hovermode": "closest",
          "hoverlabel": {
           "align": "left"
          },
          "paper_bgcolor": "white",
          "plot_bgcolor": "#E5ECF6",
          "polar": {
           "bgcolor": "#E5ECF6",
           "angularaxis": {
            "gridcolor": "white",
            "linecolor": "white",
            "ticks": ""
           },
           "radialaxis": {
            "gridcolor": "white",
            "linecolor": "white",
            "ticks": ""
           }
          },
          "ternary": {
           "bgcolor": "#E5ECF6",
           "aaxis": {
            "gridcolor": "white",
            "linecolor": "white",
            "ticks": ""
           },
           "baxis": {
            "gridcolor": "white",
            "linecolor": "white",
            "ticks": ""
           },
           "caxis": {
            "gridcolor": "white",
            "linecolor": "white",
            "ticks": ""
           }
          },
          "coloraxis": {
           "colorbar": {
            "outlinewidth": 0,
            "ticks": ""
           }
          },
          "colorscale": {
           "sequential": [
            [
             0.0,
             "#0d0887"
            ],
            [
             0.1111111111111111,
             "#46039f"
            ],
            [
             0.2222222222222222,
             "#7201a8"
            ],
            [
             0.3333333333333333,
             "#9c179e"
            ],
            [
             0.4444444444444444,
             "#bd3786"
            ],
            [
             0.5555555555555556,
             "#d8576b"
            ],
            [
             0.6666666666666666,
             "#ed7953"
            ],
            [
             0.7777777777777778,
             "#fb9f3a"
            ],
            [
             0.8888888888888888,
             "#fdca26"
            ],
            [
             1.0,
             "#f0f921"
            ]
           ],
           "sequentialminus": [
            [
             0.0,
             "#0d0887"
            ],
            [
             0.1111111111111111,
             "#46039f"
            ],
            [
             0.2222222222222222,
             "#7201a8"
            ],
            [
             0.3333333333333333,
             "#9c179e"
            ],
            [
             0.4444444444444444,
             "#bd3786"
            ],
            [
             0.5555555555555556,
             "#d8576b"
            ],
            [
             0.6666666666666666,
             "#ed7953"
            ],
            [
             0.7777777777777778,
             "#fb9f3a"
            ],
            [
             0.8888888888888888,
             "#fdca26"
            ],
            [
             1.0,
             "#f0f921"
            ]
           ],
           "diverging": [
            [
             0,
             "#8e0152"
            ],
            [
             0.1,
             "#c51b7d"
            ],
            [
             0.2,
             "#de77ae"
            ],
            [
             0.3,
             "#f1b6da"
            ],
            [
             0.4,
             "#fde0ef"
            ],
            [
             0.5,
             "#f7f7f7"
            ],
            [
             0.6,
             "#e6f5d0"
            ],
            [
             0.7,
             "#b8e186"
            ],
            [
             0.8,
             "#7fbc41"
            ],
            [
             0.9,
             "#4d9221"
            ],
            [
             1,
             "#276419"
            ]
           ]
          },
          "xaxis": {
           "gridcolor": "white",
           "linecolor": "white",
           "ticks": "",
           "title": {
            "standoff": 15
           },
           "zerolinecolor": "white",
           "automargin": true,
           "zerolinewidth": 2
          },
          "yaxis": {
           "gridcolor": "white",
           "linecolor": "white",
           "ticks": "",
           "title": {
            "standoff": 15
           },
           "zerolinecolor": "white",
           "automargin": true,
           "zerolinewidth": 2
          },
          "scene": {
           "xaxis": {
            "backgroundcolor": "#E5ECF6",
            "gridcolor": "white",
            "linecolor": "white",
            "showbackground": true,
            "ticks": "",
            "zerolinecolor": "white",
            "gridwidth": 2
           },
           "yaxis": {
            "backgroundcolor": "#E5ECF6",
            "gridcolor": "white",
            "linecolor": "white",
            "showbackground": true,
            "ticks": "",
            "zerolinecolor": "white",
            "gridwidth": 2
           },
           "zaxis": {
            "backgroundcolor": "#E5ECF6",
            "gridcolor": "white",
            "linecolor": "white",
            "showbackground": true,
            "ticks": "",
            "zerolinecolor": "white",
            "gridwidth": 2
           }
          },
          "shapedefaults": {
           "line": {
            "color": "#2a3f5f"
           }
          },
          "annotationdefaults": {
           "arrowcolor": "#2a3f5f",
           "arrowhead": 0,
           "arrowwidth": 1
          },
          "geo": {
           "bgcolor": "white",
           "landcolor": "#E5ECF6",
           "subunitcolor": "white",
           "showland": true,
           "showlakes": true,
           "lakecolor": "white"
          },
          "title": {
           "x": 0.05
          },
          "mapbox": {
           "style": "light"
          }
         }
        },
        "xaxis": {
         "anchor": "y",
         "domain": [
          0.0,
          1.0
         ],
         "title": {
          "text": "Importance"
         }
        },
        "yaxis": {
         "anchor": "x",
         "domain": [
          0.0,
          1.0
         ],
         "title": {
          "text": "Feature"
         }
        },
        "legend": {
         "tracegroupgap": 0
        },
        "title": {
         "text": "Top Ten Features Logistic Regression - 2D embedding had the strongest influence"
        },
        "barmode": "relative"
       },
       "config": {
        "plotlyServerURL": "https://plot.ly"
       }
      }
     },
     "metadata": {},
     "output_type": "display_data"
    }
   ],
   "execution_count": 85
  },
  {
   "metadata": {
    "ExecuteTime": {
     "end_time": "2025-09-03T03:49:47.128710Z",
     "start_time": "2025-09-03T02:47:49.365502Z"
    }
   },
   "cell_type": "code",
   "source": [
    "svc_permutation_importance = permutation_importance(\n",
    "    loaded_models[\"SVC\"], X, y, n_repeats=10, random_state=42\n",
    ")"
   ],
   "id": "c00e0c1fa6553e44",
   "outputs": [],
   "execution_count": 84
  },
  {
   "metadata": {
    "ExecuteTime": {
     "end_time": "2025-09-03T03:50:23.089252Z",
     "start_time": "2025-09-03T03:50:21.787280Z"
    }
   },
   "cell_type": "code",
   "source": [
    "svc_importance = {\n",
    "    \"Feature\": loaded_models[\"SVC\"].feature_names_in_,\n",
    "    \"Importance\": svc_permutation_importance.importances_mean,\n",
    "}\n",
    "svc_importance_df = pd.DataFrame(svc_importance)\n",
    "\n",
    "svc_importance_df = svc_importance_df.sort_values(\"Importance\", ascending=False)\n",
    "fig = px.bar(\n",
    "    svc_importance_df[:10],\n",
    "    x=\"Importance\",\n",
    "    y=\"Feature\",\n",
    "    orientation=\"h\",\n",
    "    title=\"Top Ten Features SVC - Height and width had the most influence\",\n",
    ")\n",
    "fig.show()\n",
    "fig.write_image(\"images/svc_top_features.png\", width=1200, height=600)"
   ],
   "id": "ad79f7a31a2633de",
   "outputs": [
    {
     "data": {
      "application/vnd.plotly.v1+json": {
       "data": [
        {
         "hovertemplate": "Importance=%{x}<br>Feature=%{y}<extra></extra>",
         "legendgroup": "",
         "marker": {
          "color": "#636efa",
          "pattern": {
           "shape": ""
          }
         },
         "name": "",
         "orientation": "h",
         "showlegend": false,
         "textposition": "auto",
         "x": {
          "dtype": "f8",
          "bdata": "mvPjOkzUwT8amKlweiG+PytUwl0VyrI/e11v3ghOmj9yRJhUE+yQP7ObAVfIzWI/Mzss8KSCSj8AAAAAAAAAAAAAAAAAAAAAAAAAAAAAAAA="
         },
         "xaxis": "x",
         "y": [
          "height",
          "width",
          "x",
          "mean_b",
          "y",
          "mean_r",
          "mean_g",
          "aspect_ratio",
          "lbp_0",
          "lbp_1"
         ],
         "yaxis": "y",
         "type": "bar"
        }
       ],
       "layout": {
        "template": {
         "data": {
          "histogram2dcontour": [
           {
            "type": "histogram2dcontour",
            "colorbar": {
             "outlinewidth": 0,
             "ticks": ""
            },
            "colorscale": [
             [
              0.0,
              "#0d0887"
             ],
             [
              0.1111111111111111,
              "#46039f"
             ],
             [
              0.2222222222222222,
              "#7201a8"
             ],
             [
              0.3333333333333333,
              "#9c179e"
             ],
             [
              0.4444444444444444,
              "#bd3786"
             ],
             [
              0.5555555555555556,
              "#d8576b"
             ],
             [
              0.6666666666666666,
              "#ed7953"
             ],
             [
              0.7777777777777778,
              "#fb9f3a"
             ],
             [
              0.8888888888888888,
              "#fdca26"
             ],
             [
              1.0,
              "#f0f921"
             ]
            ]
           }
          ],
          "choropleth": [
           {
            "type": "choropleth",
            "colorbar": {
             "outlinewidth": 0,
             "ticks": ""
            }
           }
          ],
          "histogram2d": [
           {
            "type": "histogram2d",
            "colorbar": {
             "outlinewidth": 0,
             "ticks": ""
            },
            "colorscale": [
             [
              0.0,
              "#0d0887"
             ],
             [
              0.1111111111111111,
              "#46039f"
             ],
             [
              0.2222222222222222,
              "#7201a8"
             ],
             [
              0.3333333333333333,
              "#9c179e"
             ],
             [
              0.4444444444444444,
              "#bd3786"
             ],
             [
              0.5555555555555556,
              "#d8576b"
             ],
             [
              0.6666666666666666,
              "#ed7953"
             ],
             [
              0.7777777777777778,
              "#fb9f3a"
             ],
             [
              0.8888888888888888,
              "#fdca26"
             ],
             [
              1.0,
              "#f0f921"
             ]
            ]
           }
          ],
          "heatmap": [
           {
            "type": "heatmap",
            "colorbar": {
             "outlinewidth": 0,
             "ticks": ""
            },
            "colorscale": [
             [
              0.0,
              "#0d0887"
             ],
             [
              0.1111111111111111,
              "#46039f"
             ],
             [
              0.2222222222222222,
              "#7201a8"
             ],
             [
              0.3333333333333333,
              "#9c179e"
             ],
             [
              0.4444444444444444,
              "#bd3786"
             ],
             [
              0.5555555555555556,
              "#d8576b"
             ],
             [
              0.6666666666666666,
              "#ed7953"
             ],
             [
              0.7777777777777778,
              "#fb9f3a"
             ],
             [
              0.8888888888888888,
              "#fdca26"
             ],
             [
              1.0,
              "#f0f921"
             ]
            ]
           }
          ],
          "contourcarpet": [
           {
            "type": "contourcarpet",
            "colorbar": {
             "outlinewidth": 0,
             "ticks": ""
            }
           }
          ],
          "contour": [
           {
            "type": "contour",
            "colorbar": {
             "outlinewidth": 0,
             "ticks": ""
            },
            "colorscale": [
             [
              0.0,
              "#0d0887"
             ],
             [
              0.1111111111111111,
              "#46039f"
             ],
             [
              0.2222222222222222,
              "#7201a8"
             ],
             [
              0.3333333333333333,
              "#9c179e"
             ],
             [
              0.4444444444444444,
              "#bd3786"
             ],
             [
              0.5555555555555556,
              "#d8576b"
             ],
             [
              0.6666666666666666,
              "#ed7953"
             ],
             [
              0.7777777777777778,
              "#fb9f3a"
             ],
             [
              0.8888888888888888,
              "#fdca26"
             ],
             [
              1.0,
              "#f0f921"
             ]
            ]
           }
          ],
          "surface": [
           {
            "type": "surface",
            "colorbar": {
             "outlinewidth": 0,
             "ticks": ""
            },
            "colorscale": [
             [
              0.0,
              "#0d0887"
             ],
             [
              0.1111111111111111,
              "#46039f"
             ],
             [
              0.2222222222222222,
              "#7201a8"
             ],
             [
              0.3333333333333333,
              "#9c179e"
             ],
             [
              0.4444444444444444,
              "#bd3786"
             ],
             [
              0.5555555555555556,
              "#d8576b"
             ],
             [
              0.6666666666666666,
              "#ed7953"
             ],
             [
              0.7777777777777778,
              "#fb9f3a"
             ],
             [
              0.8888888888888888,
              "#fdca26"
             ],
             [
              1.0,
              "#f0f921"
             ]
            ]
           }
          ],
          "mesh3d": [
           {
            "type": "mesh3d",
            "colorbar": {
             "outlinewidth": 0,
             "ticks": ""
            }
           }
          ],
          "scatter": [
           {
            "fillpattern": {
             "fillmode": "overlay",
             "size": 10,
             "solidity": 0.2
            },
            "type": "scatter"
           }
          ],
          "parcoords": [
           {
            "type": "parcoords",
            "line": {
             "colorbar": {
              "outlinewidth": 0,
              "ticks": ""
             }
            }
           }
          ],
          "scatterpolargl": [
           {
            "type": "scatterpolargl",
            "marker": {
             "colorbar": {
              "outlinewidth": 0,
              "ticks": ""
             }
            }
           }
          ],
          "bar": [
           {
            "error_x": {
             "color": "#2a3f5f"
            },
            "error_y": {
             "color": "#2a3f5f"
            },
            "marker": {
             "line": {
              "color": "#E5ECF6",
              "width": 0.5
             },
             "pattern": {
              "fillmode": "overlay",
              "size": 10,
              "solidity": 0.2
             }
            },
            "type": "bar"
           }
          ],
          "scattergeo": [
           {
            "type": "scattergeo",
            "marker": {
             "colorbar": {
              "outlinewidth": 0,
              "ticks": ""
             }
            }
           }
          ],
          "scatterpolar": [
           {
            "type": "scatterpolar",
            "marker": {
             "colorbar": {
              "outlinewidth": 0,
              "ticks": ""
             }
            }
           }
          ],
          "histogram": [
           {
            "marker": {
             "pattern": {
              "fillmode": "overlay",
              "size": 10,
              "solidity": 0.2
             }
            },
            "type": "histogram"
           }
          ],
          "scattergl": [
           {
            "type": "scattergl",
            "marker": {
             "colorbar": {
              "outlinewidth": 0,
              "ticks": ""
             }
            }
           }
          ],
          "scatter3d": [
           {
            "type": "scatter3d",
            "line": {
             "colorbar": {
              "outlinewidth": 0,
              "ticks": ""
             }
            },
            "marker": {
             "colorbar": {
              "outlinewidth": 0,
              "ticks": ""
             }
            }
           }
          ],
          "scattermap": [
           {
            "type": "scattermap",
            "marker": {
             "colorbar": {
              "outlinewidth": 0,
              "ticks": ""
             }
            }
           }
          ],
          "scattermapbox": [
           {
            "type": "scattermapbox",
            "marker": {
             "colorbar": {
              "outlinewidth": 0,
              "ticks": ""
             }
            }
           }
          ],
          "scatterternary": [
           {
            "type": "scatterternary",
            "marker": {
             "colorbar": {
              "outlinewidth": 0,
              "ticks": ""
             }
            }
           }
          ],
          "scattercarpet": [
           {
            "type": "scattercarpet",
            "marker": {
             "colorbar": {
              "outlinewidth": 0,
              "ticks": ""
             }
            }
           }
          ],
          "carpet": [
           {
            "aaxis": {
             "endlinecolor": "#2a3f5f",
             "gridcolor": "white",
             "linecolor": "white",
             "minorgridcolor": "white",
             "startlinecolor": "#2a3f5f"
            },
            "baxis": {
             "endlinecolor": "#2a3f5f",
             "gridcolor": "white",
             "linecolor": "white",
             "minorgridcolor": "white",
             "startlinecolor": "#2a3f5f"
            },
            "type": "carpet"
           }
          ],
          "table": [
           {
            "cells": {
             "fill": {
              "color": "#EBF0F8"
             },
             "line": {
              "color": "white"
             }
            },
            "header": {
             "fill": {
              "color": "#C8D4E3"
             },
             "line": {
              "color": "white"
             }
            },
            "type": "table"
           }
          ],
          "barpolar": [
           {
            "marker": {
             "line": {
              "color": "#E5ECF6",
              "width": 0.5
             },
             "pattern": {
              "fillmode": "overlay",
              "size": 10,
              "solidity": 0.2
             }
            },
            "type": "barpolar"
           }
          ],
          "pie": [
           {
            "automargin": true,
            "type": "pie"
           }
          ]
         },
         "layout": {
          "autotypenumbers": "strict",
          "colorway": [
           "#636efa",
           "#EF553B",
           "#00cc96",
           "#ab63fa",
           "#FFA15A",
           "#19d3f3",
           "#FF6692",
           "#B6E880",
           "#FF97FF",
           "#FECB52"
          ],
          "font": {
           "color": "#2a3f5f"
          },
          "hovermode": "closest",
          "hoverlabel": {
           "align": "left"
          },
          "paper_bgcolor": "white",
          "plot_bgcolor": "#E5ECF6",
          "polar": {
           "bgcolor": "#E5ECF6",
           "angularaxis": {
            "gridcolor": "white",
            "linecolor": "white",
            "ticks": ""
           },
           "radialaxis": {
            "gridcolor": "white",
            "linecolor": "white",
            "ticks": ""
           }
          },
          "ternary": {
           "bgcolor": "#E5ECF6",
           "aaxis": {
            "gridcolor": "white",
            "linecolor": "white",
            "ticks": ""
           },
           "baxis": {
            "gridcolor": "white",
            "linecolor": "white",
            "ticks": ""
           },
           "caxis": {
            "gridcolor": "white",
            "linecolor": "white",
            "ticks": ""
           }
          },
          "coloraxis": {
           "colorbar": {
            "outlinewidth": 0,
            "ticks": ""
           }
          },
          "colorscale": {
           "sequential": [
            [
             0.0,
             "#0d0887"
            ],
            [
             0.1111111111111111,
             "#46039f"
            ],
            [
             0.2222222222222222,
             "#7201a8"
            ],
            [
             0.3333333333333333,
             "#9c179e"
            ],
            [
             0.4444444444444444,
             "#bd3786"
            ],
            [
             0.5555555555555556,
             "#d8576b"
            ],
            [
             0.6666666666666666,
             "#ed7953"
            ],
            [
             0.7777777777777778,
             "#fb9f3a"
            ],
            [
             0.8888888888888888,
             "#fdca26"
            ],
            [
             1.0,
             "#f0f921"
            ]
           ],
           "sequentialminus": [
            [
             0.0,
             "#0d0887"
            ],
            [
             0.1111111111111111,
             "#46039f"
            ],
            [
             0.2222222222222222,
             "#7201a8"
            ],
            [
             0.3333333333333333,
             "#9c179e"
            ],
            [
             0.4444444444444444,
             "#bd3786"
            ],
            [
             0.5555555555555556,
             "#d8576b"
            ],
            [
             0.6666666666666666,
             "#ed7953"
            ],
            [
             0.7777777777777778,
             "#fb9f3a"
            ],
            [
             0.8888888888888888,
             "#fdca26"
            ],
            [
             1.0,
             "#f0f921"
            ]
           ],
           "diverging": [
            [
             0,
             "#8e0152"
            ],
            [
             0.1,
             "#c51b7d"
            ],
            [
             0.2,
             "#de77ae"
            ],
            [
             0.3,
             "#f1b6da"
            ],
            [
             0.4,
             "#fde0ef"
            ],
            [
             0.5,
             "#f7f7f7"
            ],
            [
             0.6,
             "#e6f5d0"
            ],
            [
             0.7,
             "#b8e186"
            ],
            [
             0.8,
             "#7fbc41"
            ],
            [
             0.9,
             "#4d9221"
            ],
            [
             1,
             "#276419"
            ]
           ]
          },
          "xaxis": {
           "gridcolor": "white",
           "linecolor": "white",
           "ticks": "",
           "title": {
            "standoff": 15
           },
           "zerolinecolor": "white",
           "automargin": true,
           "zerolinewidth": 2
          },
          "yaxis": {
           "gridcolor": "white",
           "linecolor": "white",
           "ticks": "",
           "title": {
            "standoff": 15
           },
           "zerolinecolor": "white",
           "automargin": true,
           "zerolinewidth": 2
          },
          "scene": {
           "xaxis": {
            "backgroundcolor": "#E5ECF6",
            "gridcolor": "white",
            "linecolor": "white",
            "showbackground": true,
            "ticks": "",
            "zerolinecolor": "white",
            "gridwidth": 2
           },
           "yaxis": {
            "backgroundcolor": "#E5ECF6",
            "gridcolor": "white",
            "linecolor": "white",
            "showbackground": true,
            "ticks": "",
            "zerolinecolor": "white",
            "gridwidth": 2
           },
           "zaxis": {
            "backgroundcolor": "#E5ECF6",
            "gridcolor": "white",
            "linecolor": "white",
            "showbackground": true,
            "ticks": "",
            "zerolinecolor": "white",
            "gridwidth": 2
           }
          },
          "shapedefaults": {
           "line": {
            "color": "#2a3f5f"
           }
          },
          "annotationdefaults": {
           "arrowcolor": "#2a3f5f",
           "arrowhead": 0,
           "arrowwidth": 1
          },
          "geo": {
           "bgcolor": "white",
           "landcolor": "#E5ECF6",
           "subunitcolor": "white",
           "showland": true,
           "showlakes": true,
           "lakecolor": "white"
          },
          "title": {
           "x": 0.05
          },
          "mapbox": {
           "style": "light"
          }
         }
        },
        "xaxis": {
         "anchor": "y",
         "domain": [
          0.0,
          1.0
         ],
         "title": {
          "text": "Importance"
         }
        },
        "yaxis": {
         "anchor": "x",
         "domain": [
          0.0,
          1.0
         ],
         "title": {
          "text": "Feature"
         }
        },
        "legend": {
         "tracegroupgap": 0
        },
        "title": {
         "text": "Top Ten Features SVC - Height and width had the most influence"
        },
        "barmode": "relative"
       },
       "config": {
        "plotlyServerURL": "https://plot.ly"
       }
      }
     },
     "metadata": {},
     "output_type": "display_data"
    }
   ],
   "execution_count": 87
  },
  {
   "metadata": {},
   "cell_type": "markdown",
   "source": "### Deep Learning Models",
   "id": "ba363083ddb4e55"
  },
  {
   "metadata": {
    "ExecuteTime": {
     "end_time": "2025-09-07T16:04:13.420744Z",
     "start_time": "2025-09-07T16:04:13.418496Z"
    }
   },
   "cell_type": "code",
   "source": "deep_learning_model_reports = []",
   "id": "4bad4a35e176e4c",
   "outputs": [],
   "execution_count": 39
  },
  {
   "metadata": {
    "ExecuteTime": {
     "end_time": "2025-09-07T16:28:33.228494Z",
     "start_time": "2025-09-07T16:28:33.222906Z"
    }
   },
   "cell_type": "code",
   "source": [
    "# Build a Siamese network\n",
    "class SiameseNetwork(nn.Module):\n",
    "    def __init__(self, resnet=None, embedding_size=128):\n",
    "        super(SiameseNetwork, self).__init__()\n",
    "        if resnet:\n",
    "            self.convolution_neural_network = resnet(pretrained=True)\n",
    "        else:\n",
    "            self.convolution_neural_network = resnet18(pretrained=True)\n",
    "        in_features = self.convolution_neural_network.fc.in_features\n",
    "        self.convolution_neural_network.fc = nn.Linear(in_features, embedding_size)\n",
    "\n",
    "    def forward_one(self, x):\n",
    "        return self.convolution_neural_network(x)\n",
    "\n",
    "    def forward(self, x1, x2):\n",
    "        return self.forward_one(x1), self.forward_one(x2)\n",
    "\n",
    "\n",
    "# Loss function for images (maybe try cosine similarity)\n",
    "class ContrastiveLoss(nn.Module):\n",
    "    def __init__(self, margin=1):\n",
    "        super(ContrastiveLoss, self).__init__()\n",
    "        self.margin = margin\n",
    "\n",
    "    def forward(self, y1, y2, label):\n",
    "        euclidean_dist = F.pairwise_distance(y1, y2)\n",
    "        return torch.mean(\n",
    "            (1 - label) * torch.pow(euclidean_dist, 2)\n",
    "            + (label * torch.pow(torch.clamp(self.margin - euclidean_dist, min=0), 2))\n",
    "        )\n",
    "\n",
    "\n",
    "class CosineSimilarityLoss(nn.Module):\n",
    "    def __init__(self):\n",
    "        super(CosineSimilarityLoss, self).__init__()\n",
    "\n",
    "    def forward(self, output1, output2, label):\n",
    "        cosine_sim = F.cosine_similarity(output1, output2, dim=1)\n",
    "\n",
    "        # For similar pairs (label=0), maximize similarity (minimize 1 - cosine_sim)\n",
    "        # For dissimilar pairs (label=1), push similarity below margin\n",
    "        loss_similar = (1 - label) * (1 - cosine_sim)\n",
    "        loss_dissimilar = label * torch.clamp(cosine_sim - 0.5, min=0.0)\n",
    "\n",
    "        # Average loss over the batch\n",
    "        loss = torch.mean(loss_similar + loss_dissimilar)\n",
    "        return loss\n",
    "\n",
    "\n",
    "class SiameseDataset(Dataset):\n",
    "    def __init__(self, dataset):\n",
    "        self.dataset = dataset\n",
    "\n",
    "    def __getitem__(self, index):\n",
    "        x1, y1 = self.dataset[index]\n",
    "\n",
    "        same_landmark = random.randint(0, 1)\n",
    "        if same_landmark:\n",
    "            while True:\n",
    "                index2 = random.randint(0, len(self.dataset) - 1)\n",
    "                x2, y2 = self.dataset[index2]\n",
    "                if y1 == y2:\n",
    "                    break\n",
    "            # Same landmark\n",
    "            label = 0\n",
    "        else:\n",
    "            while True:\n",
    "                index2 = random.randint(0, len(self.dataset) - 1)\n",
    "                x2, y2 = self.dataset[index2]\n",
    "                if y1 != y2:\n",
    "                    break\n",
    "            # Same landmark\n",
    "            label = 1\n",
    "\n",
    "        return x1, x2, torch.tensor(label, dtype=torch.float32)\n",
    "\n",
    "    def __len__(self):\n",
    "        return len(self.dataset)\n",
    "\n",
    "\n",
    "# Dataset\n",
    "class LandmarksDataset(Dataset):\n",
    "    def __init__(self, image_paths, landmark_ids, transform):\n",
    "        self.image_paths = image_paths\n",
    "        self.landmark_ids = landmark_ids\n",
    "        self.transforms = transform\n",
    "\n",
    "    def __getitem__(self, index):\n",
    "        image = Image.open(self.image_paths[index]).convert(\"RGB\")\n",
    "        label = self.landmark_ids[index]\n",
    "        transformed_image = self.transforms(image)\n",
    "        return transformed_image, label\n",
    "\n",
    "    def __len__(self):\n",
    "        return len(self.image_paths)"
   ],
   "id": "4576a33431566a1d",
   "outputs": [],
   "execution_count": 75
  },
  {
   "metadata": {
    "ExecuteTime": {
     "end_time": "2025-09-07T16:28:33.836411Z",
     "start_time": "2025-09-07T16:28:33.831543Z"
    }
   },
   "cell_type": "code",
   "source": [
    "def evaluate_siamese_model(model, test_loader, test_dataset, device, top_k=5):\n",
    "    model.eval()\n",
    "\n",
    "    # Initialize torchmetrics for pair classification\n",
    "    accuracy_metric = Accuracy(task=\"binary\").to(device)\n",
    "\n",
    "    # Lists for retrieval metrics\n",
    "    precisions = []\n",
    "    recalls = []\n",
    "    aps = []\n",
    "\n",
    "    # Step 1: Compute embeddings for all test images\n",
    "    embeddings = []\n",
    "    labels = []\n",
    "    with torch.no_grad():\n",
    "        for img, label in DataLoader(test_dataset, batch_size=128, shuffle=False):\n",
    "            img = img.to(device)\n",
    "            emb = model.forward_one(img)\n",
    "            embeddings.append(emb.cpu())\n",
    "            labels.append(label.cpu())\n",
    "\n",
    "    embeddings = torch.cat(embeddings)\n",
    "    labels = torch.cat(labels)\n",
    "\n",
    "    # Step 2: Retrieval metrics (Precision, Recall, F1, mAP)\n",
    "    for i in range(len(test_dataset)):\n",
    "        query_emb = embeddings[i : i + 1]\n",
    "        query_label = labels[i]\n",
    "\n",
    "        # Compute cosine similarities (since you’re testing CosineSimilarityLoss)\n",
    "        similarities = F.cosine_similarity(query_emb, embeddings, dim=1)\n",
    "        similarities[i] = -float(\"inf\")  # Exclude query itself\n",
    "        _, indices = torch.topk(similarities, k=top_k, largest=True)\n",
    "        retrieved_labels = labels[indices]\n",
    "\n",
    "        # Ground truth: 1 if same class, 0 otherwise\n",
    "        y_true = (retrieved_labels == query_label).numpy()\n",
    "        y_pred = np.ones(top_k)\n",
    "\n",
    "        # Scikit-learn metrics\n",
    "        precision, recall, f1, _ = precision_recall_fscore_support(\n",
    "            y_true, y_pred, average=\"binary\", zero_division=0\n",
    "        )\n",
    "        precisions.append(precision)\n",
    "        recalls.append(recall)\n",
    "\n",
    "        # mAP: Average Precision for this query\n",
    "        y_true_all = (labels == query_label).float().numpy()\n",
    "        # Exclude query itself\n",
    "        y_true_all[i] = 0\n",
    "        y_scores = similarities.numpy()\n",
    "        ap = average_precision_score(y_true_all, y_scores, average=\"weighted\")\n",
    "        aps.append(ap)\n",
    "\n",
    "    # Step 3: Pair classification accuracy\n",
    "    with torch.no_grad():\n",
    "        for img1, img2, label in test_loader:\n",
    "            img1, img2, label = img1.to(device), img2.to(device), label.to(device)\n",
    "            output1, output2 = model(img1, img2)\n",
    "            similarities = F.cosine_similarity(output1, output2, dim=1)\n",
    "            # Threshold for similar/dissimilar\n",
    "            predictions = (similarities > 0.5).float()\n",
    "            accuracy_metric.update(predictions, label)\n",
    "\n",
    "    # Compute average metrics\n",
    "    mean_precision = np.mean(precisions)\n",
    "    mean_recall = np.mean(recalls)\n",
    "    mean_f1 = (\n",
    "        2 * (mean_precision * mean_recall) / (mean_precision + mean_recall)\n",
    "        if (mean_precision + mean_recall) > 0\n",
    "        else 0\n",
    "    )\n",
    "    mAP = np.mean(aps)\n",
    "    accuracy = accuracy_metric.compute().item()\n",
    "\n",
    "    return {\n",
    "        \"accuracy\": accuracy,\n",
    "        \"precision\": mean_precision,\n",
    "        \"recall\": mean_recall,\n",
    "        \"f1\": mean_f1,\n",
    "        \"mAP\": mAP,\n",
    "    }"
   ],
   "id": "d7014a78fbd70030",
   "outputs": [],
   "execution_count": 76
  },
  {
   "metadata": {
    "ExecuteTime": {
     "end_time": "2025-09-07T16:28:34.933640Z",
     "start_time": "2025-09-07T16:28:34.930618Z"
    }
   },
   "cell_type": "code",
   "source": [
    "def find_similar_images(query_image, image_set, model, top_k=5):\n",
    "    model.eval()\n",
    "    query_embedding = model.forward_one(query_image.unsqueeze(0).to(device))\n",
    "    distances = []\n",
    "    for img in image_set:\n",
    "        img_embedding = model.forward_one(img.unsqueeze(0).to(device))\n",
    "        distances.append(F.pairwise_distance(query_embedding, img_embedding))\n",
    "    return torch.argsort(torch.tensor(distances))[:top_k]"
   ],
   "id": "dbc7eb14fa33181d",
   "outputs": [],
   "execution_count": 77
  },
  {
   "metadata": {
    "ExecuteTime": {
     "end_time": "2025-09-07T16:28:35.755672Z",
     "start_time": "2025-09-07T16:28:35.752282Z"
    }
   },
   "cell_type": "code",
   "source": [
    "# Checkpointing functions\n",
    "def save_checkpoint(model, optimizer, epoch, loss, checkpoint_dir, run_id, filename=\"checkpoint.pth\"):\n",
    "    os.makedirs(checkpoint_dir, exist_ok=True)\n",
    "    checkpoint_path = os.path.join(checkpoint_dir, filename)\n",
    "    torch.save({\n",
    "        'epoch': epoch,\n",
    "        'model_state_dict': model.state_dict(),\n",
    "        'optimizer_state_dict': optimizer.state_dict(),\n",
    "        'loss': loss,\n",
    "    }, checkpoint_path)\n",
    "    # Log checkpoint to MLflow\n",
    "    mlflow.log_artifact(checkpoint_path, artifact_path=\"checkpoints\")\n",
    "\n",
    "def load_checkpoint(model, optimizer, checkpoint_path, device):\n",
    "    checkpoint = torch.load(checkpoint_path, map_location=device)\n",
    "    model.load_state_dict(checkpoint['model_state_dict'])\n",
    "    optimizer.load_state_dict(checkpoint['optimizer_state_dict'])\n",
    "    epoch = checkpoint['epoch']\n",
    "    loss = checkpoint['loss']\n",
    "    return epoch, loss"
   ],
   "id": "fca04b4097680a96",
   "outputs": [],
   "execution_count": 78
  },
  {
   "metadata": {
    "ExecuteTime": {
     "end_time": "2025-09-07T16:28:36.233812Z",
     "start_time": "2025-09-07T16:28:36.228584Z"
    }
   },
   "cell_type": "code",
   "source": [
    "def train_pytorch_model(\n",
    "    model_name,\n",
    "    model,\n",
    "    learning_rate,\n",
    "    loss_function,\n",
    "    total_epochs,\n",
    "    train_loader,\n",
    "    test_loader,\n",
    "    test_set,\n",
    "):\n",
    "    device = torch.device(\"cuda\" if torch.cuda.is_available() else \"cpu\")\n",
    "    model.to(device)\n",
    "    optimizer = optim.Adam(model.parameters(), lr=learning_rate)\n",
    "\n",
    "    # Check for existing checkpoint\n",
    "    start_epoch = 0\n",
    "    checkpoint_path = os.path.join(\"checkpoints\", f\"{model_name}_lr{learning_rate}_{loss_function.__class__.__name__}.pth\")\n",
    "    if os.path.exists(checkpoint_path):\n",
    "        start_epoch, last_loss = load_checkpoint(model, optimizer, checkpoint_path, device)\n",
    "        print(f\"Resuming from epoch {start_epoch + 1}, last loss: {last_loss:.3f}\")\n",
    "\n",
    "    with mlflow.start_run(\n",
    "        run_name=f\"{model_name}_lr{learning_rate}_{loss_function.__class__.__name__}_epochs{total_epochs}\"\n",
    "    ):\n",
    "        # Log parameters\n",
    "        mlflow.log_param(\"model_name\", model_name)\n",
    "        mlflow.log_param(\"learning_rate\", learning_rate)\n",
    "        mlflow.log_param(\"loss_function\", loss_function.__class__.__name__)\n",
    "        mlflow.log_param(\"epochs\", total_epochs)\n",
    "        mlflow.log_param(\"batch_size\", train_loader.batch_size)\n",
    "        mlflow.log_param(\"top_k\", 5)\n",
    "        print(\n",
    "            f\"Model: {model_name} - LR {learning_rate} - Loss {loss_function.__class__.__name__} - Epochs {total_epochs}\"\n",
    "        )\n",
    "\n",
    "        for epoch in range(total_epochs):\n",
    "            start = time.perf_counter()\n",
    "            model.train()\n",
    "            total_loss = 0.0\n",
    "\n",
    "            for x1, x2, label in train_loader:\n",
    "                x1, x2, label = x1.to(device), x2.to(device), label.to(device)\n",
    "\n",
    "                optimizer.zero_grad()\n",
    "                y1, y2 = model(x1, x2)\n",
    "                loss = loss_function(y1, y2, label)\n",
    "                loss.backward()\n",
    "                optimizer.step()\n",
    "\n",
    "                total_loss += loss.item()\n",
    "\n",
    "            elapsed = time.perf_counter() - start\n",
    "            avg_loss = total_loss / len(train_loader)\n",
    "            print(f\"Elapsed: {elapsed:.3f}s\")\n",
    "            print(\n",
    "                f\"Epoch [{epoch+1}/{num_epochs}], Loss: {total_loss / len(train_loader):.3f}\"\n",
    "            )\n",
    "            # Save checkpoint\n",
    "            save_checkpoint(model, optimizer, epoch, avg_loss, \"checkpoints\", mlflow.active_run().info.run_id)\n",
    "\n",
    "            # Eval metrics\n",
    "            metrics = evaluate_siamese_model(\n",
    "                model, test_loader, test_set, device, top_k=5\n",
    "            )\n",
    "            print(\n",
    "                f\"Metrics: Accuracy={metrics['accuracy']:.4f}, Precision={metrics['precision']:.4f}, \"\n",
    "                f\"Recall={metrics['recall']:.4f}, F1={metrics['f1']:.4f}, mAP={metrics['mAP']:.4f}\"\n",
    "            )\n",
    "\n",
    "            # Log metrics to MLflow\n",
    "            mlflow.log_metric(\"train_loss\", avg_loss, step=epoch)\n",
    "            mlflow.log_metric(\"accuracy\", metrics[\"accuracy\"], step=epoch)\n",
    "            mlflow.log_metric(\"precision\", metrics[\"precision\"], step=epoch)\n",
    "            mlflow.log_metric(\"recall\", metrics[\"recall\"], step=epoch)\n",
    "            mlflow.log_metric(\"f1\", metrics[\"f1\"], step=epoch)\n",
    "            mlflow.log_metric(\"mAP\", metrics[\"mAP\"], step=epoch)\n",
    "\n",
    "        mlflow.pytorch.log_model(model, \"model\")"
   ],
   "id": "ae025907b47ea23c",
   "outputs": [],
   "execution_count": 79
  },
  {
   "metadata": {
    "ExecuteTime": {
     "end_time": "2025-09-07T16:28:36.807269Z",
     "start_time": "2025-09-07T16:28:36.794688Z"
    }
   },
   "cell_type": "code",
   "source": [
    "# Define transforms\n",
    "transform = transforms.Compose(\n",
    "    [\n",
    "        transforms.Resize((224, 224)),\n",
    "        transforms.ToTensor(),\n",
    "        transforms.Normalize((0.5, 0.5, 0.5), (0.5, 0.5, 0.5)),\n",
    "    ]\n",
    ")\n",
    "\n",
    "X = subset_train_df[\"image_path\"].tolist()\n",
    "y = subset_train_df[\"landmark_id\"].astype(dtype=int).tolist()\n",
    "\n",
    "X_train, X_test, y_train, y_test = train_test_split(\n",
    "    X, y, test_size=0.2, random_state=42, stratify=y\n",
    ")\n",
    "\n",
    "train_set = LandmarksDataset(\n",
    "    image_paths=X_train, landmark_ids=y_train, transform=transform\n",
    ")\n",
    "test_set = LandmarksDataset(\n",
    "    image_paths=X_test, landmark_ids=y_test, transform=transform\n",
    ")\n",
    "siamese_train_dataset = SiameseDataset(train_set)\n",
    "\n",
    "siamese_test_dataset = SiameseDataset(test_set)\n",
    "\n",
    "train_loader = DataLoader(siamese_train_dataset, batch_size=128, shuffle=True)\n",
    "test_loader = DataLoader(siamese_test_dataset, batch_size=128, shuffle=True)\n",
    "\n",
    "print(f\"train size {len(train_loader)} test size {len(test_loader)}\")"
   ],
   "id": "c3b2767b54be043f",
   "outputs": [
    {
     "name": "stdout",
     "output_type": "stream",
     "text": [
      "train size 100 test size 25\n"
     ]
    }
   ],
   "execution_count": 80
  },
  {
   "metadata": {
    "ExecuteTime": {
     "end_time": "2025-09-07T16:28:38.269852Z",
     "start_time": "2025-09-07T16:28:38.267546Z"
    }
   },
   "cell_type": "code",
   "source": [
    "device = torch.device(\"cuda\" if torch.cuda.is_available() else \"cpu\")\n",
    "print(device)"
   ],
   "id": "582743c5bb654df5",
   "outputs": [
    {
     "name": "stdout",
     "output_type": "stream",
     "text": [
      "cuda\n"
     ]
    }
   ],
   "execution_count": 81
  },
  {
   "metadata": {
    "ExecuteTime": {
     "end_time": "2025-09-07T16:28:39.293074Z",
     "start_time": "2025-09-07T16:28:38.508958Z"
    }
   },
   "cell_type": "code",
   "source": [
    "# Define models\n",
    "siamese_cnn_resnet18 = SiameseNetwork()\n",
    "siamese_cnn_resnet50 = SiameseNetwork(resnet50)\n",
    "siamese_cnn_resnet152 = SiameseNetwork(resnet152)"
   ],
   "id": "9a95d088589428ed",
   "outputs": [],
   "execution_count": 82
  },
  {
   "metadata": {
    "ExecuteTime": {
     "end_time": "2025-09-07T16:28:39.345027Z",
     "start_time": "2025-09-07T16:28:39.340463Z"
    }
   },
   "cell_type": "code",
   "source": [
    "# Define hyperparameters\n",
    "learning_rates = [0.001, 0.01, 0.1, 1]\n",
    "num_epochs = [2, 5, 10]\n",
    "loss_functions = [ContrastiveLoss(), CosineSimilarityLoss()]\n",
    "dl_models = [\n",
    "    (\n",
    "        \"Siamese CNN Resnet18\",\n",
    "        siamese_cnn_resnet18,\n",
    "        learning_rates,\n",
    "        loss_functions,\n",
    "        num_epochs,\n",
    "        train_loader,\n",
    "        test_loader,\n",
    "        test_set,\n",
    "    ),\n",
    "    (\n",
    "        \"Siamese CNN Resnet50 \",\n",
    "        siamese_cnn_resnet50,\n",
    "        learning_rates,\n",
    "        loss_functions,\n",
    "        num_epochs,\n",
    "        train_loader,\n",
    "        test_loader,\n",
    "        test_set,\n",
    "    ),\n",
    "    (\n",
    "        \"Siamese CNN Resnet152\",\n",
    "        siamese_cnn_resnet152,\n",
    "        learning_rates,\n",
    "        loss_functions,\n",
    "        num_epochs,\n",
    "        train_loader,\n",
    "        test_loader,\n",
    "        test_set,\n",
    "    ),\n",
    "]"
   ],
   "id": "a1d342fb3e05944d",
   "outputs": [],
   "execution_count": 83
  },
  {
   "metadata": {
    "jupyter": {
     "is_executing": true
    },
    "ExecuteTime": {
     "start_time": "2025-09-07T16:28:39.391105Z"
    }
   },
   "cell_type": "code",
   "source": [
    "# Train each model\n",
    "for dl_model in dl_models:\n",
    "    (\n",
    "        model_name,\n",
    "        model,\n",
    "        lrs,\n",
    "        loss_funcs,\n",
    "        epochs,\n",
    "        train_loader,\n",
    "        test_loader,\n",
    "        test_dataset,\n",
    "    ) = dl_model\n",
    "    for epoch in epochs:\n",
    "        for lr in lrs:\n",
    "            for loss_func in loss_funcs:\n",
    "                train_pytorch_model(\n",
    "                    model_name,\n",
    "                    model,\n",
    "                    lr,\n",
    "                    loss_func,\n",
    "                    epoch,\n",
    "                    train_loader,\n",
    "                    test_loader,\n",
    "                    test_dataset,\n",
    "                )"
   ],
   "id": "bb3bc791489fc110",
   "outputs": [
    {
     "name": "stdout",
     "output_type": "stream",
     "text": [
      "Model: Siamese CNN Resnet18 - LR 0.001 - Loss ContrastiveLoss - Epochs 2\n"
     ]
    }
   ],
   "execution_count": null
  },
  {
   "metadata": {},
   "cell_type": "code",
   "outputs": [],
   "execution_count": null,
   "source": "",
   "id": "bdb68f09fb474935"
  },
  {
   "metadata": {},
   "cell_type": "code",
   "outputs": [],
   "execution_count": null,
   "source": "",
   "id": "e4b52bec99911e2a"
  }
 ],
 "metadata": {
  "kernelspec": {
   "display_name": "Python 3",
   "language": "python",
   "name": "python3"
  },
  "language_info": {
   "codemirror_mode": {
    "name": "ipython",
    "version": 2
   },
   "file_extension": ".py",
   "mimetype": "text/x-python",
   "name": "python",
   "nbconvert_exporter": "python",
   "pygments_lexer": "ipython2",
   "version": "2.7.6"
  }
 },
 "nbformat": 4,
 "nbformat_minor": 5
}
