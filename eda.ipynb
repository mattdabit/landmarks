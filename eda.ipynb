{
 "cells": [
  {
   "cell_type": "code",
   "id": "initial_id",
   "metadata": {
    "collapsed": true
   },
   "source": [
    "import torch\n",
    "\n",
    "import numpy as np\n",
    "import pandas as pd\n",
    "import plotly.express as px\n",
    "from plotly.subplots import make_subplots\n"
   ],
   "outputs": [],
   "execution_count": null
  },
  {
   "metadata": {},
   "cell_type": "code",
   "source": [
    "torch.backends.cuda.matmul.allow_tf32 = True\n",
    "torch.backends.cudnn.allow_tf32 = True"
   ],
   "id": "45a8f988882a82a7",
   "outputs": [],
   "execution_count": null
  },
  {
   "metadata": {},
   "cell_type": "code",
   "source": "train_df = pd.read_parquet(\"data/joined_features_all.parquet\")",
   "id": "b89d162ae82cdffb",
   "outputs": [],
   "execution_count": null
  },
  {
   "metadata": {},
   "cell_type": "code",
   "source": "train_df.sample(5)",
   "id": "2099512d436a9df2",
   "outputs": [],
   "execution_count": null
  },
  {
   "metadata": {},
   "cell_type": "code",
   "source": [
    "# Make local_binary_pattern entries numpy ndarrays\n",
    "def to_ndarray(v):\n",
    "    s = v.strip().strip('[]')\n",
    "    parts = s.replace(',', ' ').split()\n",
    "    return [float(x) for x in parts]"
   ],
   "id": "89e9957efa3dd219",
   "outputs": [],
   "execution_count": null
  },
  {
   "metadata": {},
   "cell_type": "code",
   "source": "train_df['local_binary_pattern'] = train_df['local_binary_pattern'].apply(to_ndarray)",
   "id": "463829abc4c4ed51",
   "outputs": [],
   "execution_count": null
  },
  {
   "metadata": {},
   "cell_type": "code",
   "source": "train_df['landmark_id'] = train_df['landmark_id'].astype(str)",
   "id": "5e717976f3d7154a",
   "outputs": [],
   "execution_count": null
  },
  {
   "metadata": {},
   "cell_type": "code",
   "source": [
    "landmark_counts = train_df['landmark_id'].value_counts()\n",
    "landmark_counts.head()"
   ],
   "id": "903f66ce6d39d382",
   "outputs": [],
   "execution_count": null
  },
  {
   "metadata": {},
   "cell_type": "code",
   "source": [
    "unique_landmarks = train_df['landmark_id'].unique()\n",
    "len(unique_landmarks)"
   ],
   "id": "1fccf7f8a6997b40",
   "outputs": [],
   "execution_count": null
  },
  {
   "metadata": {},
   "cell_type": "markdown",
   "source": "There are 81313 unique landmarks in the dataset.",
   "id": "c86f7339a103b4e0"
  },
  {
   "metadata": {},
   "cell_type": "code",
   "source": [
    "top25 = landmark_counts.head(25)\n",
    "fig = px.bar(\n",
    "    x=top25.index.astype(str),\n",
    "    y=top25.values,\n",
    "    labels={'x': 'Landmark ID', 'y': 'Count'},\n",
    "    title='Top 25 Landmark IDs by Count: 138982 has 3 times as much as next highest landmark'\n",
    ")\n",
    "fig.update_layout(xaxis_tickangle=-45)\n",
    "fig.show()\n",
    "fig.write_image('images/landmark_count.png')"
   ],
   "id": "c520a29f8f3600b8",
   "outputs": [],
   "execution_count": null
  },
  {
   "metadata": {},
   "cell_type": "markdown",
   "source": "The fact that landmark 138982 has 3 times as many images as the next highest landmark is concerning. We should keep an eye on that and may need to reduce the number of samples from that landmark id.",
   "id": "e9d4a7f0258e1f7a"
  },
  {
   "metadata": {},
   "cell_type": "code",
   "source": [
    "fig = px.histogram(\n",
    "    train_df,\n",
    "    x='aspect_ratio',\n",
    "    nbins=20,\n",
    "    labels={'aspect_ratio': 'Aspect Ratio', 'count': 'Count'},\n",
    "    title='Aspect ratio (proportions) is similar for most images'\n",
    ")\n",
    "fig.update_layout(height=500, width=1200)\n",
    "fig.show()\n",
    "fig.write_image('images/aspect_ratio_histogram.png', height=500, width=1200)"
   ],
   "id": "89ecb6870b2c615",
   "outputs": [],
   "execution_count": null
  },
  {
   "metadata": {},
   "cell_type": "code",
   "source": [
    "\n",
    "fig = make_subplots(\n",
    "    rows=1,\n",
    "    cols=3,\n",
    "    subplot_titles=(\"Mean R vs Mean G\", \"Mean G vs Mean B\", \"Mean R vs Mean B\")\n",
    ")\n",
    "\n",
    "trace_rg = px.scatter(train_df, x='mean_r', y='mean_g').data[0]\n",
    "trace_gb = px.scatter(train_df, x='mean_g', y='mean_b').data[0]\n",
    "trace_rb = px.scatter(train_df, x='mean_r', y='mean_b').data[0]\n",
    "\n",
    "fig.add_trace(trace_rg, row=1, col=1)\n",
    "fig.add_trace(trace_gb, row=1, col=2)\n",
    "fig.add_trace(trace_rb, row=1, col=3)\n",
    "\n",
    "fig.update_xaxes(title_text=\"Mean R\", row=1, col=1)\n",
    "fig.update_yaxes(title_text=\"Mean G\", row=1, col=1)\n",
    "fig.update_xaxes(title_text=\"Mean G\", row=1, col=2)\n",
    "fig.update_yaxes(title_text=\"Mean B\", row=1, col=2)\n",
    "fig.update_xaxes(title_text=\"Mean R\", row=1, col=3)\n",
    "fig.update_yaxes(title_text=\"Mean B\", row=1, col=3)\n",
    "\n",
    "fig.update_layout(\n",
    "    title_text=\"Pairwise relationships among Mean R, Mean G, and Mean B across all images. Looks noisy at first\",\n",
    ")\n",
    "\n",
    "fig.show()\n",
    "fig.write_image('images/color_channel_pairwise_all_landmarks.png', height=500, width=1200)\n"
   ],
   "id": "42b5d2d03f332e45",
   "outputs": [],
   "execution_count": null
  },
  {
   "metadata": {},
   "cell_type": "code",
   "source": [
    "selected_ids = unique_landmarks[:5]\n",
    "five_landmarks_df = train_df[train_df['landmark_id'].isin(selected_ids)].copy()"
   ],
   "id": "5c5fdb22fe26ff9a",
   "outputs": [],
   "execution_count": null
  },
  {
   "metadata": {},
   "cell_type": "code",
   "source": [
    "fig = make_subplots(\n",
    "    rows=1,\n",
    "    cols=3,\n",
    "    subplot_titles=(\"Mean R vs Mean G\", \"Mean G vs Mean B\", \"Mean R vs Mean B\")\n",
    ")\n",
    "\n",
    "fig_rg = px.scatter(five_landmarks_df, x='mean_r', y='mean_g', color='landmark_id')\n",
    "for tr in fig_rg.data:\n",
    "    fig.add_trace(tr, row=1, col=1)\n",
    "\n",
    "fig_gb = px.scatter(five_landmarks_df, x='mean_g', y='mean_b', color='landmark_id')\n",
    "for tr in fig_gb.data:\n",
    "    tr.showlegend = False\n",
    "    fig.add_trace(tr, row=1, col=2)\n",
    "\n",
    "fig_rb = px.scatter(five_landmarks_df, x='mean_r', y='mean_b', color='landmark_id')\n",
    "for tr in fig_rb.data:\n",
    "    tr.showlegend = False\n",
    "    fig.add_trace(tr, row=1, col=3)\n",
    "\n",
    "fig.update_xaxes(title_text=\"Mean R\", row=1, col=1)\n",
    "fig.update_yaxes(title_text=\"Mean G\", row=1, col=1)\n",
    "fig.update_xaxes(title_text=\"Mean G\", row=1, col=2)\n",
    "fig.update_yaxes(title_text=\"Mean B\", row=1, col=2)\n",
    "fig.update_xaxes(title_text=\"Mean R\", row=1, col=3)\n",
    "fig.update_yaxes(title_text=\"Mean B\", row=1, col=3)\n",
    "\n",
    "fig.update_layout(\n",
    "    title_text=\"Color channels across 5 landmarks. Indicates color channels could be leverage for landmark identification\",\n",
    ")\n",
    "\n",
    "fig.show()\n",
    "fig.write_image('images/color_channel_pairwise_5_landmarks.png', height=500, width=1200)\n"
   ],
   "id": "7d285e3aad216030",
   "outputs": [],
   "execution_count": null
  },
  {
   "metadata": {},
   "cell_type": "code",
   "source": [
    "\n",
    "fig = px.scatter_3d(\n",
    "    five_landmarks_df,\n",
    "    x='mean_r',\n",
    "    y='mean_g',\n",
    "    z='mean_b',\n",
    "    color='landmark_id',\n",
    "    title='3D Scatter of mean RGB for 5 Landmark IDs'\n",
    ")\n",
    "fig.update_layout(width=1200, height=900)\n",
    "fig.show()\n"
   ],
   "id": "e1059789f16ebcfe",
   "outputs": [],
   "execution_count": null
  },
  {
   "metadata": {},
   "cell_type": "code",
   "source": [
    "def mean_histogram(arrs):\n",
    "    stacked = np.vstack(arrs)\n",
    "    return stacked.mean(axis=0)"
   ],
   "id": "28d8dcd219ef54ca",
   "outputs": [],
   "execution_count": null
  },
  {
   "metadata": {},
   "cell_type": "code",
   "source": [
    "# Plot the Mean Local Binary Pattern histogram\n",
    "lbp_df = five_landmarks_df.dropna(subset=['local_binary_pattern']).copy()\n",
    "\n",
    "first_hist = lbp_df.iloc[0]['local_binary_pattern']\n",
    "n_bins = len(first_hist)\n",
    "# Get histogram mean grouped by landmark\n",
    "mean_hists = lbp_df.groupby('landmark_id', observed=True)['local_binary_pattern'].apply(mean_histogram)\n",
    "\n",
    "records = []\n",
    "for landmark_id, hist in mean_hists.items():\n",
    "    for i, v in enumerate(hist):\n",
    "        records.append({'landmark_id': landmark_id, 'bin': i, 'value': float(v)})\n",
    "plot_df = pd.DataFrame(records)\n",
    "\n",
    "fig = px.line(\n",
    "    plot_df,\n",
    "    x='bin',\n",
    "    y='value',\n",
    "    color='landmark_id',\n",
    "    markers=True,\n",
    "    labels={'bin': 'Local Binary Pattern Bin', 'value': 'Mean Frequency', 'landmark_id': 'Landmark ID'},\n",
    "    title='Mean Local Binary Pattern Histogram per Landmark. Bin 12 & 13 shows differences texture'\n",
    ")\n",
    "fig.update_layout(width=1200, height=700)\n",
    "fig.show()\n",
    "fig.write_image('images/lbp_mean_histogram_5_landmarks.png', width=1200, height=700)\n"
   ],
   "id": "3c994fee2c2f15ea",
   "outputs": [],
   "execution_count": null
  },
  {
   "metadata": {},
   "cell_type": "markdown",
   "source": "Local Binary Patterns is a texture descriptor. It does this by comparing a pixel to its neighboring pixels. It captures the intensity of each pixel and compares their intensities. It will assign 1 if the neighboring pixel's intensity is greater than the pixel currently being assessed. Otherwise, LBP will assign 0. The algorithm then combines the binary values of all the neighboring pixels to create a value for the pixel being assessed. It does this for all the pixels in the image to create a binary code representing the texture of the image.",
   "id": "510395be4a54a3d0"
  },
  {
   "metadata": {},
   "cell_type": "code",
   "source": [
    "fig = px.scatter(\n",
    "    five_landmarks_df,\n",
    "    x='x',\n",
    "    y='y',\n",
    "    color='landmark_id',\n",
    "    labels={'x': 'Embedding 2d X', 'y': 'Embedding 2d Y', 'landmark_id': 'Landmark ID'},\n",
    "    title='2d Embedding shows promise in clustering images by embeddings'\n",
    ")\n",
    "fig.update_layout(width=1200, height=700)\n",
    "fig.show()\n",
    "fig.write_image('images/embedding_2d_scatter_5_landmarks.png', width=1200, height=700)"
   ],
   "id": "6273cd0c62d2e514",
   "outputs": [],
   "execution_count": null
  },
  {
   "metadata": {},
   "cell_type": "code",
   "source": [
    "fig = px.scatter(\n",
    "    train_df[train_df['landmark_id'].isin(unique_landmarks[:25])],\n",
    "    x='x',\n",
    "    y='y',\n",
    "    color='landmark_id',\n",
    "    labels={'x': 'Embedding 2d X', 'y': 'Embedding 2d Y', 'landmark_id': 'Landmark ID'},\n",
    "    title='2d Embedding shows promise in clustering images by embeddings 25 landmarks'\n",
    ")\n",
    "fig.update_layout(width=1200, height=700)\n",
    "fig.show()\n",
    "fig.write_image('images/embedding_2d_scatter_25_landmarks.png', width=1200, height=700)"
   ],
   "id": "af583fada187961",
   "outputs": [],
   "execution_count": null
  },
  {
   "metadata": {},
   "cell_type": "code",
   "source": "",
   "id": "b738705821aa2db2",
   "outputs": [],
   "execution_count": null
  }
 ],
 "metadata": {
  "kernelspec": {
   "display_name": "Python 3",
   "language": "python",
   "name": "python3"
  },
  "language_info": {
   "codemirror_mode": {
    "name": "ipython",
    "version": 2
   },
   "file_extension": ".py",
   "mimetype": "text/x-python",
   "name": "python",
   "nbconvert_exporter": "python",
   "pygments_lexer": "ipython2",
   "version": "2.7.6"
  }
 },
 "nbformat": 4,
 "nbformat_minor": 5
}
