{
 "cells": [
  {
   "cell_type": "code",
   "id": "initial_id",
   "metadata": {
    "collapsed": true,
    "ExecuteTime": {
     "end_time": "2025-09-01T22:19:49.399207Z",
     "start_time": "2025-09-01T22:19:49.393826Z"
    }
   },
   "source": [
    "import torch\n",
    "\n",
    "import numpy as np\n",
    "import pandas as pd\n",
    "import plotly.express as px\n",
    "from plotly.subplots import make_subplots\n"
   ],
   "outputs": [],
   "execution_count": 52
  },
  {
   "metadata": {
    "ExecuteTime": {
     "end_time": "2025-09-01T22:19:49.585551Z",
     "start_time": "2025-09-01T22:19:49.582968Z"
    }
   },
   "cell_type": "code",
   "source": [
    "torch.backends.cuda.matmul.allow_tf32 = True\n",
    "torch.backends.cudnn.allow_tf32 = True"
   ],
   "id": "45a8f988882a82a7",
   "outputs": [],
   "execution_count": 53
  },
  {
   "metadata": {},
   "cell_type": "markdown",
   "source": "## Data Analysis",
   "id": "764627fe01d49892"
  },
  {
   "metadata": {
    "ExecuteTime": {
     "end_time": "2025-09-01T22:19:57.682073Z",
     "start_time": "2025-09-01T22:19:50.418945Z"
    }
   },
   "cell_type": "code",
   "source": "train_df = pd.read_parquet(\"data/joined_features_all.parquet\")",
   "id": "b89d162ae82cdffb",
   "outputs": [],
   "execution_count": 54
  },
  {
   "metadata": {
    "ExecuteTime": {
     "end_time": "2025-09-01T22:19:57.712701Z",
     "start_time": "2025-09-01T22:19:57.683242Z"
    }
   },
   "cell_type": "code",
   "source": "train_df.sample(5)",
   "id": "2099512d436a9df2",
   "outputs": [
    {
     "data": {
      "text/plain": [
       "                       id  landmark_id            image_path  width  height  \\\n",
       "687536   1706347c1914357a        88202  1706347c1914357a.jpg    800     618   \n",
       "421066   4eaae9e522e9a7f7        53057  4eaae9e522e9a7f7.jpg    507     800   \n",
       "666640   dac7c376e2eab047        85469  dac7c376e2eab047.jpg    800     535   \n",
       "396734   04722c93ef4e1d74        49944  04722c93ef4e1d74.jpg    800     538   \n",
       "1101358  9b6ed045b618f068       141327  9b6ed045b618f068.jpg    800     531   \n",
       "\n",
       "         aspect_ratio                                  mean_rgb      mean_r  \\\n",
       "687536       1.294498  [ 98.83040655 109.88985841 114.41238471]   98.830407   \n",
       "421066       0.633750  [ 97.01310651  96.87585059 103.43560651]   97.013107   \n",
       "666640       1.495327  [142.75089486 137.35990421 110.52107009]  142.750895   \n",
       "396734       1.486989  [109.65175883 116.64281366 104.80120121]  109.651759   \n",
       "1101358      1.506591  [145.18439736 145.52766243 149.36921846]  145.184397   \n",
       "\n",
       "             mean_g      mean_b          x          y  \\\n",
       "687536   109.889858  114.412385  13.738263  48.780121   \n",
       "421066    96.875851  103.435607  -9.383646 -78.792763   \n",
       "666640   137.359904  110.521070   2.297488  10.561658   \n",
       "396734   116.642814  104.801201 -38.992523 -34.496437   \n",
       "1101358  145.527662  149.369218 -51.651123 -35.093266   \n",
       "\n",
       "                                      local_binary_pattern  \n",
       "687536   [0.038483009708737866,0.01729368932038835,0.01...  \n",
       "421066   [0.03420611439842209,0.017625739644970415,0.01...  \n",
       "666640   [0.04666121495327103,0.02627570093457944,0.018...  \n",
       "396734   [0.03552044609665427,0.01920539033457249,0.017...  \n",
       "1101358  [0.03171845574387947,0.019748116760828625,0.01...  "
      ],
      "text/html": [
       "<div>\n",
       "<style scoped>\n",
       "    .dataframe tbody tr th:only-of-type {\n",
       "        vertical-align: middle;\n",
       "    }\n",
       "\n",
       "    .dataframe tbody tr th {\n",
       "        vertical-align: top;\n",
       "    }\n",
       "\n",
       "    .dataframe thead th {\n",
       "        text-align: right;\n",
       "    }\n",
       "</style>\n",
       "<table border=\"1\" class=\"dataframe\">\n",
       "  <thead>\n",
       "    <tr style=\"text-align: right;\">\n",
       "      <th></th>\n",
       "      <th>id</th>\n",
       "      <th>landmark_id</th>\n",
       "      <th>image_path</th>\n",
       "      <th>width</th>\n",
       "      <th>height</th>\n",
       "      <th>aspect_ratio</th>\n",
       "      <th>mean_rgb</th>\n",
       "      <th>mean_r</th>\n",
       "      <th>mean_g</th>\n",
       "      <th>mean_b</th>\n",
       "      <th>x</th>\n",
       "      <th>y</th>\n",
       "      <th>local_binary_pattern</th>\n",
       "    </tr>\n",
       "  </thead>\n",
       "  <tbody>\n",
       "    <tr>\n",
       "      <th>687536</th>\n",
       "      <td>1706347c1914357a</td>\n",
       "      <td>88202</td>\n",
       "      <td>1706347c1914357a.jpg</td>\n",
       "      <td>800</td>\n",
       "      <td>618</td>\n",
       "      <td>1.294498</td>\n",
       "      <td>[ 98.83040655 109.88985841 114.41238471]</td>\n",
       "      <td>98.830407</td>\n",
       "      <td>109.889858</td>\n",
       "      <td>114.412385</td>\n",
       "      <td>13.738263</td>\n",
       "      <td>48.780121</td>\n",
       "      <td>[0.038483009708737866,0.01729368932038835,0.01...</td>\n",
       "    </tr>\n",
       "    <tr>\n",
       "      <th>421066</th>\n",
       "      <td>4eaae9e522e9a7f7</td>\n",
       "      <td>53057</td>\n",
       "      <td>4eaae9e522e9a7f7.jpg</td>\n",
       "      <td>507</td>\n",
       "      <td>800</td>\n",
       "      <td>0.633750</td>\n",
       "      <td>[ 97.01310651  96.87585059 103.43560651]</td>\n",
       "      <td>97.013107</td>\n",
       "      <td>96.875851</td>\n",
       "      <td>103.435607</td>\n",
       "      <td>-9.383646</td>\n",
       "      <td>-78.792763</td>\n",
       "      <td>[0.03420611439842209,0.017625739644970415,0.01...</td>\n",
       "    </tr>\n",
       "    <tr>\n",
       "      <th>666640</th>\n",
       "      <td>dac7c376e2eab047</td>\n",
       "      <td>85469</td>\n",
       "      <td>dac7c376e2eab047.jpg</td>\n",
       "      <td>800</td>\n",
       "      <td>535</td>\n",
       "      <td>1.495327</td>\n",
       "      <td>[142.75089486 137.35990421 110.52107009]</td>\n",
       "      <td>142.750895</td>\n",
       "      <td>137.359904</td>\n",
       "      <td>110.521070</td>\n",
       "      <td>2.297488</td>\n",
       "      <td>10.561658</td>\n",
       "      <td>[0.04666121495327103,0.02627570093457944,0.018...</td>\n",
       "    </tr>\n",
       "    <tr>\n",
       "      <th>396734</th>\n",
       "      <td>04722c93ef4e1d74</td>\n",
       "      <td>49944</td>\n",
       "      <td>04722c93ef4e1d74.jpg</td>\n",
       "      <td>800</td>\n",
       "      <td>538</td>\n",
       "      <td>1.486989</td>\n",
       "      <td>[109.65175883 116.64281366 104.80120121]</td>\n",
       "      <td>109.651759</td>\n",
       "      <td>116.642814</td>\n",
       "      <td>104.801201</td>\n",
       "      <td>-38.992523</td>\n",
       "      <td>-34.496437</td>\n",
       "      <td>[0.03552044609665427,0.01920539033457249,0.017...</td>\n",
       "    </tr>\n",
       "    <tr>\n",
       "      <th>1101358</th>\n",
       "      <td>9b6ed045b618f068</td>\n",
       "      <td>141327</td>\n",
       "      <td>9b6ed045b618f068.jpg</td>\n",
       "      <td>800</td>\n",
       "      <td>531</td>\n",
       "      <td>1.506591</td>\n",
       "      <td>[145.18439736 145.52766243 149.36921846]</td>\n",
       "      <td>145.184397</td>\n",
       "      <td>145.527662</td>\n",
       "      <td>149.369218</td>\n",
       "      <td>-51.651123</td>\n",
       "      <td>-35.093266</td>\n",
       "      <td>[0.03171845574387947,0.019748116760828625,0.01...</td>\n",
       "    </tr>\n",
       "  </tbody>\n",
       "</table>\n",
       "</div>"
      ]
     },
     "execution_count": 55,
     "metadata": {},
     "output_type": "execute_result"
    }
   ],
   "execution_count": 55
  },
  {
   "metadata": {},
   "cell_type": "code",
   "source": [
    "# Make local_binary_pattern entries numpy ndarrays\n",
    "def to_ndarray(v):\n",
    "    s = v.strip().strip('[]')\n",
    "    parts = s.replace(',', ' ').split()\n",
    "    return [float(x) for x in parts]"
   ],
   "id": "89e9957efa3dd219",
   "outputs": [],
   "execution_count": null
  },
  {
   "metadata": {},
   "cell_type": "code",
   "source": "train_df['local_binary_pattern'] = train_df['local_binary_pattern'].apply(to_ndarray)",
   "id": "463829abc4c4ed51",
   "outputs": [],
   "execution_count": null
  },
  {
   "metadata": {},
   "cell_type": "code",
   "source": "train_df['landmark_id'] = train_df['landmark_id'].astype(str)",
   "id": "5e717976f3d7154a",
   "outputs": [],
   "execution_count": null
  },
  {
   "metadata": {},
   "cell_type": "code",
   "source": [
    "landmark_counts = train_df['landmark_id'].value_counts()\n",
    "landmark_counts.head()"
   ],
   "id": "903f66ce6d39d382",
   "outputs": [],
   "execution_count": null
  },
  {
   "metadata": {},
   "cell_type": "code",
   "source": [
    "unique_landmarks = train_df['landmark_id'].unique()\n",
    "len(unique_landmarks)"
   ],
   "id": "1fccf7f8a6997b40",
   "outputs": [],
   "execution_count": null
  },
  {
   "metadata": {},
   "cell_type": "markdown",
   "source": "There are 81313 unique landmarks in the dataset.",
   "id": "c86f7339a103b4e0"
  },
  {
   "metadata": {},
   "cell_type": "code",
   "source": [
    "top25 = landmark_counts.head(25)\n",
    "fig = px.bar(\n",
    "    x=top25.index.astype(str),\n",
    "    y=top25.values,\n",
    "    labels={'x': 'Landmark ID', 'y': 'Count'},\n",
    "    title='Top 25 Landmark IDs by Count: 138982 has 3 times as much as next highest landmark'\n",
    ")\n",
    "fig.update_layout(xaxis_tickangle=-45)\n",
    "fig.show()\n",
    "fig.write_image('images/landmark_count.png')"
   ],
   "id": "c520a29f8f3600b8",
   "outputs": [],
   "execution_count": null
  },
  {
   "metadata": {},
   "cell_type": "markdown",
   "source": "The fact that landmark 138982 has 3 times as many images as the next highest landmark is concerning. We should keep an eye on that and may need to reduce the number of samples from that landmark id.",
   "id": "e9d4a7f0258e1f7a"
  },
  {
   "metadata": {},
   "cell_type": "code",
   "source": [
    "fig = px.histogram(\n",
    "    train_df,\n",
    "    x='aspect_ratio',\n",
    "    nbins=20,\n",
    "    labels={'aspect_ratio': 'Aspect Ratio', 'count': 'Count'},\n",
    "    title='Aspect ratio (proportions) is similar for most images'\n",
    ")\n",
    "fig.update_layout(height=500, width=1200)\n",
    "fig.show()\n",
    "fig.write_image('images/aspect_ratio_histogram.png', height=500, width=1200)"
   ],
   "id": "89ecb6870b2c615",
   "outputs": [],
   "execution_count": null
  },
  {
   "metadata": {},
   "cell_type": "code",
   "source": [
    "\n",
    "fig = make_subplots(\n",
    "    rows=1,\n",
    "    cols=3,\n",
    "    subplot_titles=(\"Mean R vs Mean G\", \"Mean G vs Mean B\", \"Mean R vs Mean B\")\n",
    ")\n",
    "\n",
    "trace_rg = px.scatter(train_df, x='mean_r', y='mean_g').data[0]\n",
    "trace_gb = px.scatter(train_df, x='mean_g', y='mean_b').data[0]\n",
    "trace_rb = px.scatter(train_df, x='mean_r', y='mean_b').data[0]\n",
    "\n",
    "fig.add_trace(trace_rg, row=1, col=1)\n",
    "fig.add_trace(trace_gb, row=1, col=2)\n",
    "fig.add_trace(trace_rb, row=1, col=3)\n",
    "\n",
    "fig.update_xaxes(title_text=\"Mean R\", row=1, col=1)\n",
    "fig.update_yaxes(title_text=\"Mean G\", row=1, col=1)\n",
    "fig.update_xaxes(title_text=\"Mean G\", row=1, col=2)\n",
    "fig.update_yaxes(title_text=\"Mean B\", row=1, col=2)\n",
    "fig.update_xaxes(title_text=\"Mean R\", row=1, col=3)\n",
    "fig.update_yaxes(title_text=\"Mean B\", row=1, col=3)\n",
    "\n",
    "fig.update_layout(\n",
    "    title_text=\"Pairwise relationships among Mean R, Mean G, and Mean B across all images. Looks noisy at first\",\n",
    ")\n",
    "\n",
    "fig.show()\n",
    "fig.write_image('images/color_channel_pairwise_all_landmarks.png', height=500, width=1200)\n"
   ],
   "id": "42b5d2d03f332e45",
   "outputs": [],
   "execution_count": null
  },
  {
   "metadata": {},
   "cell_type": "code",
   "source": [
    "selected_ids = unique_landmarks[:5]\n",
    "five_landmarks_df = train_df[train_df['landmark_id'].isin(selected_ids)].copy()"
   ],
   "id": "5c5fdb22fe26ff9a",
   "outputs": [],
   "execution_count": null
  },
  {
   "metadata": {},
   "cell_type": "markdown",
   "source": [
    "These are the landmarks selected by the above code. Since we are dealing with over 80,000 unique landmarks and over 1.5 million images, I will limit our analysis to a subset of landmarks.\n",
    "- Landmark 1  \n",
    "![Landmark 1](data/train/1/7/6/17660ef415d37059.jpg)\n",
    "\n",
    "- Landmark 7  \n",
    "![Landmark 7](data/train/2/8/b/28b13f94a6f1f3c1.jpg)\n",
    "\n",
    "- Landmark 9  \n",
    "![Landmark 9](data/train/0/1/9/0193b65bb58d2c77.jpg)\n",
    "\n",
    "- Landmark 11  \n",
    "![Landmark 11](data/train/1/a/6/1a6cb1deed46bb17.jpg)\n",
    "\n",
    "- Landmark 12  \n",
    "![Landmark 12](data/train/1/4/9/1492a5d344495391.jpg)\n"
   ],
   "id": "40d715ea35f9c7d2"
  },
  {
   "metadata": {},
   "cell_type": "code",
   "source": [
    "fig = make_subplots(\n",
    "    rows=1,\n",
    "    cols=3,\n",
    "    subplot_titles=(\"Mean R vs Mean G\", \"Mean G vs Mean B\", \"Mean R vs Mean B\")\n",
    ")\n",
    "\n",
    "fig_rg = px.scatter(five_landmarks_df, x='mean_r', y='mean_g', color='landmark_id')\n",
    "for tr in fig_rg.data:\n",
    "    fig.add_trace(tr, row=1, col=1)\n",
    "\n",
    "fig_gb = px.scatter(five_landmarks_df, x='mean_g', y='mean_b', color='landmark_id')\n",
    "for tr in fig_gb.data:\n",
    "    tr.showlegend = False\n",
    "    fig.add_trace(tr, row=1, col=2)\n",
    "\n",
    "fig_rb = px.scatter(five_landmarks_df, x='mean_r', y='mean_b', color='landmark_id')\n",
    "for tr in fig_rb.data:\n",
    "    tr.showlegend = False\n",
    "    fig.add_trace(tr, row=1, col=3)\n",
    "\n",
    "fig.update_xaxes(title_text=\"Mean R\", row=1, col=1)\n",
    "fig.update_yaxes(title_text=\"Mean G\", row=1, col=1)\n",
    "fig.update_xaxes(title_text=\"Mean G\", row=1, col=2)\n",
    "fig.update_yaxes(title_text=\"Mean B\", row=1, col=2)\n",
    "fig.update_xaxes(title_text=\"Mean R\", row=1, col=3)\n",
    "fig.update_yaxes(title_text=\"Mean B\", row=1, col=3)\n",
    "\n",
    "fig.update_layout(\n",
    "    title_text=\"Color channels across 5 landmarks. Indicates color channels could be leverage for landmark identification\",\n",
    ")\n",
    "\n",
    "fig.show()\n",
    "fig.write_image('images/color_channel_pairwise_5_landmarks.png', height=500, width=1200)\n"
   ],
   "id": "7d285e3aad216030",
   "outputs": [],
   "execution_count": null
  },
  {
   "metadata": {},
   "cell_type": "code",
   "source": [
    "\n",
    "fig = px.scatter_3d(\n",
    "    five_landmarks_df,\n",
    "    x='mean_r',\n",
    "    y='mean_g',\n",
    "    z='mean_b',\n",
    "    color='landmark_id',\n",
    "    title='3D Scatter of mean RGB for 5 Landmark IDs'\n",
    ")\n",
    "fig.update_layout(width=1200, height=900)\n",
    "fig.show()\n"
   ],
   "id": "e1059789f16ebcfe",
   "outputs": [],
   "execution_count": null
  },
  {
   "metadata": {},
   "cell_type": "code",
   "source": [
    "def mean_histogram(arrs):\n",
    "    stacked = np.vstack(arrs)\n",
    "    return stacked.mean(axis=0)"
   ],
   "id": "28d8dcd219ef54ca",
   "outputs": [],
   "execution_count": null
  },
  {
   "metadata": {},
   "cell_type": "code",
   "source": [
    "# Plot the Mean Local Binary Pattern histogram\n",
    "lbp_df = five_landmarks_df.dropna(subset=['local_binary_pattern']).copy()\n",
    "\n",
    "first_hist = lbp_df.iloc[0]['local_binary_pattern']\n",
    "n_bins = len(first_hist)\n",
    "# Get histogram mean grouped by landmark\n",
    "mean_hists = lbp_df.groupby('landmark_id', observed=True)['local_binary_pattern'].apply(mean_histogram)\n",
    "\n",
    "records = []\n",
    "for landmark_id, hist in mean_hists.items():\n",
    "    for i, v in enumerate(hist):\n",
    "        records.append({'landmark_id': landmark_id, 'bin': i, 'value': float(v)})\n",
    "plot_df = pd.DataFrame(records)\n",
    "\n",
    "fig = px.line(\n",
    "    plot_df,\n",
    "    x='bin',\n",
    "    y='value',\n",
    "    color='landmark_id',\n",
    "    markers=True,\n",
    "    labels={'bin': 'Local Binary Pattern Bin', 'value': 'Mean Frequency', 'landmark_id': 'Landmark ID'},\n",
    "    title='Mean Local Binary Pattern Histogram per Landmark. Bin 12 & 13 shows differences texture'\n",
    ")\n",
    "fig.update_layout(width=1200, height=700)\n",
    "fig.show()\n",
    "fig.write_image('images/lbp_mean_histogram_5_landmarks.png', width=1200, height=700)\n"
   ],
   "id": "3c994fee2c2f15ea",
   "outputs": [],
   "execution_count": null
  },
  {
   "metadata": {},
   "cell_type": "markdown",
   "source": "Local Binary Patterns is a texture descriptor. It does this by comparing a pixel to its neighboring pixels. It captures the intensity of each pixel and compares their intensities. It will assign 1 if the neighboring pixel's intensity is greater than the pixel currently being assessed. Otherwise, LBP will assign 0. The algorithm then combines the binary values of all the neighboring pixels to create a value for the pixel being assessed. It does this for all the pixels in the image to create a binary code representing the texture of the image.",
   "id": "510395be4a54a3d0"
  },
  {
   "metadata": {},
   "cell_type": "code",
   "source": [
    "fig = px.scatter(\n",
    "    five_landmarks_df,\n",
    "    x='x',\n",
    "    y='y',\n",
    "    color='landmark_id',\n",
    "    labels={'x': 'Embedding 2d X', 'y': 'Embedding 2d Y', 'landmark_id': 'Landmark ID'},\n",
    "    title='2d Embedding shows promise in clustering images by embeddings'\n",
    ")\n",
    "fig.update_layout(width=1200, height=700)\n",
    "fig.show()\n",
    "fig.write_image('images/embedding_2d_scatter_5_landmarks.png', width=1200, height=700)"
   ],
   "id": "6273cd0c62d2e514",
   "outputs": [],
   "execution_count": null
  },
  {
   "metadata": {},
   "cell_type": "code",
   "source": [
    "fig = px.scatter(\n",
    "    train_df[train_df['landmark_id'].isin(unique_landmarks[:25])],\n",
    "    x='x',\n",
    "    y='y',\n",
    "    color='landmark_id',\n",
    "    labels={'x': 'Embedding 2d X', 'y': 'Embedding 2d Y', 'landmark_id': 'Landmark ID'},\n",
    "    title='2d Embedding shows promise in clustering images by embeddings 25 landmarks'\n",
    ")\n",
    "fig.update_layout(width=1200, height=700)\n",
    "fig.show()\n",
    "fig.write_image('images/embedding_2d_scatter_25_landmarks.png', width=1200, height=700)"
   ],
   "id": "af583fada187961",
   "outputs": [],
   "execution_count": null
  },
  {
   "metadata": {},
   "cell_type": "markdown",
   "source": "A 2D embedding squashes an image down to just two numbers: X and Y. Each image becomes a single point on a 2D plane. This is principle component analysis put into practice. We take the full embedding of an image and convert that full embedding down to two features.\n",
   "id": "e1aee4db15a159e1"
  },
  {
   "metadata": {},
   "cell_type": "markdown",
   "source": "### Modeling",
   "id": "4a4aad1d85976de5"
  },
  {
   "metadata": {},
   "cell_type": "code",
   "outputs": [],
   "execution_count": null,
   "source": "",
   "id": "49f974a3b96e939e"
  }
 ],
 "metadata": {
  "kernelspec": {
   "display_name": "Python 3",
   "language": "python",
   "name": "python3"
  },
  "language_info": {
   "codemirror_mode": {
    "name": "ipython",
    "version": 2
   },
   "file_extension": ".py",
   "mimetype": "text/x-python",
   "name": "python",
   "nbconvert_exporter": "python",
   "pygments_lexer": "ipython2",
   "version": "2.7.6"
  }
 },
 "nbformat": 4,
 "nbformat_minor": 5
}
