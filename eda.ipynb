{
 "cells": [
  {
   "cell_type": "code",
   "id": "initial_id",
   "metadata": {
    "collapsed": true
   },
   "source": [
    "import os\n",
    "import torch\n",
    "\n",
    "import numpy as np\n",
    "import pandas as pd\n",
    "import plotly.express as px\n",
    "\n",
    "from PIL import Image\n",
    "from sklearn.manifold import TSNE\n",
    "from torchvision.models import resnet50\n",
    "from torchvision.transforms import transforms"
   ],
   "outputs": [],
   "execution_count": null
  },
  {
   "metadata": {},
   "cell_type": "code",
   "source": [
    "train_df = pd.read_csv(\"data/train.csv\")"
   ],
   "id": "f66f9640c0d79291",
   "outputs": [],
   "execution_count": null
  },
  {
   "metadata": {},
   "cell_type": "code",
   "source": [
    "landmark_counts = train_df['landmark_id'].value_counts()\n",
    "print(landmark_counts.head())"
   ],
   "id": "e374207a8f69b6a4",
   "outputs": [],
   "execution_count": null
  },
  {
   "metadata": {},
   "cell_type": "code",
   "source": [
    "def extract_image_stats(image_path):\n",
    "    img = Image.open(image_path)\n",
    "    width, height = img.size\n",
    "    aspect_ratio = width / height\n",
    "    colors = np.array(img).reshape(-1, 3).mean(axis=0)  # Mean RGB\n",
    "    return width, height, aspect_ratio, colors\n"
   ],
   "id": "2a8305aa6d9e0101",
   "outputs": [],
   "execution_count": null
  },
  {
   "metadata": {},
   "cell_type": "code",
   "source": [
    "image_dir = 'data/train/0/0/0/'\n",
    "image_stats = []\n",
    "for img_name in os.listdir(image_dir)[:100]:  # Limit for demo\n",
    "    stats = extract_image_stats(os.path.join(image_dir, img_name))\n",
    "    image_stats.append(stats)"
   ],
   "id": "fbb7c00b894476ad",
   "outputs": [],
   "execution_count": null
  },
  {
   "metadata": {},
   "cell_type": "code",
   "source": "image_stats",
   "id": "5a6387a01a6ed298",
   "outputs": [],
   "execution_count": null
  },
  {
   "metadata": {},
   "cell_type": "code",
   "source": [
    "def get_embedding(image_path):\n",
    "    img = Image.open(image_path).convert('RGB')\n",
    "    img_t = transform(img).unsqueeze(0)\n",
    "    with torch.no_grad():\n",
    "        embedding = model(img_t).numpy().flatten()\n",
    "    return embedding"
   ],
   "id": "7ecc4261e7084384",
   "outputs": [],
   "execution_count": null
  },
  {
   "metadata": {},
   "cell_type": "code",
   "source": [
    "model = resnet50(pretrained=True).eval()\n",
    "transform = transforms.Compose([\n",
    "    transforms.Resize((224, 224)),\n",
    "    transforms.ToTensor(),\n",
    "    transforms.Normalize(mean=[0.485, 0.456, 0.406], std=[0.229, 0.224, 0.225])\n",
    "])\n",
    "\n",
    "embeddings = [get_embedding(os.path.join(image_dir, img_name)) for img_name in os.listdir(image_dir)[:100]]"
   ],
   "id": "ca6692370da58174",
   "outputs": [],
   "execution_count": null
  },
  {
   "metadata": {},
   "cell_type": "code",
   "source": "embeddings",
   "id": "60deb0e31fafc68b",
   "outputs": [],
   "execution_count": null
  },
  {
   "metadata": {},
   "cell_type": "code",
   "source": [
    "fig = px.histogram(landmark_counts, x=landmark_counts.index.astype(str), y='count', nbins=50)\n",
    "fig.show()"
   ],
   "id": "277c8808c8bc7a45",
   "outputs": [],
   "execution_count": null
  },
  {
   "metadata": {},
   "cell_type": "code",
   "source": [
    "top15 = landmark_counts.head(15)\n",
    "fig = px.bar(top15, x=top15.index.astype(str), y='count')\n",
    "fig.show()"
   ],
   "id": "fc6b236f0e80943e",
   "outputs": [],
   "execution_count": null
  },
  {
   "metadata": {},
   "cell_type": "code",
   "source": [
    "stats_df = pd.DataFrame(image_stats, columns=['width', 'height', 'aspect_ratio', 'mean_rgb'])\n",
    "stats_df['mean_r'] = stats_df['mean_rgb'].apply(lambda x: x[0])\n",
    "stats_df['mean_g'] = stats_df['mean_rgb'].apply(lambda x: x[1])\n",
    "stats_df['mean_b'] = stats_df['mean_rgb'].apply(lambda x: x[2])\n"
   ],
   "id": "8f900f15b7546846",
   "outputs": [],
   "execution_count": null
  },
  {
   "metadata": {},
   "cell_type": "code",
   "source": [
    "fig = px.histogram(stats_df, x='aspect_ratio', nbins=50)\n",
    "fig.show()"
   ],
   "id": "f62692325742969f",
   "outputs": [],
   "execution_count": null
  },
  {
   "metadata": {},
   "cell_type": "code",
   "source": [
    "fig = px.scatter(stats_df, x='mean_r', y='mean_g')\n",
    "fig.show()\n"
   ],
   "id": "9825f847f6770e24",
   "outputs": [],
   "execution_count": null
  },
  {
   "metadata": {},
   "cell_type": "code",
   "source": "stats_df",
   "id": "302838a33a920e04",
   "outputs": [],
   "execution_count": null
  },
  {
   "metadata": {},
   "cell_type": "code",
   "source": [
    "embeddings = np.array(embeddings)\n",
    "tsne = TSNE(n_components=2, random_state=42)\n",
    "embeddings_2d = tsne.fit_transform(embeddings)\n",
    "\n",
    "fig = px.scatter(embeddings_2d, x=0, y=1)\n",
    "fig.show()"
   ],
   "id": "93f8e3da0523b51c",
   "outputs": [],
   "execution_count": null
  },
  {
   "metadata": {},
   "cell_type": "code",
   "source": "embeddings_2d",
   "id": "ae701feb176d0879",
   "outputs": [],
   "execution_count": null
  }
 ],
 "metadata": {
  "kernelspec": {
   "display_name": "Python 3",
   "language": "python",
   "name": "python3"
  },
  "language_info": {
   "codemirror_mode": {
    "name": "ipython",
    "version": 2
   },
   "file_extension": ".py",
   "mimetype": "text/x-python",
   "name": "python",
   "nbconvert_exporter": "python",
   "pygments_lexer": "ipython2",
   "version": "2.7.6"
  }
 },
 "nbformat": 4,
 "nbformat_minor": 5
}
